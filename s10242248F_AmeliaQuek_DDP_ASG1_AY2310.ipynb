{
 "cells": [
  {
   "cell_type": "markdown",
   "metadata": {},
   "source": [
    "<table class=\"table table-bordered\">\n",
    "<tr>\n",
    "<th style=\"text-align:center; vertical-align: middle; width:50%\"><img src='https://www.np.edu.sg/images/default-source/default-album/img-logo.png'\"></th>\n",
    "        <th style=\"text-align:center;\"><h1>Distributed Data Pipelines</h1><h2>Assignment 1 </h2><h3>Diploma in Data Science</h3></th>\n",
    "    </tr>\n",
    "</table>"
   ]
  },
  {
   "cell_type": "markdown",
   "metadata": {},
   "source": [
    "Learning Objectives:\n",
    "- Design PySpark Based Machine Learning\n",
    "- Execute PySpark Syntax Correctly\n",
    "- Evaluate and Select Final Model based on Metrics"
   ]
  },
  {
   "cell_type": "markdown",
   "metadata": {},
   "source": [
    "You will be **graded on the use of PySpark**, so usage of **Pandas itself should be avoided as much as possible**, especially if a particular native method or function is already available in PySpark. **Penalties will be imposed in such cases.**"
   ]
  },
  {
   "cell_type": "code",
   "execution_count": 1,
   "metadata": {},
   "outputs": [],
   "source": [
    "import findspark\n",
    "findspark.init()\n",
    "\n",
    "from pyspark.sql import*\n",
    "from pyspark.sql.functions import *\n",
    "from pyspark.ml.feature import *\n",
    "from pyspark.sql.types import *\n",
    "from pyspark.ml import *\n",
    "\n",
    "spark = SparkSession.builder.appName('DDPASG1').getOrCreate()"
   ]
  },
  {
   "cell_type": "markdown",
   "metadata": {},
   "source": [
    "# Table Of Contents\n",
    "\n",
    "## 1. [Problem Statement Formulation](#part1)\n",
    "\n",
    "## 2. [Exploratory Data Analysis and Data Cleansing](#part2)\n",
    "\n",
    "## 3. [Data Wrangling and Transformation](#part3)\n",
    "\n",
    "## 4. [Machine Learning Modelling](#part4)\n",
    "\n",
    "## 5. [Model Evaluation and Selection](#part5)\n",
    "\n",
    "## 6. [Summary and Further Improvements](#part6)"
   ]
  },
  {
   "cell_type": "markdown",
   "metadata": {},
   "source": [
    "### Step 1: Problem Statement Formulation<a id=\"part1\"></a>"
   ]
  },
  {
   "cell_type": "code",
   "execution_count": 2,
   "metadata": {},
   "outputs": [],
   "source": [
    "# load and explore data\n",
    "\n",
    "ppty_data=spark.read.csv('./data/thailand_ppty_asg1.csv', header=True, inferSchema=True)"
   ]
  },
  {
   "cell_type": "code",
   "execution_count": 3,
   "metadata": {},
   "outputs": [
    {
     "name": "stdout",
     "output_type": "stream",
     "text": [
      "root\n",
      " |-- sub_property_type: string (nullable = true)\n",
      " |-- living_space: double (nullable = true)\n",
      " |-- bathroom_number: integer (nullable = true)\n",
      " |-- currency: string (nullable = true)\n",
      " |-- property_type: string (nullable = true)\n",
      " |-- property_id: integer (nullable = true)\n",
      " |-- city: string (nullable = true)\n",
      " |-- floor_level: integer (nullable = true)\n",
      " |-- state: string (nullable = true)\n",
      " |-- built_year: integer (nullable = true)\n",
      " |-- latitude: double (nullable = true)\n",
      " |-- premium: integer (nullable = true)\n",
      " |-- bedroom_number: integer (nullable = true)\n",
      " |-- address: string (nullable = true)\n",
      " |-- listing_label: string (nullable = true)\n",
      " |-- longitude: double (nullable = true)\n",
      " |-- tenure: string (nullable = true)\n",
      " |-- price: integer (nullable = true)\n",
      "\n"
     ]
    }
   ],
   "source": [
    "ppty_data.printSchema()"
   ]
  },
  {
   "cell_type": "code",
   "execution_count": 4,
   "metadata": {
    "scrolled": true
   },
   "outputs": [
    {
     "name": "stdout",
     "output_type": "stream",
     "text": [
      "+-----------------+------------+---------------+--------+--------------+-----------+---------+-----------+-------+----------+-----------+-------+--------------+---------------------------------------------------------+-------------+-----------+--------+--------+\n",
      "|sub_property_type|living_space|bathroom_number|currency|property_type |property_id|city     |floor_level|state  |built_year|latitude   |premium|bedroom_number|address                                                  |listing_label|longitude  |tenure  |price   |\n",
      "+-----------------+------------+---------------+--------+--------------+-----------+---------+-----------+-------+----------+-----------+-------+--------------+---------------------------------------------------------+-------------+-----------+--------+--------+\n",
      "|For Sale         |76.86       |2              |Baht    |Condo         |9942777    |Dusit    |6          |Bangkok|2010      |13.79101869|0      |2             |Samsen Road, Dusit, Dusit, Bangkok                       |NORMAL       |100.5162452|Freehold|5500000 |\n",
      "|For Sale         |42.0        |1              |Baht    |Condo         |9807686    |Dusit    |4          |Bangkok|2010      |13.79101869|0      |1             |Samsen Road, Dusit, Dusit, Bangkok                       |NORMAL       |100.5162452|Freehold|4100000 |\n",
      "|For Sale         |123.0       |2              |Baht    |Detached House|8934387    |Nong Chok|2          |Bangkok|2012      |13.85948084|0      |3             |Mit Maitri Road, Nong Chok, Nong Chok, Bangkok           |CORPORATE    |100.8482369|Freehold|1650000 |\n",
      "|For Sale         |180.0       |2              |Baht    |Detached House|9836450    |Nong Chok|2          |Bangkok|2011      |13.859683  |0      |4             |Soi Mitmaitri 2, Nong Chok, Nong Chok, Bangkok           |NORMAL       |100.857774 |Freehold|3650000 |\n",
      "|For Sale         |35.35       |1              |Baht    |Condo         |9407447    |Bang Rak |56         |Bangkok|2018      |13.73158352|0      |1             |- Rama 4 Road, Si Phraya, Bang Rak, Bangkok              |CORPORATE    |100.5311729|Freehold|7850000 |\n",
      "|For Sale         |70.0        |2              |Baht    |Condo         |9753414    |Bang Rak |3          |Bangkok|2013      |13.72303261|0      |2             |98 Sathorn Nua Road, Silom, Bang Rak, Bangkok            |NORMAL       |100.5255951|Freehold|11500000|\n",
      "|For Sale         |78.26       |2              |Baht    |Condo         |6111715    |Bang Rak |25         |Bangkok|2016      |13.72245682|0      |2             |78 Pan Road, Silom, Bang Rak, Bangkok                    |NORMAL       |100.5235408|Freehold|14700000|\n",
      "|For Sale         |40.0        |1              |Baht    |Condo         |8289876    |Bang Rak |15         |Bangkok|2016      |13.719843  |1      |1             |158 Sathorn Nua Road, Silom, Bang Rak, Bangkok           |CORPORATE    |100.522067 |Freehold|8400000 |\n",
      "|For Sale         |37.0        |1              |Baht    |Condo         |9823002    |Bang Rak |10         |Bangkok|2010      |13.72264955|1      |1             |48 Soi Sathorn 10, Sathorn Road, Silom, Bang Rak, Bangkok|CORPORATE    |100.5272987|Freehold|4590000 |\n",
      "|For Sale         |37.47       |1              |Baht    |Condo         |10051786   |Bang Rak |8          |Bangkok|2013      |13.725086  |1      |1             |- Soi Pipat 2 Silom Road, Silom, Bang Rak, Bangkok       |NORMAL       |100.53313  |Freehold|5300000 |\n",
      "|For Sale         |55.0        |1              |Baht    |Condo         |10038818   |Bang Rak |26         |Bangkok|2018      |13.73158352|1      |2             |- Rama 4 Road, Si Phraya, Bang Rak, Bangkok              |CORPORATE    |100.5311729|Freehold|14700000|\n",
      "|For Sale         |118.0       |2              |Baht    |Condo         |8994828    |Bang Rak |2          |Bangkok|2020      |13.723172  |1      |2             |Pramuan Road, Silom, Bang Rak, Bangkok                   |NORMAL       |100.522001 |Freehold|30000000|\n",
      "|For Sale         |111.37      |2              |Baht    |Condo         |9200498    |Bang Rak |50         |Bangkok|2001      |13.72223437|0      |2             |#NAME?                                                   |CORPORATE    |100.517004 |Freehold|9190000 |\n",
      "|For Sale         |111.37      |2              |Baht    |Condo         |9200506    |Bang Rak |50         |Bangkok|2001      |13.72223437|0      |2             |#NAME?                                                   |CORPORATE    |100.517004 |Freehold|9190000 |\n",
      "|For Sale         |69.5        |2              |Baht    |Condo         |8758603    |Bang Rak |12         |Bangkok|2016      |13.719843  |0      |2             |158 Sathorn Nua Road, Silom, Bang Rak, Bangkok           |CORPORATE    |100.522067 |Freehold|12500000|\n",
      "|For Sale         |52.7        |1              |Baht    |Condo         |9291328    |Bang Rak |25         |Bangkok|2014      |13.720017  |0      |2             |Sathorn, Silom, Bang Rak, Bangkok                        |CORPORATE    |100.521281 |Freehold|5500000 |\n",
      "|For Sale         |66.0        |2              |Baht    |Condo         |8507060    |Bang Rak |12         |Bangkok|2013      |13.719531  |0      |2             |88 Soi Surasak Surasak Road, Silom, Bang Rak, Bangkok    |CORPORATE    |100.519467 |Freehold|9370000 |\n",
      "|For Sale         |34.0        |1              |Baht    |Condo         |8507098    |Bang Rak |21         |Bangkok|2013      |13.719531  |0      |1             |88 Soi Surasak Surasak Road, Silom, Bang Rak, Bangkok    |CORPORATE    |100.519467 |Freehold|5100000 |\n",
      "|For Sale         |34.5        |1              |Baht    |Condo         |9482676    |Bang Rak |25         |Bangkok|2016      |13.726304  |0      |1             |166 Silom Road, Bang Rak, Bangkok                        |CORPORATE    |100.526875 |Freehold|7990000 |\n",
      "|For Sale         |34.5        |1              |Baht    |Condo         |9561268    |Bang Rak |25         |Bangkok|2018      |13.73158352|0      |1             |- Rama 4 Road, Si Phraya, Bang Rak, Bangkok              |CORPORATE    |100.5311729|Freehold|7990000 |\n",
      "+-----------------+------------+---------------+--------+--------------+-----------+---------+-----------+-------+----------+-----------+-------+--------------+---------------------------------------------------------+-------------+-----------+--------+--------+\n",
      "only showing top 20 rows\n",
      "\n"
     ]
    }
   ],
   "source": [
    "ppty_data.show(truncate = False)"
   ]
  },
  {
   "cell_type": "code",
   "execution_count": 5,
   "metadata": {},
   "outputs": [
    {
     "data": {
      "text/plain": [
       "41360"
      ]
     },
     "execution_count": 5,
     "metadata": {},
     "output_type": "execute_result"
    }
   ],
   "source": [
    "ppty_data.count()  "
   ]
  },
  {
   "cell_type": "code",
   "execution_count": 6,
   "metadata": {},
   "outputs": [
    {
     "name": "stdout",
     "output_type": "stream",
     "text": [
      "Dimension of the Dataframe is: (41360, 18)\n",
      "Number of Rows are: 41360\n",
      "Number of Columns are: 18\n"
     ]
    }
   ],
   "source": [
    "# extracting number of rows from the Dataframe\n",
    "row = ppty_data.count()\n",
    "\n",
    "# extracting number of columns from the Dataframe\n",
    "col = len(ppty_data.columns)\n",
    "\n",
    "# printing\n",
    "print(f'Dimension of the Dataframe is: {(row,col)}')\n",
    "print(f'Number of Rows are: {row}')\n",
    "print(f'Number of Columns are: {col}')"
   ]
  },
  {
   "cell_type": "markdown",
   "metadata": {},
   "source": [
    "## Problem Statement Formulation\n",
    "\n",
    "### Load Explore, and Understand the Data\n",
    "To explore and understand the dataset, after loading my dataset ‘ppty_data’, I got the schema and a display of the entire contents in ‘ppty_data’ as well as the dimensions of the data. This information gives me an understanding of the data and its structure and values giving me an overview of my dataset.\n",
    "\n",
    "\n",
    "### Value-Based Problem Statement:\n",
    "Housing is a critical need in every society, with numerous factors contributing to demand and consequently pricing. This assignment is about property pricing in Thailand, one of our Southeast Asian neighbours.\n",
    "\n",
    "A customized version of various Thailand property transactions has been created for this assignment. Using PySpark, the aim is to build a Price Prediction Model to forecast the rental prices of any given Thailand Property transaction. \n"
   ]
  },
  {
   "cell_type": "markdown",
   "metadata": {},
   "source": [
    "### Step 2: Exploratory Data Analysis and Data Cleansing<a id=\"part2\"></a>"
   ]
  },
  {
   "cell_type": "markdown",
   "metadata": {},
   "source": [
    "####  Categorical Data"
   ]
  },
  {
   "cell_type": "code",
   "execution_count": 7,
   "metadata": {},
   "outputs": [
    {
     "name": "stdout",
     "output_type": "stream",
     "text": [
      "+-------------------+-----------+\n",
      "|              state|state_count|\n",
      "+-------------------+-----------+\n",
      "|            Bangkok|      36544|\n",
      "|       Samut Prakan|       1819|\n",
      "|         Nonthaburi|       1516|\n",
      "|          Chon Buri|        629|\n",
      "|         Chiang Mai|        310|\n",
      "|       Pathum Thani|        190|\n",
      "|Prachuap Khiri Khan|         90|\n",
      "|             Phuket|         88|\n",
      "|            Pattaya|         49|\n",
      "|        Phetchaburi|         48|\n",
      "|      Nakhon Pathom|         38|\n",
      "|       Samut Sakhon|         21|\n",
      "|             Rayong|          7|\n",
      "|           Songkhla|          4|\n",
      "|          Khon Kaen|          3|\n",
      "|  Nakhon Ratchasima|          3|\n",
      "|        Surat Thani|          1|\n",
      "+-------------------+-----------+\n",
      "\n"
     ]
    }
   ],
   "source": [
    "ppty_data.groupBy('state').agg(count('state').alias('state_count')).orderBy(desc('state_count')).show()"
   ]
  },
  {
   "cell_type": "code",
   "execution_count": 8,
   "metadata": {},
   "outputs": [
    {
     "name": "stdout",
     "output_type": "stream",
     "text": [
      "+-------------------+----------+\n",
      "|               city|city_count|\n",
      "+-------------------+----------+\n",
      "|        Huai Khwang|      4697|\n",
      "|           Watthana|      3834|\n",
      "|          Chatuchak|      3043|\n",
      "|        Khlong Toei|      2914|\n",
      "|       Phra Khanong|      1901|\n",
      "|        Ratchathewi|      1610|\n",
      "|         Suan Luang|      1464|\n",
      "|            Bang Na|      1294|\n",
      "|           Bang Sue|      1288|\n",
      "|         Khlong San|      1222|\n",
      "|          Din Daeng|      1153|\n",
      "|          Bang Kapi|      1132|\n",
      "|Muang Samut Prakarn|      1104|\n",
      "|          Thon Buri|      1045|\n",
      "|           Yan Nawa|      1040|\n",
      "|             Sathon|      1005|\n",
      "|   Muang Nonthaburi|       964|\n",
      "|           Bang Rak|       889|\n",
      "|         Phaya Thai|       772|\n",
      "|         Pathum Wan|       594|\n",
      "+-------------------+----------+\n",
      "only showing top 20 rows\n",
      "\n"
     ]
    }
   ],
   "source": [
    "ppty_data.groupBy('city').agg(count('city').alias('city_count')).orderBy(desc('city_count')).show()"
   ]
  },
  {
   "cell_type": "code",
   "execution_count": 9,
   "metadata": {},
   "outputs": [
    {
     "name": "stdout",
     "output_type": "stream",
     "text": [
      "+-----------------+-----------------------+\n",
      "|sub_property_type|sub_property_type_count|\n",
      "+-----------------+-----------------------+\n",
      "|         For Sale|                  41126|\n",
      "|    Option To Buy|                    234|\n",
      "+-----------------+-----------------------+\n",
      "\n"
     ]
    }
   ],
   "source": [
    "ppty_data.groupBy('sub_property_type').agg(count('sub_property_type').alias('sub_property_type_count')).show()"
   ]
  },
  {
   "cell_type": "code",
   "execution_count": 10,
   "metadata": {},
   "outputs": [
    {
     "name": "stdout",
     "output_type": "stream",
     "text": [
      "+--------------+-------------------+\n",
      "| property_type|property_type_count|\n",
      "+--------------+-------------------+\n",
      "|         Condo|              39870|\n",
      "|Detached House|                835|\n",
      "|     Townhouse|                651|\n",
      "|     Apartment|                  4|\n",
      "+--------------+-------------------+\n",
      "\n"
     ]
    }
   ],
   "source": [
    "ppty_data.groupBy('property_type').agg(count('property_type').alias('property_type_count')).orderBy(desc('property_type_count')).show()"
   ]
  },
  {
   "cell_type": "code",
   "execution_count": 11,
   "metadata": {},
   "outputs": [
    {
     "name": "stdout",
     "output_type": "stream",
     "text": [
      "+-------------+-------------------+\n",
      "|listing_label|listing_label_count|\n",
      "+-------------+-------------------+\n",
      "|    CORPORATE|              38172|\n",
      "|       NORMAL|               3170|\n",
      "|        OWNER|                 18|\n",
      "+-------------+-------------------+\n",
      "\n"
     ]
    }
   ],
   "source": [
    "ppty_data.groupBy('listing_label').agg(count('listing_label').alias('listing_label_count')).orderBy(desc('listing_label_count')).show()"
   ]
  },
  {
   "cell_type": "code",
   "execution_count": 12,
   "metadata": {},
   "outputs": [
    {
     "name": "stdout",
     "output_type": "stream",
     "text": [
      "+-----------------+------------+\n",
      "|           tenure|tenure_count|\n",
      "+-----------------+------------+\n",
      "|         Freehold|       41218|\n",
      "|        Leasehold|         135|\n",
      "|30-year Leasehold|           7|\n",
      "+-----------------+------------+\n",
      "\n"
     ]
    }
   ],
   "source": [
    "ppty_data.groupBy('tenure').agg(count('tenure').alias('tenure_count')).orderBy(desc('tenure_count')).show()"
   ]
  },
  {
   "cell_type": "code",
   "execution_count": 13,
   "metadata": {},
   "outputs": [
    {
     "name": "stdout",
     "output_type": "stream",
     "text": [
      "+--------+--------------+\n",
      "|currency|currency_count|\n",
      "+--------+--------------+\n",
      "|    Baht|         41360|\n",
      "+--------+--------------+\n",
      "\n"
     ]
    }
   ],
   "source": [
    "ppty_data.groupBy('currency').agg(count('currency').alias('currency_count')).orderBy(desc('currency_count')).show()"
   ]
  },
  {
   "cell_type": "markdown",
   "metadata": {},
   "source": [
    "####  Numerical Data"
   ]
  },
  {
   "cell_type": "code",
   "execution_count": 14,
   "metadata": {},
   "outputs": [
    {
     "name": "stdout",
     "output_type": "stream",
     "text": [
      "+-------+-----------------+------------------+------------------+------------------+--------------------+------------------+\n",
      "|summary|living_space     |bathroom_number   |floor_level       |built_year        |premium             |bedroom_number    |\n",
      "+-------+-----------------+------------------+------------------+------------------+--------------------+------------------+\n",
      "|count  |41310            |41360             |41360             |41360             |41360               |41360             |\n",
      "|mean   |131.2979258121521|1.2972678916827853|15504.037693423597|2014.3418036750484|0.014192456479690523|1.2618471953578336|\n",
      "|stddev |6444.044353131916|0.6902640101287385|3089664.398453431 |4.0109587829731295|0.11828511715924905 |0.7700069673785545|\n",
      "|min    |16.0             |0                 |0                 |1985              |0                   |0                 |\n",
      "|max    |989898.0         |9                 |628266569         |2025              |1                   |11                |\n",
      "+-------+-----------------+------------------+------------------+------------------+--------------------+------------------+\n",
      "\n"
     ]
    }
   ],
   "source": [
    "ppty_data.describe('living_space','bathroom_number','floor_level','built_year','premium','bedroom_number').show(truncate = False)"
   ]
  },
  {
   "cell_type": "code",
   "execution_count": 15,
   "metadata": {},
   "outputs": [
    {
     "name": "stdout",
     "output_type": "stream",
     "text": [
      "+-------+-------------------+\n",
      "|summary|price              |\n",
      "+-------+-------------------+\n",
      "|count  |41360              |\n",
      "|mean   |6610496.336532882  |\n",
      "|stddev |1.511423482610068E7|\n",
      "|min    |0                  |\n",
      "|max    |1396396324         |\n",
      "+-------+-------------------+\n",
      "\n"
     ]
    }
   ],
   "source": [
    "ppty_data.describe('price').show(truncate = False)"
   ]
  },
  {
   "cell_type": "code",
   "execution_count": 16,
   "metadata": {},
   "outputs": [
    {
     "name": "stdout",
     "output_type": "stream",
     "text": [
      "+------------+\n",
      "|living_space|\n",
      "+------------+\n",
      "|       76.86|\n",
      "|        42.0|\n",
      "|       123.0|\n",
      "|       180.0|\n",
      "|       35.35|\n",
      "+------------+\n",
      "only showing top 5 rows\n",
      "\n"
     ]
    }
   ],
   "source": [
    "ppty_data.select('living_space').show(5)"
   ]
  },
  {
   "cell_type": "code",
   "execution_count": 17,
   "metadata": {},
   "outputs": [
    {
     "data": {
      "text/plain": [
       "('built_year', 'premium', 'bedroom_number', 'price')"
      ]
     },
     "execution_count": 17,
     "metadata": {},
     "output_type": "execute_result"
    }
   ],
   "source": [
    "'built_year','premium','bedroom_number','price'"
   ]
  },
  {
   "cell_type": "code",
   "execution_count": 18,
   "metadata": {},
   "outputs": [
    {
     "name": "stdout",
     "output_type": "stream",
     "text": [
      "+---------------+---------------------+\n",
      "|bathroom_number|bathroom_number_count|\n",
      "+---------------+---------------------+\n",
      "|              1|                32531|\n",
      "|              2|                 6569|\n",
      "|              3|                 1381|\n",
      "|              4|                  509|\n",
      "|              5|                  236|\n",
      "|              6|                   79|\n",
      "|              0|                   35|\n",
      "|              7|                   13|\n",
      "|              9|                    6|\n",
      "|              8|                    1|\n",
      "+---------------+---------------------+\n",
      "\n"
     ]
    }
   ],
   "source": [
    "ppty_data.groupBy('bathroom_number').agg(count('bathroom_number').alias('bathroom_number_count')).orderBy(desc('bathroom_number_count')).show()"
   ]
  },
  {
   "cell_type": "code",
   "execution_count": 19,
   "metadata": {
    "scrolled": true
   },
   "outputs": [
    {
     "name": "stdout",
     "output_type": "stream",
     "text": [
      "+-----------+-----------------+\n",
      "|floor_level|floor_level_count|\n",
      "+-----------+-----------------+\n",
      "|          2|             3615|\n",
      "|          8|             3399|\n",
      "|          3|             2001|\n",
      "|          7|             1889|\n",
      "|          6|             1838|\n",
      "|          4|             1686|\n",
      "|          5|             1640|\n",
      "|         12|             1438|\n",
      "|          1|             1308|\n",
      "|         10|             1048|\n",
      "|         27|              961|\n",
      "|         20|              950|\n",
      "|         14|              913|\n",
      "|         11|              896|\n",
      "|          9|              853|\n",
      "|         21|              796|\n",
      "|         15|              792|\n",
      "|         23|              776|\n",
      "|         30|              723|\n",
      "|         28|              718|\n",
      "|         24|              716|\n",
      "|         17|              707|\n",
      "|         25|              683|\n",
      "|         16|              664|\n",
      "|         19|              664|\n",
      "|         18|              647|\n",
      "|         22|              646|\n",
      "|         26|              587|\n",
      "|         32|              565|\n",
      "|         37|              560|\n",
      "|         31|              553|\n",
      "|         34|              533|\n",
      "|         29|              473|\n",
      "|         36|              462|\n",
      "|         40|              428|\n",
      "|         35|              392|\n",
      "|         50|              362|\n",
      "|         38|              335|\n",
      "|         33|              333|\n",
      "|         41|              235|\n",
      "|         42|              235|\n",
      "|         39|              225|\n",
      "|         43|              221|\n",
      "|         44|              212|\n",
      "|         45|              176|\n",
      "|         46|              146|\n",
      "|         13|              110|\n",
      "|         47|              105|\n",
      "|         53|               97|\n",
      "|         55|               87|\n",
      "|       8211|               87|\n",
      "|         61|               78|\n",
      "|         51|               57|\n",
      "|         56|               57|\n",
      "|         70|               55|\n",
      "|         54|               48|\n",
      "|         48|               41|\n",
      "|         52|               39|\n",
      "|         74|               37|\n",
      "|         77|               33|\n",
      "|          0|               30|\n",
      "|         59|               27|\n",
      "|         66|               24|\n",
      "|        101|               22|\n",
      "|         49|               20|\n",
      "|         71|               18|\n",
      "|         73|               18|\n",
      "|         64|               16|\n",
      "|         60|               14|\n",
      "|         67|               12|\n",
      "|         57|                8|\n",
      "|         62|                7|\n",
      "|        115|                6|\n",
      "|        103|                6|\n",
      "|         98|                5|\n",
      "|         89|                5|\n",
      "|         75|                4|\n",
      "|         86|                4|\n",
      "|         93|                4|\n",
      "|        184|                4|\n",
      "|         80|                3|\n",
      "|         81|                3|\n",
      "|         78|                3|\n",
      "|        600|                3|\n",
      "|       2565|                3|\n",
      "|         92|                3|\n",
      "|        107|                3|\n",
      "|         68|                3|\n",
      "|        113|                2|\n",
      "|        811|                2|\n",
      "|         99|                2|\n",
      "|        106|                2|\n",
      "|       2017|                2|\n",
      "|       1996|                2|\n",
      "|        350|                2|\n",
      "|         85|                2|\n",
      "|        647|                2|\n",
      "|         65|                2|\n",
      "|        602|                2|\n",
      "|        258|                2|\n",
      "|         82|                2|\n",
      "|        130|                2|\n",
      "|        141|                2|\n",
      "|        109|                2|\n",
      "|        105|                2|\n",
      "|      11813|                2|\n",
      "|      10120|                2|\n",
      "|        300|                1|\n",
      "|       2235|                1|\n",
      "|        137|                1|\n",
      "|       2488|                1|\n",
      "|       2563|                1|\n",
      "|       1201|                1|\n",
      "|       2018|                1|\n",
      "|       2905|                1|\n",
      "|        914|                1|\n",
      "|       3435|                1|\n",
      "|        133|                1|\n",
      "|       1322|                1|\n",
      "|        440|                1|\n",
      "|       4642|                1|\n",
      "|       1051|                1|\n",
      "|     920006|                1|\n",
      "|        385|                1|\n",
      "|  628266569|                1|\n",
      "|       1580|                1|\n",
      "|       1525|                1|\n",
      "|        738|                1|\n",
      "|       1418|                1|\n",
      "|       2019|                1|\n",
      "|        346|                1|\n",
      "|        212|                1|\n",
      "|        870|                1|\n",
      "|        359|                1|\n",
      "|       1594|                1|\n",
      "|        120|                1|\n",
      "|        507|                1|\n",
      "|        504|                1|\n",
      "|        262|                1|\n",
      "|        768|                1|\n",
      "|        156|                1|\n",
      "|        279|                1|\n",
      "|       1582|                1|\n",
      "|       1920|                1|\n",
      "|        285|                1|\n",
      "|        519|                1|\n",
      "|       2607|                1|\n",
      "|       1304|                1|\n",
      "|        146|                1|\n",
      "|       1506|                1|\n",
      "|       2489|                1|\n",
      "|       1275|                1|\n",
      "|       1744|                1|\n",
      "|        358|                1|\n",
      "|     212925|                1|\n",
      "|       2910|                1|\n",
      "|         72|                1|\n",
      "|        995|                1|\n",
      "|       2423|                1|\n",
      "|       2906|                1|\n",
      "|        326|                1|\n",
      "|         87|                1|\n",
      "|       1406|                1|\n",
      "|        532|                1|\n",
      "|        450|                1|\n",
      "|       7002|                1|\n",
      "|         69|                1|\n",
      "|        400|                1|\n",
      "|       2230|                1|\n",
      "|         63|                1|\n",
      "|        261|                1|\n",
      "|        510|                1|\n",
      "|       1451|                1|\n",
      "|       6000|                1|\n",
      "|       1740|                1|\n",
      "|         88|                1|\n",
      "|        112|                1|\n",
      "|       1194|                1|\n",
      "|   10210511|                1|\n",
      "|        921|                1|\n",
      "|       6081|                1|\n",
      "|       2418|                1|\n",
      "|       1108|                1|\n",
      "|       1936|                1|\n",
      "|        611|                1|\n",
      "|       2146|                1|\n",
      "|        270|                1|\n",
      "|       1954|                1|\n",
      "|       2280|                1|\n",
      "|      10100|                1|\n",
      "|       1328|                1|\n",
      "|        999|                1|\n",
      "|      11110|                1|\n",
      "|       2504|                1|\n",
      "|        800|                1|\n",
      "|        609|                1|\n",
      "|        628|                1|\n",
      "|        535|                1|\n",
      "|      10110|                1|\n",
      "|       1292|                1|\n",
      "|        100|                1|\n",
      "|         97|                1|\n",
      "|       1625|                1|\n",
      "|        624|                1|\n",
      "|       1707|                1|\n",
      "|        125|                1|\n",
      "|        121|                1|\n",
      "|        226|                1|\n",
      "|       1283|                1|\n",
      "|       2160|                1|\n",
      "|        338|                1|\n",
      "|        123|                1|\n",
      "|        110|                1|\n",
      "|        710|                1|\n",
      "|        304|                1|\n",
      "|        805|                1|\n",
      "|        131|                1|\n",
      "|         90|                1|\n",
      "|       2002|                1|\n",
      "|      10500|                1|\n",
      "+-----------+-----------------+\n",
      "\n"
     ]
    }
   ],
   "source": [
    "ppty_data.groupBy('floor_level').agg(count('floor_level').alias('floor_level_count')).orderBy(desc('floor_level_count')).show(500)"
   ]
  },
  {
   "cell_type": "code",
   "execution_count": 20,
   "metadata": {},
   "outputs": [
    {
     "name": "stdout",
     "output_type": "stream",
     "text": [
      "+--------------------------+-----+\n",
      "|floor_level_range         |count|\n",
      "+--------------------------+-----+\n",
      "|floor_level_0_50          |40306|\n",
      "|floor_level_101_150       |59   |\n",
      "|floor_level_151_200       |5    |\n",
      "|floor_level_201_1000000000|205  |\n",
      "|floor_level_51_100        |785  |\n",
      "+--------------------------+-----+\n",
      "\n"
     ]
    }
   ],
   "source": [
    "ranges = [\n",
    "    (0, 50),\n",
    "    (51, 100),\n",
    "    (101, 150),\n",
    "    (151,200),\n",
    "    (201,1000000000)\n",
    "]\n",
    "copy = ppty_data\n",
    "# Create a new column 'floor_level_range' based on the specified ranges\n",
    "for start, end in ranges:\n",
    "    copy = copy.withColumn(\n",
    "        f\"floor_level_{start}_{end}\",\n",
    "        expr(f\"CASE WHEN floor_level BETWEEN {start} AND {end} THEN 'floor_level_{start}_{end}' ELSE NULL END\")\n",
    "    )\n",
    "\n",
    "# Combine the range columns into a single column 'floor_level_range'\n",
    "floor_range = copy.withColumn(\"floor_level_range\", expr(\"CONCAT_WS(',', \" + \", \".join([f\"floor_level_{start}_{end}\" for start, end in ranges]) + \")\"))\n",
    "\n",
    "# Group by the 'floor_level_range' and count\n",
    "result = floor_range.groupBy(\"floor_level_range\").count().orderBy(\"floor_level_range\")\n",
    "\n",
    "# Show the result\n",
    "result.show(truncate=False) "
   ]
  },
  {
   "cell_type": "code",
   "execution_count": 21,
   "metadata": {
    "scrolled": true
   },
   "outputs": [
    {
     "name": "stdout",
     "output_type": "stream",
     "text": [
      "+----------+----------------+\n",
      "|built_year|built_year_count|\n",
      "+----------+----------------+\n",
      "|      2014|            5479|\n",
      "|      2013|            4807|\n",
      "|      2015|            4358|\n",
      "|      2017|            3873|\n",
      "|      2018|            3488|\n",
      "|      2012|            3273|\n",
      "|      2016|            3170|\n",
      "|      2010|            2277|\n",
      "|      2019|            2153|\n",
      "|      2020|            1837|\n",
      "|      2009|            1718|\n",
      "|      2011|            1452|\n",
      "|      2021|             840|\n",
      "|      2007|             631|\n",
      "|      2022|             505|\n",
      "|      2008|             480|\n",
      "|      2006|             239|\n",
      "|      2005|             133|\n",
      "|      1994|             108|\n",
      "|      1995|              79|\n",
      "|      1996|              59|\n",
      "|      1998|              56|\n",
      "|      1997|              53|\n",
      "|      2004|              49|\n",
      "|      1999|              49|\n",
      "|      2002|              45|\n",
      "|      1993|              44|\n",
      "|      2001|              34|\n",
      "|      2023|              26|\n",
      "|      2000|              10|\n",
      "|      1992|              10|\n",
      "|      2003|              10|\n",
      "|      2024|               6|\n",
      "|      1991|               3|\n",
      "|      1985|               3|\n",
      "|      2025|               1|\n",
      "|      1986|               1|\n",
      "|      1988|               1|\n",
      "+----------+----------------+\n",
      "\n"
     ]
    }
   ],
   "source": [
    "ppty_data.groupBy('built_year').agg(count('built_year').alias('built_year_count')).orderBy(desc('built_year_count')).show(250)"
   ]
  },
  {
   "cell_type": "code",
   "execution_count": 22,
   "metadata": {},
   "outputs": [
    {
     "name": "stdout",
     "output_type": "stream",
     "text": [
      "+-------+-------------+\n",
      "|premium|premium_count|\n",
      "+-------+-------------+\n",
      "|      0|        40773|\n",
      "|      1|          587|\n",
      "+-------+-------------+\n",
      "\n"
     ]
    }
   ],
   "source": [
    "ppty_data.groupBy('premium').agg(count('premium').alias('premium_count')).orderBy(desc('premium_count')).show()"
   ]
  },
  {
   "cell_type": "code",
   "execution_count": 23,
   "metadata": {},
   "outputs": [
    {
     "name": "stdout",
     "output_type": "stream",
     "text": [
      "+--------------+--------------------+\n",
      "|bedroom_number|bedroom_number_count|\n",
      "+--------------+--------------------+\n",
      "|             1|               27273|\n",
      "|             2|                8148|\n",
      "|             0|                3378|\n",
      "|             3|                1879|\n",
      "|             4|                 514|\n",
      "|             5|                 126|\n",
      "|             6|                  26|\n",
      "|            10|                   7|\n",
      "|             7|                   5|\n",
      "|             9|                   2|\n",
      "|            11|                   1|\n",
      "|             8|                   1|\n",
      "+--------------+--------------------+\n",
      "\n"
     ]
    }
   ],
   "source": [
    "ppty_data.groupBy('bedroom_number').agg(count('bedroom_number').alias('bedroom_number_count')).orderBy(desc('bedroom_number_count')).show()"
   ]
  },
  {
   "cell_type": "code",
   "execution_count": 24,
   "metadata": {},
   "outputs": [
    {
     "name": "stdout",
     "output_type": "stream",
     "text": [
      "Null values in 'sub_property_type': 0\n",
      "Null values in 'living_space': 50\n",
      "Null values in 'bathroom_number': 0\n",
      "Null values in 'currency': 0\n",
      "Null values in 'property_type': 0\n",
      "Null values in 'property_id': 0\n",
      "Null values in 'city': 0\n",
      "Null values in 'floor_level': 0\n",
      "Null values in 'state': 0\n",
      "Null values in 'built_year': 0\n",
      "Null values in 'latitude': 0\n",
      "Null values in 'premium': 0\n",
      "Null values in 'bedroom_number': 0\n",
      "Null values in 'address': 0\n",
      "Null values in 'listing_label': 0\n",
      "Null values in 'longitude': 0\n",
      "Null values in 'tenure': 0\n",
      "Null values in 'price': 0\n"
     ]
    }
   ],
   "source": [
    "from pyspark.sql.functions import col\n",
    "for column in ppty_data.columns:\n",
    "    null_count = ppty_data.filter(col(column).isNull()).count()\n",
    "    print(f\"Null values in '{column}': {null_count}\")"
   ]
  },
  {
   "cell_type": "markdown",
   "metadata": {},
   "source": [
    "#### NaN Treatment"
   ]
  },
  {
   "cell_type": "code",
   "execution_count": 25,
   "metadata": {},
   "outputs": [
    {
     "name": "stdout",
     "output_type": "stream",
     "text": [
      "+-----------------+------------+---------------+--------+-------------+-----------+-----------+-----------+-------+----------+-----------+-------+--------------+--------------------+-------------+-----------+--------+--------+\n",
      "|sub_property_type|living_space|bathroom_number|currency|property_type|property_id|       city|floor_level|  state|built_year|   latitude|premium|bedroom_number|             address|listing_label|  longitude|  tenure|   price|\n",
      "+-----------------+------------+---------------+--------+-------------+-----------+-----------+-----------+-------+----------+-----------+-------+--------------+--------------------+-------------+-----------+--------+--------+\n",
      "|         For Sale|        null|              1|    Baht|        Condo|    6462781|Khlong Toei|         14|Bangkok|      2018|  13.725635|      0|             2|68 Sukhumvit 24 A...|    CORPORATE| 100.566196|Freehold|13000000|\n",
      "|         For Sale|        null|              1|    Baht|        Condo|    7132380|Khlong Toei|          2|Bangkok|      2018|  13.725123|      0|             2|70 Sukhumvit 24 A...|    CORPORATE| 100.565924|Freehold|12890000|\n",
      "|         For Sale|        null|              1|    Baht|        Condo|    9541118|Khlong Toei|          2|Bangkok|      2017|  13.711724|      0|             2|Soi Sukhumvit 48,...|    CORPORATE| 100.594785|Freehold| 5500000|\n",
      "|         For Sale|        null|              1|    Baht|        Condo|    8811098|Khlong Toei|          5|Bangkok|      2013|13.71523862|      0|             2|              #NAME?|    CORPORATE|100.5905981|Freehold| 8500000|\n",
      "|         For Sale|        null|              1|    Baht|        Condo|    8807642|Khlong Toei|          5|Bangkok|      2013|13.71523862|      0|             2|              #NAME?|    CORPORATE|100.5905981|Freehold| 8500000|\n",
      "|         For Sale|        null|              1|    Baht|        Condo|    9699881|Khlong Toei|          8|Bangkok|      2021|  13.735653|      0|             2|28 Soi Sukhumvit ...|    CORPORATE| 100.556987|Freehold|12870000|\n",
      "|         For Sale|        null|              1|    Baht|        Condo|    9848077|Khlong Toei|         17|Bangkok|      2018| 13.7047129|      0|             2|Soi Sukhumvit 50,...|    CORPORATE|100.5943438|Freehold| 6000000|\n",
      "|         For Sale|        null|              1|    Baht|        Condo|    9756624|Khlong Toei|         47|Bangkok|      2021|  13.715821|      0|             2|3641 Rama 4 Road,...|    CORPORATE| 100.575019|Freehold| 6065000|\n",
      "|         For Sale|        null|              1|    Baht|        Condo|    9604622|Khlong Toei|         17|Bangkok|      2018| 13.7047129|      0|             2|Soi Sukhumvit 50,...|    CORPORATE|100.5943438|Freehold| 6890000|\n",
      "|         For Sale|        null|              1|    Baht|        Condo|    9637790|Khlong Toei|         47|Bangkok|      2020|  13.720791|      0|             2|Soi Sukhumvit 36,...|    CORPORATE|  100.57622|Freehold| 8480000|\n",
      "|         For Sale|        null|              1|    Baht|        Condo|    7307325|Khlong Toei|         34|Bangkok|      2013|  13.722473|      0|             2|ซอยสุขุมวิท 63 แข...|    CORPORATE|  100.58455|Freehold| 9200000|\n",
      "|         For Sale|        null|              1|    Baht|        Condo|    9968894|Khlong Toei|         32|Bangkok|      2012|  13.712022|      0|             2|- Rama 4 Road, Ph...|    CORPORATE| 100.584435|Freehold| 2000000|\n",
      "|         For Sale|        null|              1|    Baht|        Condo|    7524545|Khlong Toei|         43|Bangkok|      2018|  13.746369|      0|             2|- Sukhumvit 21 Ro...|    CORPORATE| 100.562791|Freehold|32000000|\n",
      "|         For Sale|        null|              1|    Baht|        Condo|    9994361|Khlong Toei|         12|Bangkok|      1999|13.72684166|      0|             2|758/18  Soi Sukhu...|    CORPORATE|100.5734449|Freehold| 7500000|\n",
      "|         For Sale|        null|              1|    Baht|        Condo|    8427275|Khlong Toei|         20|Bangkok|      2013|13.71523862|      0|             2|              #NAME?|    CORPORATE|100.5905981|Freehold| 7690000|\n",
      "|         For Sale|        null|              1|    Baht|        Condo|    8446604|Khlong Toei|         10|Bangkok|      2013|13.71523862|      0|             2|              #NAME?|    CORPORATE|100.5905981|Freehold| 7490000|\n",
      "|         For Sale|        null|              1|    Baht|        Condo|    8528918|Khlong Toei|         11|Bangkok|      2013|13.71523862|      0|             2|              #NAME?|    CORPORATE|100.5905981|Freehold| 8560000|\n",
      "|         For Sale|        null|              1|    Baht|        Condo|    8528972|Khlong Toei|         32|Bangkok|      2013|13.71523862|      0|             2|              #NAME?|    CORPORATE|100.5905981|Freehold|10605000|\n",
      "|         For Sale|        null|              1|    Baht|        Condo|    8419980|Khlong Toei|         11|Bangkok|      2013|13.71523862|      0|             2|              #NAME?|    CORPORATE|100.5905981|Freehold| 8560000|\n",
      "|         For Sale|        null|              1|    Baht|        Condo|    9992948|Khlong Toei|          6|Bangkok|      2019|  13.705177|      0|             2|Soi Roem Charoen ...|    CORPORATE| 100.592245|Freehold| 4190000|\n",
      "+-----------------+------------+---------------+--------+-------------+-----------+-----------+-----------+-------+----------+-----------+-------+--------------+--------------------+-------------+-----------+--------+--------+\n",
      "only showing top 20 rows\n",
      "\n"
     ]
    }
   ],
   "source": [
    "from pyspark.sql import SparkSession\n",
    "from pyspark.sql.functions import col\n",
    "ppty_data.filter(col(\"living_space\").isNull()).show()"
   ]
  },
  {
   "cell_type": "code",
   "execution_count": 26,
   "metadata": {},
   "outputs": [],
   "source": [
    "from pyspark.sql import SparkSession\n",
    "from pyspark.sql.functions import col, when\n",
    "\n",
    "\n",
    "median_living_space_khlong_toei = ppty_data.filter(col('city') == 'Khlong Toei').approxQuantile('living_space', [0.5], 0.01)[0]\n",
    "\n",
    "# Impute missing values with the median\n",
    "ppty_data = ppty_data.withColumn(\n",
    "    'living_space',\n",
    "    when((col('living_space').isNull()) & (col('city') == 'Khlong Toei'), median_living_space_khlong_toei)\n",
    "    .otherwise(col('living_space'))\n",
    ")\n"
   ]
  },
  {
   "cell_type": "code",
   "execution_count": 27,
   "metadata": {},
   "outputs": [
    {
     "name": "stdout",
     "output_type": "stream",
     "text": [
      "Null values in 'sub_property_type': 0\n",
      "Null values in 'living_space': 0\n",
      "Null values in 'bathroom_number': 0\n",
      "Null values in 'currency': 0\n",
      "Null values in 'property_type': 0\n",
      "Null values in 'property_id': 0\n",
      "Null values in 'city': 0\n",
      "Null values in 'floor_level': 0\n",
      "Null values in 'state': 0\n",
      "Null values in 'built_year': 0\n",
      "Null values in 'latitude': 0\n",
      "Null values in 'premium': 0\n",
      "Null values in 'bedroom_number': 0\n",
      "Null values in 'address': 0\n",
      "Null values in 'listing_label': 0\n",
      "Null values in 'longitude': 0\n",
      "Null values in 'tenure': 0\n",
      "Null values in 'price': 0\n"
     ]
    }
   ],
   "source": [
    "from pyspark.sql.functions import col\n",
    "for column in ppty_data.columns:\n",
    "    null_count = ppty_data.filter(col(column).isNull()).count()\n",
    "    print(f\"Null values in '{column}': {null_count}\")"
   ]
  },
  {
   "cell_type": "markdown",
   "metadata": {},
   "source": [
    "#### Duplicates"
   ]
  },
  {
   "cell_type": "code",
   "execution_count": 28,
   "metadata": {},
   "outputs": [
    {
     "name": "stdout",
     "output_type": "stream",
     "text": [
      "Count of duplicated data removed: 22\n"
     ]
    }
   ],
   "source": [
    "# Get the count before removing duplicates\n",
    "original_count = ppty_data.count()\n",
    "\n",
    "# Remove duplicates based on \"property_id\"\n",
    "ppty_data = ppty_data.dropDuplicates([\"property_id\"])\n",
    "\n",
    "# Get the count after removing duplicates\n",
    "distinct_count = ppty_data.count()\n",
    "\n",
    "# Calculate the count of duplicated data removed\n",
    "duplicated_count = original_count - distinct_count\n",
    "\n",
    "# Print the count of duplicated data removed\n",
    "print(f\"Count of duplicated data removed: {duplicated_count}\")\n",
    "\n",
    "# Show the resulting DataFrame\n",
    "# ppty_data.show()"
   ]
  },
  {
   "cell_type": "code",
   "execution_count": 29,
   "metadata": {},
   "outputs": [
    {
     "name": "stdout",
     "output_type": "stream",
     "text": [
      "Count of rows where price is 0: 23\n"
     ]
    }
   ],
   "source": [
    "# Get the count of rows where 'price' is equal to 0\n",
    "zero_price_count = ppty_data.filter(ppty_data['price'] == 0).count()\n",
    "\n",
    "# Print the count\n",
    "print(\"Count of rows where price is 0:\", zero_price_count)\n",
    "\n",
    "zero_price_rows = ppty_data.filter(ppty_data['price'] == 0).collect()\n",
    "\n",
    "# Print or further process the resulting rows\n",
    "for row in zero_price_rows:\n",
    "    row"
   ]
  },
  {
   "cell_type": "markdown",
   "metadata": {},
   "source": [
    "#### No price"
   ]
  },
  {
   "cell_type": "code",
   "execution_count": 30,
   "metadata": {},
   "outputs": [
    {
     "name": "stdout",
     "output_type": "stream",
     "text": [
      "Count of rows where price is 0: 0\n"
     ]
    }
   ],
   "source": [
    "from pyspark.sql import SparkSession\n",
    "from pyspark.sql.window import Window\n",
    "from pyspark.sql import functions as F\n",
    "\n",
    "from pyspark.sql import SparkSession\n",
    "from pyspark.sql.functions import col\n",
    "\n",
    "# Drop rows where the price is 0\n",
    "ppty_data = ppty_data.filter(col(\"price\") != 0)\n",
    "\n",
    "\n",
    "# Get the count of rows where 'price' is equal to 0\n",
    "zero_price_count = ppty_data.filter(ppty_data['price'] == 0).count()\n",
    "\n",
    "# Print the count\n",
    "print(\"Count of rows where price is 0:\", zero_price_count)\n",
    "\n",
    "zero_price_rows = ppty_data.filter(ppty_data['price'] == 0).collect()\n",
    "\n",
    "# Print or further process the resulting rows\n",
    "for row in zero_price_rows:\n",
    "    row"
   ]
  },
  {
   "cell_type": "markdown",
   "metadata": {},
   "source": [
    "## Exploratory Data Analysis and Data Cleansing\n",
    "\n",
    "In my initial data exploration, I categorized variables into categorical and numerical types. For my categorical variables, I prepared a table to show the count for each unique variable to reveal the distribution of values within each category and to assess the prevalence of specific classes to gain insights into the relative frequencies of different groups in the dataset. \n",
    "For numerical variables, I computed descriptive statistics and visualized distributions with tables. Exploring my numerical variables allows me to understand the distribution and characteristics of variables.\n",
    "\n",
    "\n",
    "### Intresting trends, Anomalies, Potential Error\n",
    "Through this exploration, potential anomalies and errors were identified. Notable instances include anomalies in the 'living_space' variable, where the minimum value was recorded as 16sqm, and 'built_year,' which indicated years beyond 2023. Furthermore, the 'price' variable exhibited a minimum value of 0, indicating potential discrepancies. \n",
    "\n",
    "### Missing value Treatment\n",
    "To address missing values in the 'living_space' variable, an imputation strategy was employed, utilizing the mean value specific to the city to fill the missing values. \n",
    "\n",
    "### Addressing anomalies\n",
    "Additionally, 22 duplicate entries were identified and subsequently removed from the dataset. Furthermore, given the nature of the predictive task involving 'price,' rows with a 'price' value of 0 were dropped, aligning to refine the dataset for improved modelling accuracy.\n",
    "\n",
    "This thorough data exploration not only enhanced the quality of the dataset but also laid the foundation for subsequent steps in the data analysis and modelling process.\n"
   ]
  },
  {
   "cell_type": "markdown",
   "metadata": {},
   "source": [
    "### Step 3: Data Wrangling and Transformation<a id=\"part3\"></a>"
   ]
  },
  {
   "cell_type": "markdown",
   "metadata": {},
   "source": [
    "#### Numerical Transformation"
   ]
  },
  {
   "cell_type": "code",
   "execution_count": 31,
   "metadata": {
    "scrolled": true
   },
   "outputs": [
    {
     "name": "stdout",
     "output_type": "stream",
     "text": [
      "+-----------------+------------+---------------+--------+--------------+-----------+----------------+-----------+-------------+----------+-----------+-------+--------------+--------------------+-------------+-----------+--------+--------+\n",
      "|sub_property_type|living_space|bathroom_number|currency| property_type|property_id|            city|floor_level|        state|built_year|   latitude|premium|bedroom_number|             address|listing_label|  longitude|  tenure|   price|\n",
      "+-----------------+------------+---------------+--------+--------------+-----------+----------------+-----------+-------------+----------+-----------+-------+--------------+--------------------+-------------+-----------+--------+--------+\n",
      "|         For Sale|        28.0|              1|    Baht|         Condo|    1605923|     Huai Khwang|          7|      Bangkok|      2015|  13.783881|      0|             1|- Soi Ratchadaphi...|    CORPORATE| 100.585884|Freehold| 1600000|\n",
      "|         For Sale|        23.0|              1|    Baht|         Condo|    6379283|       Bang Khae|         15|      Bangkok|      2016|13.70916533|      0|             1|ถนน เพชรเกษม 98, ...|    CORPORATE|100.3829791|Freehold| 1590000|\n",
      "|         For Sale|        53.0|              2|    Baht|         Condo|    7168736|     Huai Khwang|          8|      Bangkok|      2014|  13.755804|      0|             2|90 Rama 9 Road, H...|    CORPORATE| 100.565882|Freehold| 6690000|\n",
      "|         For Sale|        52.0|              2|    Baht|         Condo|    7170105|       Din Daeng|          3|      Bangkok|      2010|   13.75682|      0|             2|624 Asoke-Dindaen...|    CORPORATE| 100.561336|Freehold| 3250000|\n",
      "|         For Sale|        31.0|              1|    Baht|         Condo|    7523250|      Suan Luang|          7|      Bangkok|      2012|  13.711162|      0|             1|406 Sukhumvit 77 ...|    CORPORATE| 100.603783|Freehold| 2490000|\n",
      "|         For Sale|        58.0|              1|    Baht|         Condo|    7570445|        Watthana|          2|      Bangkok|      2012|  13.727579|      0|             1|134 Sukhumvit Roa...|    CORPORATE| 100.581805|Freehold|13350000|\n",
      "|         For Sale|        33.0|              1|    Baht|         Condo|    7575662|       Chatuchak|         10|      Bangkok|      2010|  13.810595|      0|             1|Ladprao Rold, Jom...|    CORPORATE|  100.56583|Freehold| 2950000|\n",
      "|         For Sale|        33.5|              1|    Baht|         Condo|    7621805|       Thon Buri|         37|      Bangkok|      2018|13.71371665|      0|             1|              #NAME?|    CORPORATE|100.4783513|Freehold| 4450000|\n",
      "|         For Sale|       183.0|              9|    Baht|Detached House|    7641037|       Sam Phran|          2|Nakhon Pathom|      2019|13.71940167|      0|             9|Phutthamonthon Sa...|    CORPORATE|100.3299757|Freehold|30360000|\n",
      "|         For Sale|        40.0|              1|    Baht|         Condo|    7663169|     Huai Khwang|          6|      Bangkok|      2014|  13.754701|      0|             1|- Soi Rama 9, Ram...|    CORPORATE| 100.567057|Freehold| 3890000|\n",
      "|         For Sale|       127.0|              3|    Baht|         Condo|    7665140|      Khlong San|         51|      Bangkok|      2018|   6.250554|      0|             2|Khlong Ton Sai, K...|    CORPORATE| 102.044653|Freehold|55500000|\n",
      "|         For Sale|       50.63|              1|    Baht|         Condo|    7787549|        Bang Rak|         15|      Bangkok|      2018|  13.726665|      0|             1|- Rama 4 Road, Si...|    CORPORATE| 100.541131|Freehold|20000000|\n",
      "|         For Sale|        40.0|              1|    Baht|         Condo|    7825301|     Huai Khwang|          3|      Bangkok|      2017|  13.766627|      0|             1|              #NAME?|    CORPORATE| 100.580921|Freehold| 3900000|\n",
      "|         For Sale|       49.61|              1|    Baht|         Condo|    7967127|Muang Nonthaburi|         11|   Nonthaburi|      2016|13.86947028|      0|             2|678 Rattanathibet...|       NORMAL|100.4896351|Freehold| 2990000|\n",
      "|         For Sale|        45.0|              1|    Baht|         Condo|    7996723|     Ratchathewi|         70|      Bangkok|      2012|  13.749787|      0|             1|1655 Petchburi Ro...|    CORPORATE| 100.562047|Freehold| 6800000|\n",
      "|         For Sale|        80.0|              2|    Baht|         Condo|    7998823|     Khlong Toei|          6|      Bangkok|      2018|  13.746369|      0|             2|- Sukhumvit 21 Ro...|    CORPORATE| 100.562791|Freehold|18400000|\n",
      "|         For Sale|       200.0|              3|    Baht|Detached House|    8022398|       Bang Plee|          2| Samut Prakan|      2015|  13.621157|      0|             3|Namdaeng Road, Ba...|    CORPORATE| 100.679146|Freehold| 5690000|\n",
      "|         For Sale|        37.0|              1|    Baht|         Condo|    8024568|     Huai Khwang|         32|      Bangkok|      2015|13.75457085|      0|             1|884 12-13 Rama 9 ...|    CORPORATE|  100.57546|Freehold| 3200000|\n",
      "|         For Sale|       57.57|              1|    Baht|         Condo|    8103754|     Khlong Toei|         21|      Bangkok|      2018|  13.725919|      0|             1|- Soi Sukhumvit 3...|    CORPORATE| 100.575515|Freehold|15000000|\n",
      "|         For Sale|        24.0|              1|    Baht|         Condo|    8133565|       Chatuchak|          8|      Bangkok|      2019|   13.81497|      0|             1|Soi Ratchadapisek...|    CORPORATE| 100.576593|Freehold| 2390000|\n",
      "+-----------------+------------+---------------+--------+--------------+-----------+----------------+-----------+-------------+----------+-----------+-------+--------------+--------------------+-------------+-----------+--------+--------+\n",
      "only showing top 20 rows\n",
      "\n"
     ]
    }
   ],
   "source": [
    "cap_value = 70  \n",
    "\n",
    "# Identify and handle outliers for floor level\n",
    "ppty_data = ppty_data.withColumn(\n",
    "    \"floor_level\",\n",
    "    expr(\"CASE WHEN floor_level < 0 THEN 0 \"  # Set a lower cap, e.g., 0\n",
    "         \"WHEN floor_level > {} THEN {} ELSE floor_level END\"\n",
    "         .format(cap_value, cap_value))\n",
    ")\n",
    "\n",
    "# Show the DataFrame after outlier handling\n",
    "ppty_data.show()"
   ]
  },
  {
   "cell_type": "code",
   "execution_count": 32,
   "metadata": {},
   "outputs": [],
   "source": [
    "ppty_data = ppty_data.filter((ppty_data['built_year']<=2023))"
   ]
  },
  {
   "cell_type": "code",
   "execution_count": 33,
   "metadata": {},
   "outputs": [],
   "source": [
    "quantiles = ppty_data.stat.approxQuantile(\"price\", [0.25, 0.75], 0.01)\n",
    "\n",
    "# Calculate the IQR for floor_level\n",
    "lower_q, upper_q = quantiles\n",
    "iqr = upper_q - lower_q\n",
    "\n",
    "# Define a threshold for outlier detection\n",
    "threshold = 100\n",
    "\n",
    "ppty_data = ppty_data.withColumn(\"price\", when(col(\"price\") > upper_q + threshold * iqr, upper_q + threshold * iqr).otherwise(col(\"price\")))"
   ]
  },
  {
   "cell_type": "code",
   "execution_count": 34,
   "metadata": {},
   "outputs": [],
   "source": [
    "from pyspark.sql import SparkSession\n",
    "from pyspark.sql.functions import col, when\n",
    "\n",
    "columns_to_winsorize = ['living_space']\n",
    "\n",
    "# Define winsorization limits (e.g., 5th and 95th percentiles)\n",
    "lower_limit = 0.05\n",
    "upper_limit = 0.95\n",
    "\n",
    "# Apply winsorization to specified columns\n",
    "for column in columns_to_winsorize:\n",
    "    # Calculate quantiles for winsorization\n",
    "    quantiles = ppty_data.approxQuantile(column, [lower_limit, upper_limit], 0.01)\n",
    "\n",
    "    # Extract lower and upper bounds\n",
    "    lower_bound, upper_bound = quantiles\n",
    "\n",
    "    # Apply winsorization to the specified column\n",
    "    ppty_data = ppty_data.withColumn(\n",
    "        f\"winsorized_{column}\",\n",
    "        when(col(column) < lower_bound, lower_bound)\n",
    "        .when(col(column) > upper_bound, upper_bound)\n",
    "        .otherwise(col(column))\n",
    "    )"
   ]
  },
  {
   "cell_type": "code",
   "execution_count": 35,
   "metadata": {},
   "outputs": [
    {
     "name": "stdout",
     "output_type": "stream",
     "text": [
      "+-----------+---------------+--------------+------------------+----------------------+---------------------+\n",
      "|floor_level|bathroom_number|bedroom_number|floor_level_bucket|bathroom_number_bucket|bedroom_number_bucket|\n",
      "+-----------+---------------+--------------+------------------+----------------------+---------------------+\n",
      "|       15.0|            1.0|           1.0|               1.0|                   0.0|                  0.0|\n",
      "|       14.0|            1.0|           1.0|               1.0|                   0.0|                  0.0|\n",
      "|       53.0|            2.0|           2.0|               6.0|                   1.0|                  1.0|\n",
      "|        6.0|            1.0|           1.0|               0.0|                   0.0|                  0.0|\n",
      "|       12.0|            2.0|           2.0|               1.0|                   1.0|                  1.0|\n",
      "|        4.0|            1.0|           1.0|               0.0|                   0.0|                  0.0|\n",
      "|        2.0|            1.0|           1.0|               0.0|                   0.0|                  0.0|\n",
      "|        3.0|            1.0|           1.0|               0.0|                   0.0|                  0.0|\n",
      "|        5.0|            1.0|           1.0|               0.0|                   0.0|                  0.0|\n",
      "|       35.0|            1.0|           1.0|               4.0|                   0.0|                  0.0|\n",
      "|        2.0|            1.0|           1.0|               0.0|                   0.0|                  0.0|\n",
      "|        4.0|            1.0|           0.0|               0.0|                   0.0|                  0.0|\n",
      "|        7.0|            1.0|           0.0|               0.0|                   0.0|                  0.0|\n",
      "|        6.0|            1.0|           1.0|               0.0|                   0.0|                  0.0|\n",
      "|       10.0|            3.0|           2.0|               1.0|                   2.0|                  1.0|\n",
      "|       28.0|            3.0|           2.0|               3.0|                   2.0|                  1.0|\n",
      "|        6.0|            1.0|           2.0|               0.0|                   0.0|                  1.0|\n",
      "|       28.0|            2.0|           2.0|               3.0|                   1.0|                  1.0|\n",
      "|       40.0|            2.0|           2.0|               4.0|                   1.0|                  1.0|\n",
      "|       21.0|            1.0|           1.0|               2.0|                   0.0|                  0.0|\n",
      "+-----------+---------------+--------------+------------------+----------------------+---------------------+\n",
      "only showing top 20 rows\n",
      "\n"
     ]
    }
   ],
   "source": [
    "from pyspark.sql import SparkSession\n",
    "from pyspark.ml.feature import Bucketizer\n",
    "from pyspark.sql.functions import col\n",
    "\n",
    "# Assuming 'ppty_data' is your DataFrame\n",
    "# Replace these with your actual DataFrame and column names\n",
    "\n",
    "columns_to_bin = ['floor_level','bathroom_number', 'bedroom_number']\n",
    "\n",
    "# Ensure columns to bin are of type double or float\n",
    "for col_name in columns_to_bin:\n",
    "    ppty_data = ppty_data.withColumn(col_name, col(col_name).cast('double'))\n",
    "\n",
    "# Define the number of buckets (bins)\n",
    "num_buckets = 8\n",
    "\n",
    "# Find the minimum and maximum values in each column\n",
    "column_min_values = [ppty_data.agg({col_name: 'min'}).collect()[0][0] for col_name in columns_to_bin]\n",
    "column_max_values = [ppty_data.agg({col_name: 'max'}).collect()[0][0] for col_name in columns_to_bin]\n",
    "\n",
    "# Define the bin edges based on the min and max values\n",
    "bin_edges = [\n",
    "    [min_value + i * (max_value - min_value) / num_buckets for i in range(num_buckets + 1)]\n",
    "    for min_value, max_value in zip(column_min_values, column_max_values)\n",
    "]\n",
    "\n",
    "# Create a Bucketizer instance for each column\n",
    "bucketizers = [\n",
    "    Bucketizer(splits=edges, inputCol=col_name, outputCol=f\"{col_name}_bucket\")\n",
    "    for col_name, edges in zip(columns_to_bin, bin_edges)\n",
    "]\n",
    "\n",
    "# Apply the Bucketizer to the DataFrame\n",
    "for bucketizer in bucketizers:\n",
    "    ppty_data = bucketizer.transform(ppty_data)\n",
    "\n",
    "# Show the resulting DataFrame\n",
    "ppty_data.select(columns_to_bin + [f\"{col_name}_bucket\" for col_name in columns_to_bin]).show()\n"
   ]
  },
  {
   "cell_type": "code",
   "execution_count": 36,
   "metadata": {},
   "outputs": [
    {
     "name": "stdout",
     "output_type": "stream",
     "text": [
      "+----------+-----------------+\n",
      "|built_year|built_year_bucket|\n",
      "+----------+-----------------+\n",
      "|    2018.0|              8.0|\n",
      "|    2013.0|              7.0|\n",
      "|    2012.0|              7.0|\n",
      "|    2012.0|              7.0|\n",
      "|    2013.0|              7.0|\n",
      "|    2012.0|              7.0|\n",
      "|    2012.0|              7.0|\n",
      "|    2008.0|              6.0|\n",
      "|    2012.0|              7.0|\n",
      "|    2014.0|              7.0|\n",
      "|    2015.0|              7.0|\n",
      "|    2014.0|              7.0|\n",
      "|    2022.0|              9.0|\n",
      "|    2013.0|              7.0|\n",
      "|    2018.0|              8.0|\n",
      "|    2021.0|              9.0|\n",
      "|    2015.0|              7.0|\n",
      "|    2017.0|              8.0|\n",
      "|    2020.0|              9.0|\n",
      "|    2019.0|              8.0|\n",
      "+----------+-----------------+\n",
      "only showing top 20 rows\n",
      "\n"
     ]
    }
   ],
   "source": [
    "columns_to_bin = ['built_year']\n",
    "\n",
    "# Ensure columns to bin are of type double or float\n",
    "for col_name in columns_to_bin:\n",
    "    ppty_data = ppty_data.withColumn(col_name, col(col_name).cast('double'))\n",
    "\n",
    "# Define the number of buckets (bins)\n",
    "num_buckets = 10\n",
    "\n",
    "# Find the minimum and maximum values in each column\n",
    "column_min_values = [ppty_data.agg({col_name: 'min'}).collect()[0][0] for col_name in columns_to_bin]\n",
    "column_max_values = [ppty_data.agg({col_name: 'max'}).collect()[0][0] for col_name in columns_to_bin]\n",
    "\n",
    "# Define the bin edges based on the min and max values\n",
    "bin_edges = [\n",
    "    [min_value + i * (max_value - min_value) / num_buckets for i in range(num_buckets + 1)]\n",
    "    for min_value, max_value in zip(column_min_values, column_max_values)\n",
    "]\n",
    "\n",
    "# Create a Bucketizer instance for each column\n",
    "bucketizers = [\n",
    "    Bucketizer(splits=edges, inputCol=col_name, outputCol=f\"{col_name}_bucket\")\n",
    "    for col_name, edges in zip(columns_to_bin, bin_edges)\n",
    "]\n",
    "\n",
    "# Apply the Bucketizer to the DataFrame\n",
    "for bucketizer in bucketizers:\n",
    "    ppty_data = bucketizer.transform(ppty_data)\n",
    "\n",
    "# Show the resulting DataFrame\n",
    "ppty_data.select(columns_to_bin + [f\"{col_name}_bucket\" for col_name in columns_to_bin]).show()"
   ]
  },
  {
   "cell_type": "code",
   "execution_count": 37,
   "metadata": {
    "scrolled": true
   },
   "outputs": [],
   "source": [
    "from pyspark.sql import SparkSession\n",
    "from pyspark.sql.functions import col, sqrt\n",
    "\n",
    "numerical_columns = ['winsorized_living_space']\n",
    "\n",
    "# Apply square root transformation to each numerical column\n",
    "for column in numerical_columns:\n",
    "    # Create a new column with the square root transformation\n",
    "    column_name = 'sqrt_' + column\n",
    "    ppty_data = ppty_data.withColumn(column_name, sqrt(col(column)))"
   ]
  },
  {
   "cell_type": "markdown",
   "metadata": {},
   "source": [
    "#### Categorical Transformation"
   ]
  },
  {
   "cell_type": "code",
   "execution_count": 38,
   "metadata": {
    "scrolled": true
   },
   "outputs": [],
   "source": [
    "from pyspark.ml import Pipeline\n",
    "from pyspark.ml.feature import StringIndexer, OneHotEncoder\n",
    "from pyspark.sql import SparkSession\n",
    "\n",
    "categorical_columns = [\"state\",\"sub_property_type\", \"property_type\",\"city\",\"listing_label\",\"tenure\",\"address\"]\n",
    "\n",
    "# Create stages for StringIndexer and OneHotEncoder for each categorical column\n",
    "stages = []\n",
    "for col in categorical_columns:\n",
    "    indexer = StringIndexer(inputCol=col, outputCol=col+\"_index\")\n",
    "    encoder = OneHotEncoder(inputCol=col+\"_index\", outputCol=col+\"_vec\")\n",
    "    stages += [indexer, encoder]\n",
    "\n",
    "# Create a pipeline with all the stages\n",
    "pipeline = Pipeline(stages=stages)\n",
    "\n",
    "# Fit and transform the data\n",
    "model = pipeline.fit(ppty_data)\n",
    "ppty_data = model.transform(ppty_data)"
   ]
  },
  {
   "cell_type": "markdown",
   "metadata": {},
   "source": [
    "#### Dropping Columns"
   ]
  },
  {
   "cell_type": "code",
   "execution_count": 39,
   "metadata": {
    "scrolled": true
   },
   "outputs": [],
   "source": [
    "ppty_data = ppty_data.drop(\"sub_property_type\",\"address\", \"property_type\",\"city\",\"state\",\"listing_label\",\"tenure\",\"currency\",\"living_space\",\"bathroom_number\",\"property_id\",\"floor_level\",\"built_year\",\"bedroom_number\",\"winsorized_living_space\")"
   ]
  },
  {
   "cell_type": "code",
   "execution_count": 40,
   "metadata": {},
   "outputs": [
    {
     "name": "stdout",
     "output_type": "stream",
     "text": [
      "+-----------+-------+-----------+---------+------------------+----------------------+---------------------+-----------------+----------------------------+-----------+---------------+-----------------------+---------------------+-------------------+-----------------+----------+---------------+-------------------+-----------------+------------+-------------+-------------+------------------+\n",
      "|   latitude|premium|  longitude|    price|floor_level_bucket|bathroom_number_bucket|bedroom_number_bucket|built_year_bucket|sqrt_winsorized_living_space|state_index|      state_vec|sub_property_type_index|sub_property_type_vec|property_type_index|property_type_vec|city_index|       city_vec|listing_label_index|listing_label_vec|tenure_index|   tenure_vec|address_index|       address_vec|\n",
      "+-----------+-------+-----------+---------+------------------+----------------------+---------------------+-----------------+----------------------------+-----------+---------------+-----------------------+---------------------+-------------------+-----------------+----------+---------------+-------------------+-----------------+------------+-------------+-------------+------------------+\n",
      "|  13.783881|      0| 100.585884|1600000.0|               0.0|                   0.0|                  0.0|              7.0|           5.291502622129181|        0.0| (16,[0],[1.0])|                    0.0|        (1,[0],[1.0])|                0.0|    (3,[0],[1.0])|       0.0| (88,[0],[1.0])|                0.0|    (2,[0],[1.0])|         0.0|(2,[0],[1.0])|         37.0| (1683,[37],[1.0])|\n",
      "|13.70916533|      0|100.3829791|1590000.0|               1.0|                   0.0|                  0.0|              8.0|           4.795831523312719|        0.0| (16,[0],[1.0])|                    0.0|        (1,[0],[1.0])|                0.0|    (3,[0],[1.0])|      37.0|(88,[37],[1.0])|                0.0|    (2,[0],[1.0])|         0.0|(2,[0],[1.0])|        129.0|(1683,[129],[1.0])|\n",
      "|  13.755804|      0| 100.565882|6690000.0|               0.0|                   1.0|                  1.0|              7.0|           7.280109889280518|        0.0| (16,[0],[1.0])|                    0.0|        (1,[0],[1.0])|                0.0|    (3,[0],[1.0])|       0.0| (88,[0],[1.0])|                0.0|    (2,[0],[1.0])|         0.0|(2,[0],[1.0])|         63.0| (1683,[63],[1.0])|\n",
      "|   13.75682|      0| 100.561336|3250000.0|               0.0|                   1.0|                  1.0|              6.0|           7.211102550927978|        0.0| (16,[0],[1.0])|                    0.0|        (1,[0],[1.0])|                0.0|    (3,[0],[1.0])|      10.0|(88,[10],[1.0])|                0.0|    (2,[0],[1.0])|         0.0|(2,[0],[1.0])|          1.0|  (1683,[1],[1.0])|\n",
      "|  13.711162|      0| 100.603783|2490000.0|               0.0|                   0.0|                  0.0|              7.0|          5.5677643628300215|        0.0| (16,[0],[1.0])|                    0.0|        (1,[0],[1.0])|                0.0|    (3,[0],[1.0])|       6.0| (88,[6],[1.0])|                0.0|    (2,[0],[1.0])|         0.0|(2,[0],[1.0])|        153.0|(1683,[153],[1.0])|\n",
      "|  13.727579|      0| 100.581805|  1.335E7|               0.0|                   0.0|                  0.0|              7.0|           7.615773105863909|        0.0| (16,[0],[1.0])|                    0.0|        (1,[0],[1.0])|                0.0|    (3,[0],[1.0])|       1.0| (88,[1],[1.0])|                0.0|    (2,[0],[1.0])|         0.0|(2,[0],[1.0])|         91.0| (1683,[91],[1.0])|\n",
      "|  13.810595|      0|  100.56583|2950000.0|               1.0|                   0.0|                  0.0|              6.0|           5.744562646538029|        0.0| (16,[0],[1.0])|                    0.0|        (1,[0],[1.0])|                0.0|    (3,[0],[1.0])|       2.0| (88,[2],[1.0])|                0.0|    (2,[0],[1.0])|         0.0|(2,[0],[1.0])|         90.0| (1683,[90],[1.0])|\n",
      "|13.71371665|      0|100.4783513|4450000.0|               4.0|                   0.0|                  0.0|              8.0|           5.787918451395113|        0.0| (16,[0],[1.0])|                    0.0|        (1,[0],[1.0])|                0.0|    (3,[0],[1.0])|      13.0|(88,[13],[1.0])|                0.0|    (2,[0],[1.0])|         0.0|(2,[0],[1.0])|          0.0|  (1683,[0],[1.0])|\n",
      "|13.71940167|      0|100.3299757|  3.036E7|               0.0|                   7.0|                  6.0|              8.0|          11.180339887498949|       10.0|(16,[10],[1.0])|                    0.0|        (1,[0],[1.0])|                1.0|    (3,[1],[1.0])|      68.0|(88,[68],[1.0])|                0.0|    (2,[0],[1.0])|         0.0|(2,[0],[1.0])|        748.0|(1683,[748],[1.0])|\n",
      "|  13.754701|      0| 100.567057|3890000.0|               0.0|                   0.0|                  0.0|              7.0|           6.324555320336759|        0.0| (16,[0],[1.0])|                    0.0|        (1,[0],[1.0])|                0.0|    (3,[0],[1.0])|       0.0| (88,[0],[1.0])|                0.0|    (2,[0],[1.0])|         0.0|(2,[0],[1.0])|          2.0|  (1683,[2],[1.0])|\n",
      "+-----------+-------+-----------+---------+------------------+----------------------+---------------------+-----------------+----------------------------+-----------+---------------+-----------------------+---------------------+-------------------+-----------------+----------+---------------+-------------------+-----------------+------------+-------------+-------------+------------------+\n",
      "only showing top 10 rows\n",
      "\n"
     ]
    }
   ],
   "source": [
    "ppty_data.show(10)"
   ]
  },
  {
   "cell_type": "markdown",
   "metadata": {},
   "source": [
    "## Data Wrangling and Transormation\n",
    "\n",
    "### Numerical Variables\n",
    "In the data wrangling and transformation phase, several key transformations were applied to enhance the quality and relevance of the dataset. The 'floor_level' variable underwent a capping operation, limiting its values to a maximum of 70 floors, aligning with the height of the tallest residential building in Thailand. Subsequently, rows with a 'built_year' beyond 2023 were filtered out to ensure the dataset's temporal coherence.\n",
    "\n",
    "To address missing or anomalous values in the 'price' variable, a multi-step strategy was implemented. Firstly, instances with a 'price' of 0 were replaced with the mean price within their respective cities, fostering a more accurate representation. Following this, outliers in the 'price' variable were capped to mitigate their impact on subsequent analyses.\n",
    "\n",
    "Further transformations targeted the numerical features of the dataset. 'Living_space' was subjected to winsorization, while 'floor_level', 'bathroom_number', 'bedroom_number', and 'built_year' underwent binning processes. Additionally, a square root transformation was applied to the winsorized 'living_space,' aiming to address non-linear relationships and enhance model performance.\n",
    "\n",
    "### Categorical Variables\n",
    "For categorical variables including \"state,\" \"sub_property_type,\" \"property_type,\" \"city,\" \"listing_label,\" \"tenure,\" and \"address,\" a one-hot encoding technique was employed. This conversion ensures the incorporation of categorical information into the model, enhancing its capacity to capture nuances in the data.\n",
    "\n",
    "These preprocessing steps collectively contribute to a more robust and refined dataset, setting the stage for subsequent data analysis and modelling. \n"
   ]
  },
  {
   "cell_type": "markdown",
   "metadata": {},
   "source": [
    "### Step 4: Machine Learning Modelling<a id=\"part4\"></a>"
   ]
  },
  {
   "cell_type": "markdown",
   "metadata": {},
   "source": [
    "#### Model 1"
   ]
  },
  {
   "cell_type": "code",
   "execution_count": 41,
   "metadata": {},
   "outputs": [],
   "source": [
    "# how to we train or test our models?"
   ]
  },
  {
   "cell_type": "code",
   "execution_count": 42,
   "metadata": {},
   "outputs": [],
   "source": [
    "# use code to show number of rows and columns,\n",
    "# as well as a sample of 10 rows before heading into Machine Learning Modelling"
   ]
  },
  {
   "cell_type": "code",
   "execution_count": 43,
   "metadata": {
    "scrolled": false
   },
   "outputs": [
    {
     "name": "stdout",
     "output_type": "stream",
     "text": [
      "Dimension of the Dataframe is: (41308, 23)\n",
      "Number of Rows are: 41308\n",
      "Number of Columns are: 23\n",
      "\n"
     ]
    }
   ],
   "source": [
    "# extracting number of rows from the Dataframe\n",
    "row = ppty_data.count()\n",
    "\n",
    "# extracting number of columns from the Dataframe\n",
    "col = len(ppty_data.columns)\n",
    "\n",
    "# printing\n",
    "print(f'Dimension of the Dataframe is: {(row,col)}')\n",
    "print(f'Number of Rows are: {row}')\n",
    "print(f'Number of Columns are: {col}\\n')"
   ]
  },
  {
   "cell_type": "code",
   "execution_count": 44,
   "metadata": {},
   "outputs": [],
   "source": [
    "(train, test) = ppty_data.randomSplit([0.8, 0.2], seed=42)"
   ]
  },
  {
   "cell_type": "code",
   "execution_count": 45,
   "metadata": {},
   "outputs": [
    {
     "name": "stdout",
     "output_type": "stream",
     "text": [
      "Dimension of the train is: (32965, 23)\n",
      "Number of Rows are: 32965\n",
      "Number of Columns are: 23\n",
      "\n",
      "Dimension of the test is: (8343, 23)\n",
      "Number of Rows are: 8343\n",
      "Number of Columns are: 23\n",
      "\n"
     ]
    }
   ],
   "source": [
    "# extracting number of rows from the Dataframe\n",
    "row = train.count()\n",
    "\n",
    "# extracting number of columns from the Dataframe\n",
    "col = len(train.columns)\n",
    "\n",
    "# printing\n",
    "print(f'Dimension of the train is: {(row,col)}')\n",
    "print(f'Number of Rows are: {row}')\n",
    "print(f'Number of Columns are: {col}\\n')\n",
    "\n",
    "# extracting number of rows from the Dataframe\n",
    "row = test.count()\n",
    "\n",
    "# extracting number of columns from the Dataframe\n",
    "col = len(test.columns)\n",
    "\n",
    "# printing\n",
    "print(f'Dimension of the test is: {(row,col)}')\n",
    "print(f'Number of Rows are: {row}')\n",
    "print(f'Number of Columns are: {col}\\n')"
   ]
  },
  {
   "cell_type": "code",
   "execution_count": 46,
   "metadata": {},
   "outputs": [
    {
     "name": "stdout",
     "output_type": "stream",
     "text": [
      "root\n",
      " |-- latitude: double (nullable = true)\n",
      " |-- premium: integer (nullable = true)\n",
      " |-- longitude: double (nullable = true)\n",
      " |-- price: double (nullable = true)\n",
      " |-- floor_level_bucket: double (nullable = true)\n",
      " |-- bathroom_number_bucket: double (nullable = true)\n",
      " |-- bedroom_number_bucket: double (nullable = true)\n",
      " |-- built_year_bucket: double (nullable = true)\n",
      " |-- sqrt_winsorized_living_space: double (nullable = true)\n",
      " |-- state_index: double (nullable = false)\n",
      " |-- state_vec: vector (nullable = true)\n",
      " |-- sub_property_type_index: double (nullable = false)\n",
      " |-- sub_property_type_vec: vector (nullable = true)\n",
      " |-- property_type_index: double (nullable = false)\n",
      " |-- property_type_vec: vector (nullable = true)\n",
      " |-- city_index: double (nullable = false)\n",
      " |-- city_vec: vector (nullable = true)\n",
      " |-- listing_label_index: double (nullable = false)\n",
      " |-- listing_label_vec: vector (nullable = true)\n",
      " |-- tenure_index: double (nullable = false)\n",
      " |-- tenure_vec: vector (nullable = true)\n",
      " |-- address_index: double (nullable = false)\n",
      " |-- address_vec: vector (nullable = true)\n",
      "\n"
     ]
    }
   ],
   "source": [
    "ppty_data.printSchema()"
   ]
  },
  {
   "cell_type": "code",
   "execution_count": 47,
   "metadata": {},
   "outputs": [],
   "source": [
    "from pyspark.ml.feature import VectorAssembler\n",
    "feature_columns = [col for col in train.columns if col != 'price']\n",
    "featureassembler=VectorAssembler(inputCols=feature_columns,outputCol=\"Xcols\")"
   ]
  },
  {
   "cell_type": "code",
   "execution_count": 48,
   "metadata": {},
   "outputs": [],
   "source": [
    "train_vectored = featureassembler.transform(train)"
   ]
  },
  {
   "cell_type": "code",
   "execution_count": 49,
   "metadata": {},
   "outputs": [],
   "source": [
    "test_vectored = featureassembler.transform(test)"
   ]
  },
  {
   "cell_type": "code",
   "execution_count": 50,
   "metadata": {},
   "outputs": [],
   "source": [
    "from pyspark.ml.feature import StandardScaler\n",
    "\n",
    "sScaler = StandardScaler(withMean=True, withStd=True, inputCol=\"Xcols\", outputCol=\"Xcols_sscaled\")"
   ]
  },
  {
   "cell_type": "code",
   "execution_count": 51,
   "metadata": {},
   "outputs": [],
   "source": [
    "train_sscaled = sScaler.fit(train_vectored).transform(train_vectored)\n",
    "\n",
    "test_sscaled = sScaler.fit(test_vectored).transform(test_vectored)"
   ]
  },
  {
   "cell_type": "code",
   "execution_count": 52,
   "metadata": {},
   "outputs": [
    {
     "name": "stdout",
     "output_type": "stream",
     "text": [
      "+---------+-------+----------+---------+------------------+----------------------+---------------------+-----------------+----------------------------+-----------+--------------+-----------------------+---------------------+-------------------+-----------------+----------+---------------+-------------------+-----------------+------------+-------------+-------------+-------------------+--------------------+--------------------+\n",
      "| latitude|premium| longitude|    price|floor_level_bucket|bathroom_number_bucket|bedroom_number_bucket|built_year_bucket|sqrt_winsorized_living_space|state_index|     state_vec|sub_property_type_index|sub_property_type_vec|property_type_index|property_type_vec|city_index|       city_vec|listing_label_index|listing_label_vec|tenure_index|   tenure_vec|address_index|        address_vec|               Xcols|       Xcols_sscaled|\n",
      "+---------+-------+----------+---------+------------------+----------------------+---------------------+-----------------+----------------------------+-----------+--------------+-----------------------+---------------------+-------------------+-----------------+----------+---------------+-------------------+-----------------+------------+-------------+-------------+-------------------+--------------------+--------------------+\n",
      "| 6.250554|      0|102.044653|   5.55E7|               5.0|                   2.0|                  1.0|              8.0|          11.180339887498949|        0.0|(16,[0],[1.0])|                    0.0|        (1,[0],[1.0])|                0.0|    (3,[0],[1.0])|       9.0| (88,[9],[1.0])|                0.0|    (2,[0],[1.0])|         0.0|(2,[0],[1.0])|       1306.0|(1683,[1306],[1.0])|(1810,[0,2,3,4,5,...|[-13.451591573564...|\n",
      "|12.619622|      0| 99.951243|2290000.0|               0.0|                   0.0|                  0.0|              7.0|           5.744562646538029|        6.0|(16,[6],[1.0])|                    0.0|        (1,[0],[1.0])|                0.0|    (3,[0],[1.0])|      45.0|(88,[45],[1.0])|                0.0|    (2,[0],[1.0])|         0.0|(2,[0],[1.0])|       1083.0|(1683,[1083],[1.0])|(1810,[0,2,6,7,8,...|[-2.0344013779566...|\n",
      "|12.874982|      0|100.887046|6090000.0|               3.0|                   0.0|                  0.0|              7.0|           7.416198487095663|        3.0|(16,[3],[1.0])|                    0.0|        (1,[0],[1.0])|                0.0|    (3,[0],[1.0])|      22.0|(88,[22],[1.0])|                0.0|    (2,[0],[1.0])|         0.0|(2,[0],[1.0])|        615.0| (1683,[615],[1.0])|(1810,[0,2,3,6,7,...|[-1.5766430861075...|\n",
      "|12.921459|      0|100.882059|4800000.0|               3.0|                   0.0|                  0.0|              8.0|           6.481512169239521|        3.0|(16,[3],[1.0])|                    0.0|        (1,[0],[1.0])|                0.0|    (3,[0],[1.0])|      22.0|(88,[22],[1.0])|                0.0|    (2,[0],[1.0])|         0.0|(2,[0],[1.0])|        868.0| (1683,[868],[1.0])|(1810,[0,2,3,6,7,...|[-1.4933284239433...|\n",
      "|12.935937|      0|100.897023|3200000.0|               0.0|                   0.0|                  0.0|              7.0|            6.48074069840786|        3.0|(16,[3],[1.0])|                    0.0|        (1,[0],[1.0])|                0.0|    (3,[0],[1.0])|      22.0|(88,[22],[1.0])|                0.0|    (2,[0],[1.0])|         0.0|(2,[0],[1.0])|        672.0| (1683,[672],[1.0])|(1810,[0,2,6,7,8,...|[-1.4673751636465...|\n",
      "+---------+-------+----------+---------+------------------+----------------------+---------------------+-----------------+----------------------------+-----------+--------------+-----------------------+---------------------+-------------------+-----------------+----------+---------------+-------------------+-----------------+------------+-------------+-------------+-------------------+--------------------+--------------------+\n",
      "only showing top 5 rows\n",
      "\n"
     ]
    }
   ],
   "source": [
    "train_sscaled.show(5)"
   ]
  },
  {
   "cell_type": "code",
   "execution_count": 53,
   "metadata": {},
   "outputs": [],
   "source": [
    "train_data = train_sscaled#.select(\"Xcols_sscaled\",\"price\")\n",
    "# train_data.show(5)"
   ]
  },
  {
   "cell_type": "code",
   "execution_count": 54,
   "metadata": {},
   "outputs": [],
   "source": [
    "test_data = test_sscaled#.select(\"Xcols_sscaled\",\"price\")\n",
    "# test_data.show(5)"
   ]
  },
  {
   "cell_type": "code",
   "execution_count": null,
   "metadata": {},
   "outputs": [],
   "source": []
  },
  {
   "cell_type": "code",
   "execution_count": 55,
   "metadata": {},
   "outputs": [],
   "source": [
    "from pyspark.ml.regression import LinearRegression\n",
    "\n",
    "regressor=LinearRegression(featuresCol=\"Xcols_sscaled\", labelCol='price')\n",
    "regressor=regressor.fit(train_data)"
   ]
  },
  {
   "cell_type": "code",
   "execution_count": 56,
   "metadata": {},
   "outputs": [
    {
     "data": {
      "text/plain": [
       "pyspark.ml.regression.LinearRegressionModel"
      ]
     },
     "execution_count": 56,
     "metadata": {},
     "output_type": "execute_result"
    }
   ],
   "source": [
    "type(regressor)"
   ]
  },
  {
   "cell_type": "code",
   "execution_count": 57,
   "metadata": {},
   "outputs": [
    {
     "data": {
      "text/plain": [
       "DenseVector([-63102.0234, -52258.8935, -251591.3806, 269630.4522, 6719784.2763, 508548.1878, 487976.7998, -812668.7024, -51326.6824, 132383.6581, -144029.2859, -147518.8551, 131152.9505, 19202.9129, -36112.6985, 59511.0972, -63773.0542, 93324.7198, -5806.2896, -69256.2433, -149685.7342, 32688.0437, 35963.779, 37578.7992, 53407.798, -106001.1399, 106001.1399, -1646763.5613, -651344.1697, 2204290.019, 1656278.5008, -383675.8985, -311478.5693, 1083068.2278, -165407.642, 840157.3883, -763198.7128, 371266.1323, -483929.8213, -233847.6257, -398098.4929, 30465.7635, -62721.0936, -374747.6448, 19400.8888, -193718.0587, -163177.6727, 177249.833, -140988.3906, 473335.8537, -18194.534, 709236.6417, -136064.4015, -372168.5122, 166749.5784, -168966.4315, -235014.6293, 1038720.49, -99221.2091, -129300.8509, -259146.9855, -201126.261, 19202.9129, 40868.2307, -75344.6636, -99005.3675, -99334.1775, -108368.1142, 39008.8601, -7780.1213, -2616.2631, -90023.3711, -296011.1908, 45626.1965, 9128.3124, -14039.8869, -60114.0095, 47515.2236, -85134.2517, -78560.3426, -206128.7429, -314345.367, -27642.9014, 93324.7198, -282340.5781, -10902.8966, -12682.0482, -36316.1998, -53173.0688, -9568.6264, 83524.5395, -20946.8123, -605.6615, -158318.9819, -74158.3941, 26380.1126, -22339.5396, -158679.681, -172476.5059, 44733.6741, -176782.2539, -187213.3012, 22455.2413, -56454.9308, -44405.7491, 23183.4119, 46572.7711, -68662.4333, 51845.445, 24196.6805, 37578.7992, 53407.798, 37310.6441, 23829.8367, -31962.5825, 41242.1253, -36213.9222, 31348.8404, 28070.4481, 15826.5489, 65418.5737, -7409.9071, -51386.6368, -25161.5585, 17188.6425, -8075.311, -2551526.1547, -379055.8705, -242905.6188, -67783.4007, -233251.6311, -482157.4069, -152611.633, 1651827.1531, -61417.7661, -44217.6918, 117032.8596, 2150.0243, -22086.108, 18732.7701, -315224.2547, -62784.5258, -142313.5037, 92352.23, -131718.3761, -70618.0155, 119572.1193, -442623.2578, 79980.1549, 51683.1256, 450948.1129, -81027.2293, -143434.9137, -351384.2972, 63149.4878, -1630.5744, -238850.8551, -261857.9251, -57107.1208, 292017.3609, -148441.2122, 24819.7039, -106725.66, -47938.3945, -120965.7468, 118855.9082, -98127.7478, -160309.388, -136983.0077, 236052.9235, -167795.1899, 225981.3993, 32940.7491, 806566.8999, -46836.9909, 3675.5819, -60064.2923, -9142.0086, -238636.7088, 31550.0368, -73844.8568, -41392.8006, -86253.3727, -43099.7608, 29516.0682, 75003.0973, -81832.6761, -91285.7372, -35895.465, 13129.214, -33854.0152, 11183.6028, -27770.2927, -105925.9983, -9370.3931, -240452.2886, -170279.5494, 24078.6129, 8889.3975, 15.098, -130582.4257, -55791.6079, 38484.3738, 7508.4787, -120006.4995, -581760.3205, -26901.6712, 68428.074, 34268.2309, -26235.0934, 27717.6066, -16359.4239, -7059.6979, 230216.9809, -32210.8412, 35059.6753, -80124.6431, -84155.4998, 154261.9007, -50196.4577, -195119.4838, 7393.9007, -65191.9635, -104829.2992, 43910.3898, 44158.4929, 9628.3092, -70549.6403, 24063.4887, 44251.894, -73400.1179, 38816.0398, 185522.223, -20046.9099, 63557.5283, 32548.8407, -151436.5134, -157350.6298, 69056.8571, 26861.5123, -65960.4286, -184846.3518, -32197.4907, -469652.5693, -70480.5943, 24862.5562, -27627.6096, -35834.2934, -90253.7102, -82660.2077, 249719.7409, 163013.7981, -28463.2951, -90793.0579, -17435.4194, -265306.6458, -92266.8112, -6097.0866, 831554.1719, 425431.0367, -34422.291, -106795.1044, -9474.401, -2576.956, 103975.8186, 826553.2352, -38786.154, -15832.6573, 389625.6301, -133904.0076, 3428208.7546, 47071.8161, 33294.7618, -28221.8858, 3506.1775, -734634.6674, -140242.2019, -29737.6142, -9885.6857, 111530.0806, 45892.2426, 30729.0309, 11850.5304, 54705.8756, 27733.4757, 59306.5104, 33032.2422, -19384.3881, -18971.9144, -59545.5338, -98321.7052, 3134.0194, 41281.5872, -468070.3751, 126740.3906, -68311.1869, -1412.5636, -17444.2467, 228615.7086, 104260.2523, 59023.5969, 1229.621, 52886.2415, 576182.2808, -71284.0273, 9037.51, 179948.149, 63483.0398, -27479.3549, 73648.5141, -6155.1173, 14266.3474, -45290.9222, 33199.2481, -21431.9747, 5166.6258, -2551.0356, -57812.3436, 3701.8497, 10562.0945, 40313.5265, 18681.5896, 12529.3108, 158718.4882, -13188.9864, -29350.7324, -42957.3346, -119219.4155, 46791.5371, 52941.6164, 306768.6378, -64568.4518, 218045.9574, -60589.8663, 37505.1998, 34301.164, -4238.797, 12129.5088, 121805.0663, 56228.333, 87205.1328, 3953.1893, -75498.1616, -145800.4973, -125189.4179, -856438.1747, 47771.4402, 60075.5333, 22945.7859, -44180.8565, 69993.3942, -9398.2052, 18116.8024, -83851.9357, -72310.1153, 67680.7026, -29039.3207, -35908.672, 88409.1521, 38650.2837, -19500.1768, -308939.0992, -50028.4179, -17539.0239, -28751.4405, 34563.8289, 124064.4027, 2672.0223, 96511.7186, 86333.3045, -85464.1625, 42001.412, -78417.1313, 34976.5434, 513828.6489, -24530.3469, -60261.2475, 58061.4568, -52150.6764, 89163.6475, 10505.9654, -34417.7292, -29943.5817, 9007.4072, 652074.5636, -73113.7096, 64012.6446, 26673.1764, 127724.04, 253500.8554, 15487.7325, 15058.5495, 145552.0259, 53621.835, 9457.2917, 140601.0125, 40844.1921, 74176.9656, -38774.6155, -8484.2421, 46307.1839, -16410.9519, 33138.4788, 15367.3148, 598.9867, -75018.0005, 398942.0888, -42737.0494, 377442.9169, -307.6659, 54748.9074, -37313.5908, 79888.7246, -677976.3541, 10598.5251, 22681.8628, 62116.7362, 16136.7238, 1019.1416, -34340.9523, 82688.92, 17781.7041, 4629.049, 303961.3518, 76509.9103, 64099.4727, 12113.8945, 21827.1712, -80924.0556, -126293.4516, 53933.4627, 4590.5846, 146615.9331, -19500.0575, 41781.3589, 10232.7943, 61887.0414, 54686.225, 19922.1663, -302696.5915, 180578.5859, 39964.8254, 272690.6222, 85353.1304, 507574.679, -119505.1369, 3709.1839, -1617.2459, 24759.1377, 38807.3224, 13139.4231, 9468.4454, 10746.0985, 45311.8793, 34811.9845, 1363.7479, 57316.6305, 63482.6619, 507205.2095, -51095.8644, 24568.9333, 20148.2107, 58325.168, 2350017.1758, 39686.2656, 85875.5601, 85935.7966, -3083.5151, -23550.2959, 4968.1919, 117591.2256, 36450.5909, -4707.0051, 22476.1008, 30858.2629, -44151.4677, 14299.867, 59602.2983, 18968.4451, 66949.9792, 18825.8904, 73463.2153, 145460.9014, 52261.3803, 20733.9754, 103785.4727, 59693.6868, -25098.5173, -57915.8091, 75494.8877, 410718.2085, -20436.6847, -33504.1375, 74473.5851, 42552.3605, 53839.5196, 56800.0483, -86928.8092, -25872.8282, 77734.4767, 121236.925, 1396445.3669, 107311.7912, 56045.1754, 26552.225, 79750.7698, -9060.1984, 10858.9353, -79534.7935, 58748.8583, 33774.8781, 62790.7243, 987900.3596, 77216.5903, 47360.8969, -13068.4025, -54511.4551, 62833.1896, 72431.5899, -104255.3535, 23498.4832, 74764.8142, 40515.2796, 111758.558, 3138313.6472, 192059.1282, 35405.1186, 107431.6683, 113648.8291, 76423.8438, 34942.7571, 103625.3623, 55941.5898, 90322.5887, 71507.7306, 738177.2028, -179900.0841, 95897.9579, 151583.524, -17035.8072, -8968.4766, 38587.2351, 33615.246, 126435.2843, 5682.7999, 69042.2442, 77894.2876, -16433.4526, 54480.2399, 48051.2638, 17399.7993, 28026.2543, 45299.4562, 80911.8351, -42085.3102, 88532.976, 66990.2668, -38936.7848, 34531.1286, 157188.8941, 152984.7606, 21877.2999, -72222.0084, 668561.803, 79543.8545, -655741.6202, -517149.3221, 16708.0412, 65158.4972, 48982.2775, -28401.9765, -34610.68, 30196.9376, 39828.559, -16187.8648, 45719.9369, 83234.5689, -12191.5537, 81387.5943, 76373.2672, 118566.8818, 26394.4323, 61159.7156, 137905.1145, 16201.6702, 28243.564, 13237.4326, 25847.8373, 84104.8917, 57514.3044, -53859.4382, 88583.5694, 28497.5631, 13145.0542, 64014.4092, 39047.4551, 120726.5051, 32951.0867, 45237.2007, 11425.5131, 91619.5824, 129148.5165, 107649.916, 37879.2629, 120110.4183, 35282.9141, -185804.1348, 82405.1468, -31523.2959, 21616.8457, 87877.0381, 69857.6447, 104144.7595, 69959.1808, 76298.462, -441178.5031, -47766.4369, 70484.1865, 1681547.9622, 85315.401, 78262.0978, -408519.9852, 39743.7355, -350888.3519, -369751.727, 99289.3095, 44809.4194, 104750.5111, 46891.0054, 115609.7742, 163891.7328, 185075.6106, 42939.6908, 90053.3518, 132590.9553, -116649.2302, 134813.0425, -2997.2906, 288206.2267, 74514.572, -78482.0007, 88667.1034, -44141.2056, 19954.5458, 55780.8117, 68507.6121, 33088.6946, 899376.6191, 20657.6442, 82269.2662, 72676.6711, 116509.462, 73778.7686, -58650.5971, 57740.8394, -11264.5341, 150184.9057, -32211.609, 16177.8471, 69322.0668, 107351.4743, -26253.2865, 67568.4026, 71574.1046, 53767.6566, -38614.8453, 77774.3816, 30099.5317, 32518.4772, 21055.0135, 160007.2094, -426132.6935, 219074.6512, 44425.6542, 123518.8315, 100308.788, 102420.1746, 41527.9859, 75756.9085, 77335.0458, -32926.9906, 47514.2785, -14996.2571, 49092.4579, 457095.9283, 34154.8471, 170675.3082, 70464.4635, 157268.1636, 53254.3987, -10884.457, -23540.4021, 32436.9224, 150114.6321, 31155.9025, 9910.8708, 62573.7724, 25845.8749, 117878.9466, 74910.8615, -134046.15, 42591.2105, -393255.8308, 56477.2383, 79171.3997, 39746.4312, 16057.7175, 67045.9854, 41924.4261, -82287.4769, 73639.131, 88298.3936, 65132.6265, 42536.1765, -33752.6245, 112379.7074, 64866.9823, 66198.0609, 39353.0037, 70875.1909, 70282.8332, 56586.153, 137233.3539, 70745.3346, 82439.6108, 161837.2713, 117446.8605, 32245.686, -49772.7326, 93785.7936, -3052.6306, 147698.4392, 28881.1545, 37612.7723, 98913.2138, 20021.8668, 59609.5198, 14439.0268, 604415.6543, -153815.1721, -329031.6167, 27959.2211, 88820.5202, 41205.8846, 89866.1738, 42032.3202, 65291.1556, 16444.6782, 27544.0525, 47139.9085, 60492.6517, 114552.8893, 76677.2874, 46994.205, 51316.0226, 9164.6969, -19875.0004, 31609.1922, -123725.1323, -146337.8794, -338649.3756, -278866.5798, 68821.3093, 67325.9607, 56541.0371, -247123.7563, 58741.2916, 4280.4229, 51236.3039, 63602.201, 106223.5742, 94581.0753, -260659.7885, 82214.0138, 34873.0336, 128011.8472, 73521.2906, 27143.5293, 44733.6741, 51734.097, 84933.3024, 102476.9862, 58191.4295, -23705.1044, 69514.7439, -237614.0036, 73015.9009, 30091.2997, -20199.9078, 69706.286, 156160.0723, 190947.8042, 75075.0204, -161508.4596, 101368.1976, 74419.9746, 99171.794, 51847.4695, 91533.145, 28655.0671, -110091.4764, 12188.6202, 49289.7621, 30593.8922, 61492.0245, 62975.2489, 83490.8866, 54774.1233, 71408.0902, 52851.4847, 70159.2859, 36652.5597, 60444.7096, 45844.6657, 32651.5232, 24553.8331, 99004.4347, 44451.984, 83938.7601, 56472.3552, 65651.3542, 4444.9319, 51973.9903, 49943.7563, -85453.5324, -284661.6666, 23889.144, -347596.268, -260096.0237, 78905.7507, -417500.173, 58336.7129, 17116.6978, 67115.8587, -305057.4888, 116831.9238, -262798.2565, 89787.205, -399297.7617, 35285.602, 343426.1011, -181728.9992, 78537.2547, 108458.8298, 98893.6449, 60587.6177, 41422.0441, 72845.7531, 122506.4211, 56752.0445, 91410.1033, 41080.4981, 21781.632, -120847.4856, 68200.4882, 185797.8906, 63404.665, 53294.3175, 70130.5379, 54298.8351, 69663.1365, 59607.543, 34311.3113, 83150.2616, 270298.0569, 56051.7562, 102080.117, -295380.3877, 60702.7745, 65543.5149, 94853.1802, 68679.5816, -87781.0447, 104097.4145, -166227.1388, -226054.5736, -438254.453, -229299.9449, -17748.2025, 65156.942, 31236.3086, 44185.6758, -262058.4726, 54574.0042, 72451.719, 44792.2674, 86690.7073, 48808.3777, 48820.8551, 30137.0734, 119725.429, 79018.3925, 37051.8023, 76751.7416, 80919.0278, 93168.0996, 50347.8958, 53623.223, 80120.2348, 89652.4137, 36865.009, 195940.3694, 87596.3097, 80291.6431, 54591.7167, 48408.614, 79435.5488, 89211.4384, 121225.3582, 126976.9422, 139847.3851, 232751.0653, 32066.3687, -397308.6311, -237043.8836, -7851.8091, 46757.472, 37424.988, 97440.5785, -396176.8591, -147483.945, -126803.9697, -214952.6093, -203403.7152, 71811.3192, 1998.7394, 127063.9172, -181590.6844, 69849.8388, 68379.991, 54887.3517, 10695.0798, 88691.6301, 49226.2833, 86488.0047, 26779.1545, 79521.4401, -24067.7306, 240030.6348, 48959.5389, -113239.764, 10904.1337, 54740.2146, 1077547.9015, 54225.5608, 68771.5894, 71978.162, 30103.5713, 68892.5428, 108124.2782, 90027.5064, 44936.5018, 182426.6906, 68090.9636, -151253.058, -324032.5045, 50246.5213, 68711.4678, 32066.4666, -281491.8008, 83451.7913, 95886.3264, 26212.1667, 102111.4519, 47026.1198, 65276.1553, 93587.9316, 50942.4736, 75212.6396, -248371.3578, 130755.184, 343812.0972, 76360.2324, 82352.0229, 24646.5247, 36400.4266, 71066.3657, 72628.4432, 79560.4795, -121.5067, 68043.9611, 63301.6546, -49538.2737, 95166.3592, 7618.8514, -3417.4566, 95036.3716, 75311.1454, 74486.2297, 76259.3971, -124.7482, 84126.6507, 134563.1239, 65508.1075, 80497.3484, 73512.3557, -25976.759, 19679.1124, 79384.2834, 249928.7435, 98696.3902, 89557.0428, 35889.7691, -353817.4097, 66177.7954, -123123.7459, 55391.0151, 39039.5658, 114261.6514, 80583.8947, 56656.8612, 105.6105, 78872.1231, -158179.4102, 17328.1816, 75254.4596, 66032.928, 53490.6041, -263993.9815, -216540.8463, -177938.2232, 44386.8922, 74122.4444, 57547.6267, 104909.3333, 174451.4893, 919.3625, 81937.3589, 103506.9642, 55923.8304, 16333.3543, 85968.7714, 88173.0329, 90141.9334, 29330.1034, 80974.9122, 21217.7418, 87784.5964, 43395.6941, 84349.9376, 12050.8871, 90784.354, 57145.6518, 50944.3944, 84104.945, -13225.3111, 151058.0895, 83255.9277, -173062.9251, -20982.1623, 83001.8316, 107193.0277, 10805.8186, -157959.0628, -314955.2566, 10812.5431, 78971.6097, 93477.0713, -94412.2307, -251234.7547, 53824.6757, 65056.7487, 92609.5174, 72822.3099, -269326.9149, 78554.8463, 99648.6579, -3323.5362, 64329.1102, 56409.657, -264419.5558, -216063.8833, 42149.3202, 103799.1483, -240829.9882, 128591.7799, 31360.6625, 75540.0009, -293706.4882, 98655.2421, 41183.1324, -133518.7656, 38202.565, 77314.4527, 33050.0124, 46327.3264, 55053.3875, 175020.3152, 181031.1604, 131644.4001, 60776.543, 76503.5041, 85688.2987, 86160.1089, -184167.9235, 88852.9266, 84523.8312, 287981.3568, 40172.4618, 48997.9975, -191103.5976, -123991.127, -20622.3823, 104272.2014, 75847.283, 102849.3121, 33972.0296, -217226.8286, 70877.2383, 81181.3212, 56117.1331, 135080.5472, 76891.2975, 108930.5168, 64753.2212, -112681.3758, -162016.1941, 60426.3208, 114925.016, -30318.143, -215951.3812, -290546.6805, -231085.0436, -239291.3667, -242723.5774, 78053.8407, -55774.2332, 92941.0971, -138604.0883, -81696.3239, -177273.8146, -217090.7949, -94096.2341, 89081.355, -143310.1428, 56966.5398, -214466.5611, -71111.4375, -56846.4095, 26608.9222, 104005.3992, -227529.1897, 57654.0005, -154837.8176, 86284.0693, -150970.2346, 74134.9625, 71354.7701, 46047.6702, 19678.2039, 54612.4861, 47107.8585, 76040.6786, 20745.5848, 52323.9811, 70377.5025, 58300.7949, 77728.6322, 50591.6684, 136740.9822, 47802.1528, 74064.2639, 104211.2545, 80368.185, 14742.6968, 47167.7642, 368084.5254, 55135.6127, 114534.5551, 78606.5393, 105218.1339, 91583.0116, 34288.3708, 53913.3225, 20871.6932, 87895.4562, 75854.7443, 31366.9989, -62614.1536, -223326.3134, 12474.7039, -132118.197, 92059.0699, 352100.0456, -60763.3023, 80710.644, -67347.6229, -177768.9597, -53283.2751, 60129.1657, 6897.2523, 72632.05, 46657.2754, 46344.2658, -155962.3124, -439102.6997, -117647.1662, 36504.4476, 88916.8169, 69879.4054, 36724.9608, -64086.2725, 79390.4307, 27284.5638, -58238.061, -113536.1209, -186808.7336, 46572.7711, -52895.592, 80301.1808, 34072.4257, 21140.8107, -63417.7866, 59948.9345, -94810.9729, -235201.08, 64555.5552, -158282.2098, -116535.6459, 60708.2991, 107604.6239, -68662.4333, 90361.4364, -27767.6051, -137504.5482, 60557.8724, 35018.0639, 36245.1694, 34980.3019, 107638.609, -181609.1335, 66796.5485, 76643.708, 103810.525, 37656.2238, 76693.9299, 50894.4891, 47661.3891, 88706.5013, 51533.6701, 69295.6022, 91988.3964, 69401.2062, 63273.9961, 1728.2248, 63207.8532, 38950.0734, 80161.8503, 105894.4945, 86694.3129, 43252.7933, 90768.4744, 146133.7037, 42028.7067, 38831.5831, -118012.986, 26110.8489, 0.0, 57915.739, 63315.9861, 56891.2458, 0.0, 22650.9117, 19117.9386, 60707.678, 51682.1495, 49310.0769, 79314.8412, 106998.0613, 24616.697, 11059.3545, -45699.0467, 99963.5831, -121707.5063, 78039.6487, -161027.3372, 71738.5447, 43577.9586, -65001.166, 9073.6667, 40688.9342, -110117.4644, -146558.1183, 112481.7633, 49021.0675, 12133.916, -13091.9143, 182473.0579, -160510.5087, 55160.5758, 61894.6268, 81270.0327, 47891.6691, 51074.2993, 72559.1928, 55374.616, -95597.8118, -126219.0149, 91602.7387, 29191.989, -105089.0141, -70358.0185, -176010.8833, 54175.7738, -8479.8232, 101988.8461, -35313.1686, 93385.855, 95289.8788, -65707.6731, 9567.7411, -233517.4359, 92154.8751, -48588.442, 88608.9706, 68597.6953, -140999.307, 66678.9482, 86974.2721, 180527.7174, 72326.0161, 128241.9907, 79309.559, -41080.8917, 39244.3235, 5243.938, -75694.649, -54559.3668, 96303.5297, 90965.4598, 20180.6826, -141502.1019, -150405.6198, 48633.526, -176797.7799, -116450.6687, -38543.8054, 286221.5404, 44674.9879, -19062.8953, -107346.1953, -64583.202, 18352.3615, 108139.5835, 18143.6489, -50846.8003, 20939.2303, -181869.7198, 97652.8248, 26723.4757, 7210.5389, 112995.1344, 95453.0886, -233248.722, -48024.9985, -15677.9374, 98946.1926, 61200.4912, 104342.0047, 73745.9775, 148184.9973, 80115.5127, 84134.8361, 65673.3476, 75487.4, 70175.3684, 65471.0495, 43691.1588, 73646.0299, 22818.2572, 0.0, 43739.9205, 103092.8857, 78106.6433, 48688.4287, 48937.2263, 27822.8072, 68488.7568, 80899.3665, 50696.9457, 19253.8854, -1693.6143, 84277.733, 80407.0304, 41899.9486, 29260.0024, -29521.2292, 29003.9842, 65248.6703, 69768.1365, -105860.4729, 108689.0002, 59418.8593, 238041.6312, -98664.3341, 53684.6173, 51882.2564, 41242.1253, -105204.8304, -81183.8877, 112526.3991, -166214.2978, 25064.3905, -31686.0279, 43290.7698, 79932.0649, 56869.1554, 52979.0418, 33632.1403, -106204.0165, 104965.7535, 73286.053, 0.0, 53011.0664, 90807.3884, 99576.8916, -10364.6119, 60065.6655, -36213.9222, -134573.0943, -97557.3297, 87475.7432, 83185.9185, -98889.1875, -16691.5052, 203123.0384, -10799.9229, -55897.3303, 79951.4684, 74436.253, -54925.7779, 45148.011, 12244.3487, 358864.5691, -27588.4696, 4962.991, 1341530.1565, -16478.5034, -94795.9633, 49254.011, 940441.7602, 54143.9395, -98602.119, -135893.0967, 23829.8367, -103418.5956, 9299.1319, 45265.7365, 42620.0015, 67600.8448, 85345.7811, 68393.0192, 65487.345, -36870.6645, -57343.0013, 5393.8543, 58425.5692, -71066.5592, 61933.5356, 74383.1274, -136828.6114, 49223.4591, -59833.1432, 21513.1189, -148356.7889, -139985.4371, 0.0, 48947.7234, -134850.541, -45928.9824, 37310.6441, 147515.2669, 0.0, 77101.8725, -53739.001, 84788.0066, -60505.3066, 49290.7421, 67216.402, 72397.3619, -26055.019, 76476.2548, 91246.4586, -248256.4607, -73898.6959, 0.0, -48885.2776, 106782.4128, -77948.3239, 91313.4709, 65691.0235, 119123.1725, 87209.0548, -93921.918, 0.0, -38410.9017, 78945.6969, -94785.318, 58157.8098, 7714.9825, -76247.5585, -9742.9052, -26250.6097, -132031.3798, 0.0, -28932.2247, -62130.4503, 103830.8324, -52541.8926, -245337.7099, 83580.8394, 60854.9925, -42933.5976, 25989.7774, -98194.1903, -26972.3385, -47491.3785, 20382.5874, -8551.5624, 91768.005, 80152.3417, 60465.4023, 99878.1121, 82834.7194, 37574.2278, 76246.4241, 54448.0425, 24717.563, 87842.3333, 92854.9179, 76607.2405, -15858.8668, -44764.2712, 60954.07, 151751.4967, 47133.6735, 52581.4589, 60374.5331, 15650.4008, 11265.6885, 94800.6609, 76446.1614, 65573.8744, 56871.038, 37279.7744, 33889.7559, 0.0, 55862.5994, 0.0, -59775.8073, 38241.3403, 56180.7184, 25370.5295, 69491.7528, 41867.8515, 0.0, 14286.696, 53204.6714, 60619.5463, 22561.6085, 43038.4241, 61761.8018, 79397.4785, 41904.3199, 57338.4213, 70604.2975, 47628.7374, 57069.0668, 0.0, 0.0, 54055.09, 53376.2009, 39191.3334, 0.0, 139710.5977, 15143.8965, 93266.3834, -11206.1676, 45145.8859, 18640.3693, 91458.4768, 82550.4413, 52003.7094, 13279.2582, 49485.4776, -54350.2297, 55423.4176, 65183.1014, 0.0, 70022.8294, 126322.3083, 47605.2857, -1278.9848, 0.0, 52769.055, 56923.248, 0.0, 67211.1626, -10999.5872, 41371.156, 66381.4135, 21974.406, -22264.566, 0.0, 50136.0157, -130099.1988, -106419.1844, 77213.1088, 79813.63, 106934.4591, -33997.5533, -9056.4247, 76616.4251, 0.0, -30699.152, 62742.0135, 90364.1356, 61859.1969, 0.0, 0.0, 72659.1329, 64310.9637, 120766.3111, 57206.7331, -94895.1829, 23696.6972, 59838.3975, 0.0, 58840.1812, 0.0, 59747.9047, -101006.0209, 52682.7485, 62783.0194, 58496.3899, 58813.4216, 73805.754, 52066.0214, 82170.2041, -188404.7441, -29149.1194, -40450.9371, 44887.54, 55457.6229, 52463.8842, 90602.2929, -77315.1655, -76061.6033, 0.0, -6981.9219, -13253.13, 54589.6849, 77094.3506, -18313.7369, 218119.9917, 0.0, -30665.9082, 42502.6638, 0.0, -83107.6884, 46348.0347, 0.0, -61866.9691, 29397.0552, 63758.8501, -22521.183, 31348.8404, 52030.4873, 0.0, 0.0, 67568.0838, 96688.1252, 0.0, 0.0, 15826.5489, 66844.1328, 89184.368, 42275.9439, 0.0, -31401.1648, 39408.9723, 67206.2684, 52450.7523, -55590.1382, 44497.0021, -84890.245, -87785.0224, 0.0, -11779.6811, -61115.6793, 84.5004, 73743.5131, 0.0, -7334.4518, -48695.5333, 66362.1263, -56821.8358, 0.0, 74170.2093, -2788.4031, -4048.8313, -7705.3624, 63706.458, 60424.45, -161835.2461, -180725.361, 0.0, 64589.7748, 679404.7728, 34007.1554, 73060.7816, 59594.8403, 69714.9435, 58705.7552, 56709.546, 65268.8534, -14535.3239, -100812.4698, 32015.3744, 68974.0221, -115276.9393, 0.0, -74212.5442, 68431.0917, -83077.3549, 70673.718, 60392.8291, -73704.5798, 69293.1253, 30539.9379, -31299.311, -144215.3859, -73413.1621, -21466.656, 0.0, 0.0, 78799.5722, -55257.0631, -74690.7168, 18580.1489, 62472.4621, 40017.1219, -16773.4669, -16109.7176, -43565.9604, 0.0, 1033.2037, -45698.831, -45541.265, -38615.2605, 8284.8828, 0.0, 0.0, 68920.7145, 78176.5609, -13748.9416, 0.0, 85887.6259, 50541.5729, 36987.4172, 0.0, 23280.729, -2521.8855, -67848.5341, 24872.3108, -36150.4936, -30695.1727, 0.0, 65581.441, 0.0, -103771.0418, 71760.3546, 86317.8729, 0.0, 0.0, 72313.0922, 77242.3007, 28070.4481, 6156.3319, 35649.8728, 80755.9577, 65912.7676, 98596.5847, 65411.2646, 66003.6366, 0.0, 0.0, 0.0, 64320.1503, 92133.7208, 78333.2948, 68136.3396, 57407.7789, 72928.5618, 76946.8132, 73835.3578, 68775.078, 30816.7839, 60551.4938, 70541.2591, 78319.8014, 64419.1689, 80802.3996, 0.0, -9513.1957, -42762.9358, 59964.1803, 48556.381, 136380.6109, 0.0])"
      ]
     },
     "execution_count": 57,
     "metadata": {},
     "output_type": "execute_result"
    }
   ],
   "source": [
    "# Coefficients\n",
    "regressor.coefficients"
   ]
  },
  {
   "cell_type": "code",
   "execution_count": 58,
   "metadata": {},
   "outputs": [
    {
     "data": {
      "text/plain": [
       "6553573.548217737"
      ]
     },
     "execution_count": 58,
     "metadata": {},
     "output_type": "execute_result"
    }
   ],
   "source": [
    "# Intercept\n",
    "regressor.intercept"
   ]
  },
  {
   "cell_type": "code",
   "execution_count": 59,
   "metadata": {},
   "outputs": [
    {
     "data": {
      "text/plain": [
       "[Row(latitude=6.250554, premium=0, longitude=102.044653, price=55500000.0, floor_level_bucket=5.0, bathroom_number_bucket=2.0, bedroom_number_bucket=1.0, built_year_bucket=8.0, sqrt_winsorized_living_space=11.180339887498949, state_index=0.0, state_vec=SparseVector(16, {0: 1.0}), sub_property_type_index=0.0, sub_property_type_vec=SparseVector(1, {0: 1.0}), property_type_index=0.0, property_type_vec=SparseVector(3, {0: 1.0}), city_index=9.0, city_vec=SparseVector(88, {9: 1.0}), listing_label_index=0.0, listing_label_vec=SparseVector(2, {0: 1.0}), tenure_index=0.0, tenure_vec=SparseVector(2, {0: 1.0}), address_index=1306.0, address_vec=SparseVector(1683, {1306: 1.0}), Xcols=SparseVector(1810, {0: 6.2506, 2: 102.0447, 3: 5.0, 4: 2.0, 5: 1.0, 6: 8.0, 7: 11.1803, 9: 1.0, 26: 1.0, 28: 1.0, 31: 9.0, 41: 1.0, 121: 1.0, 124: 1.0, 126: 1306.0, 1433: 1.0}), Xcols_sscaled=DenseVector([-13.4516, -0.1216, 7.3555, 2.1747, 2.4932, 1.1021, 0.7503, 2.6551, -0.277, 0.3637, -0.2138, -0.1962, -0.126, -0.0871, -0.0681, -0.0448, -0.0458, -0.0353, -0.0349, -0.0297, -0.022, -0.0095, -0.0095, -0.0078, -0.0095, -0.0765, 0.0765, -0.1815, 0.1926, -0.1445, -0.1245, -0.1971, -0.3611, -0.3205, -0.2836, -0.276, -0.2196, -0.1994, -0.1914, -0.1802, -0.177, 5.8051, -0.1695, -0.1671, -0.1665, -0.1625, -0.162, -0.1541, -0.1556, -0.1472, -0.1366, -0.1201, -0.1156, -0.1191, -0.1105, -0.1097, -0.1073, -0.1033, -0.1009, -0.0955, -0.0922, -0.0867, -0.0871, -0.086, -0.0825, -0.0779, -0.0806, -0.0718, -0.0707, -0.0687, -0.0617, -0.0589, -0.0568, -0.0538, -0.0502, -0.0514, -0.0455, -0.0423, -0.0423, -0.0366, -0.0366, -0.0378, -0.0321, -0.0353, -0.0349, -0.0344, -0.0331, -0.0326, -0.0331, -0.0335, -0.0326, -0.0258, -0.027, -0.024, -0.0234, -0.022, -0.0234, -0.0213, -0.0199, -0.0146, -0.0174, -0.0174, -0.0156, -0.0146, -0.0123, -0.0078, -0.0095, -0.0095, -0.0095, -0.0078, -0.0078, -0.0095, -0.0078, -0.0055, -0.0078, -0.0078, -0.0055, -0.0055, -0.0055, -0.0055, -0.2865, 0.2875, -0.2865, -0.0583, 0.0592, -0.0581, 3.4944, -0.4478, -0.099, -0.0895, -0.0876, -0.0814, -0.0795, -0.0739, -0.0757, -0.0728, -0.0703, -0.0714, -0.0703, -0.0724, -0.0639, -0.0662, -0.0641, -0.0658, -0.0639, -0.0636, -0.0594, -0.0612, -0.0627, -0.0612, -0.0592, -0.0573, -0.0579, -0.054, -0.0546, -0.0554, -0.0552, -0.0573, -0.0538, -0.052, -0.0549, -0.0543, -0.0523, -0.0549, -0.0526, -0.0532, -0.056, -0.0517, -0.0563, -0.0523, -0.052, -0.0523, -0.0523, -0.0484, -0.0496, -0.0487, -0.0505, -0.0484, -0.0496, -0.0493, -0.0481, -0.0484, -0.0493, -0.0465, -0.0481, -0.0461, -0.0461, -0.0474, -0.0478, -0.0487, -0.0487, -0.0487, -0.0471, -0.0474, -0.0471, -0.0465, -0.0444, -0.0455, -0.0451, -0.0474, -0.0461, -0.0451, -0.0451, -0.0444, -0.0461, -0.0441, -0.0465, -0.0465, -0.0451, -0.0448, -0.0455, -0.0455, -0.0465, -0.0444, -0.0465, -0.0461, -0.0434, -0.0451, -0.0455, -0.0448, -0.0413, -0.0455, -0.0441, -0.042, -0.0434, -0.0416, -0.0427, -0.0434, -0.0409, -0.0431, -0.0438, -0.0423, -0.0409, -0.0413, -0.0413, -0.0413, -0.0427, -0.0413, -0.0401, -0.0394, -0.042, -0.0409, -0.0397, -0.0394, -0.0413, -0.0397, -0.0416, -0.0405, -0.0378, -0.0386, -0.0416, -0.0394, -0.0397, -0.0401, -0.0397, -0.0386, -0.0405, -0.0374, -0.0382, -0.0374, -0.0401, -0.039, -0.0357, -0.0382, -0.0382, -0.0394, -0.0401, -0.0378, -0.0386, -0.0405, -0.0366, -0.0382, -0.0366, -0.039, -0.0382, -0.0394, -0.037, -0.037, -0.037, -0.039, -0.039, -0.0394, -0.0378, -0.0361, -0.0374, -0.0378, -0.0335, -0.0361, -0.0378, -0.0357, -0.0366, -0.0353, -0.0361, -0.0344, -0.0374, -0.0366, -0.0361, -0.037, -0.0374, -0.0382, -0.037, -0.0353, -0.0349, -0.0326, -0.0344, -0.0366, -0.0357, -0.037, -0.0366, -0.0357, -0.0366, -0.0361, -0.0357, -0.0331, -0.0344, -0.0326, -0.0321, -0.0349, -0.0344, -0.0312, -0.0353, -0.0349, -0.0353, -0.0344, -0.0344, -0.0331, -0.0349, -0.034, -0.0326, -0.0344, -0.0331, -0.0349, -0.0353, -0.0349, -0.0326, -0.0357, -0.0331, -0.0321, -0.0326, -0.034, -0.0344, -0.0335, -0.0353, -0.0344, -0.034, -0.0344, -0.0317, -0.0307, -0.0335, -0.0335, -0.0331, -0.0344, -0.0307, -0.0317, -0.0326, -0.0312, -0.0326, -0.0321, -0.0335, -0.0335, -0.0335, -0.0321, -0.034, -0.0312, -0.0326, -0.0281, -0.0335, -0.0326, -0.0326, -0.0331, -0.0312, -0.0312, -0.0302, -0.0321, -0.0307, -0.0321, -0.0321, -0.0326, -0.0321, -0.0302, -0.0317, -0.0312, -0.0302, -0.0326, -0.0312, -0.0307, -0.0321, -0.0307, -0.0321, -0.0312, -0.0302, -0.0317, -0.0297, -0.0321, -0.0292, -0.0326, -0.0312, -0.0317, -0.0321, -0.0317, -0.0297, -0.0302, -0.0307, -0.0307, -0.0302, -0.0317, -0.0297, -0.0297, -0.0317, -0.0292, -0.0302, -0.0292, -0.0292, -0.0307, -0.0326, -0.0307, -0.0317, -0.0312, -0.0302, -0.0307, -0.0292, -0.0275, -0.0307, -0.0292, -0.0307, -0.027, -0.0292, -0.0275, -0.0302, -0.0281, -0.0312, -0.0286, -0.0292, -0.0292, -0.0286, -0.0292, -0.0246, -0.0292, -0.0292, -0.0302, -0.0302, -0.0292, -0.0307, -0.0292, -0.027, -0.0275, -0.027, -0.0286, -0.0252, -0.0258, -0.0286, -0.0286, -0.0286, -0.027, -0.0252, -0.0286, -0.0275, -0.0264, -0.0297, -0.0281, -0.0252, -0.0258, -0.027, -0.0292, -0.0297, -0.0281, -0.0292, -0.0275, -0.0258, -0.0264, -0.0264, -0.0234, -0.027, -0.0264, -0.0213, -0.0275, -0.0281, -0.0246, -0.0264, -0.0281, -0.0258, -0.027, -0.0264, -0.0286, -0.0252, -0.0286, -0.0252, -0.027, -0.027, -0.0286, -0.0246, -0.024, -0.0275, -0.0264, -0.0275, -0.0275, -0.0264, -0.0275, -0.0275, -0.0281, -0.024, -0.0234, -0.027, -0.0252, -0.0234, -0.024, -0.0258, -0.027, -0.0264, -0.0246, -0.0258, -0.027, -0.0252, -0.0234, -0.0234, -0.0227, -0.0264, -0.0264, -0.0258, -0.024, -0.0252, -0.0258, -0.0252, -0.0264, -0.0264, -0.024, -0.0258, -0.0246, -0.027, -0.0234, -0.0258, -0.0258, -0.024, -0.0252, -0.0252, -0.0258, -0.0252, -0.0258, -0.0252, -0.022, -0.0252, -0.0246, -0.0252, -0.0227, -0.0227, -0.0234, -0.0234, -0.0258, -0.0234, -0.0252, -0.0246, -0.024, -0.024, -0.024, -0.024, -0.0246, -0.0246, -0.0227, -0.0246, -0.0246, -0.024, -0.024, -0.022, -0.0227, -0.0234, -0.0234, -0.0227, -0.0227, -0.024, -0.0234, -0.0252, -0.0246, -0.024, -0.0234, -0.0234, -0.0206, -0.0227, -0.0206, -0.0234, -0.0227, -0.0227, -0.024, -0.0246, -0.022, -0.0246, -0.024, -0.024, -0.022, -0.0227, -0.0234, -0.0227, -0.0213, -0.022, -0.024, -0.0246, -0.0234, -0.024, -0.0206, -0.0234, -0.022, -0.024, -0.0213, -0.0227, -0.022, -0.0234, -0.0213, -0.0234, -0.0213, -0.022, -0.0227, -0.0234, -0.0199, -0.024, -0.0234, -0.022, -0.0206, -0.022, -0.0227, -0.0234, -0.0234, -0.0234, -0.0227, -0.0234, -0.0191, -0.0206, -0.0213, -0.0213, -0.0234, -0.022, -0.0213, -0.0206, -0.0213, -0.0213, -0.0213, -0.022, -0.022, -0.0213, -0.0199, -0.0199, -0.022, -0.022, -0.0191, -0.0227, -0.0213, -0.0213, -0.0227, -0.0199, -0.0206, -0.0206, -0.0206, -0.0213, -0.0174, -0.0206, -0.0213, -0.022, -0.0213, -0.0227, -0.0206, -0.0213, -0.022, -0.0191, -0.0199, -0.0191, -0.0199, -0.0206, -0.0213, -0.0199, -0.0213, -0.0174, -0.0213, -0.0199, -0.0199, -0.0206, -0.0183, -0.0227, -0.0206, -0.0206, -0.0199, -0.0213, -0.0183, -0.0199, -0.0213, -0.0199, -0.022, -0.0206, -0.0213, -0.0206, -0.0199, -0.022, -0.022, -0.0183, -0.0191, -0.0199, -0.0183, -0.0191, -0.0174, -0.0213, -0.0191, -0.0199, -0.0206, -0.0206, -0.0199, -0.0213, -0.0165, -0.0191, -0.0183, -0.0191, -0.0183, -0.0183, -0.0191, -0.0191, -0.0191, -0.0191, -0.0156, -0.0183, -0.0199, -0.0206, -0.0191, -0.0191, -0.0174, -0.0191, -0.0206, -0.0183, -0.0183, -0.0206, -0.0191, -0.0191, -0.0199, -0.0174, -0.0174, -0.0206, -0.0183, -0.0174, -0.0191, -0.0191, -0.0206, -0.0183, -0.0165, -0.0146, -0.0165, -0.0199, -0.0199, -0.0174, -0.0174, -0.0183, -0.0165, -0.0199, -0.0191, -0.0183, -0.0174, -0.0191, -0.0199, -0.0183, -0.0156, -0.0183, -0.0199, -0.0165, -0.0165, -0.0183, -0.0174, -0.0174, -0.0191, -0.0191, -0.0165, -0.0174, -0.0183, -0.0165, -0.0183, -0.0191, -0.0165, -0.0183, -0.0199, -0.0146, -0.0174, -0.0165, -0.0183, -0.0165, -0.0174, -0.0146, -0.0183, -0.0165, -0.0165, -0.0156, -0.0146, -0.0165, -0.0156, -0.0174, -0.0191, -0.0165, -0.0191, -0.0156, -0.0165, -0.0165, -0.0165, -0.0183, -0.0174, -0.0174, -0.0174, -0.0165, -0.0165, -0.0156, -0.0174, -0.0174, -0.0191, -0.0183, -0.0191, -0.0174, -0.0183, -0.0174, -0.0165, -0.0156, -0.0135, -0.0165, -0.0165, -0.0146, -0.0123, -0.0146, -0.0174, -0.0156, -0.0165, -0.0165, -0.0165, -0.0156, -0.0156, -0.0165, -0.0156, -0.0174, -0.0174, -0.0165, -0.0165, -0.0174, -0.0156, -0.0146, -0.0174, -0.0165, -0.0156, -0.0183, -0.0156, -0.0174, -0.0156, -0.0123, -0.0165, -0.0174, -0.0174, -0.0146, -0.0156, -0.0156, -0.0183, -0.0174, -0.0165, -0.0165, -0.0146, -0.0156, -0.0123, -0.0165, -0.0146, -0.0156, -0.0165, -0.0156, -0.0156, -0.0165, -0.0174, -0.0156, -0.0156, -0.0165, -0.0165, -0.0135, -0.0165, -0.0146, -0.0174, -0.0174, -0.0165, -0.0146, -0.0165, -0.0165, -0.0165, -0.0146, -0.0156, -0.0165, -0.0156, -0.0165, -0.0174, -0.0146, -0.0165, -0.0146, -0.0146, -0.0156, -0.0174, -0.0135, -0.0146, -0.0135, -0.0156, -0.0146, -0.0135, -0.011, -0.0165, -0.0165, -0.0146, -0.0165, -0.0135, -0.0146, -0.0165, -0.0146, -0.0135, -0.0123, -0.0165, -0.0135, -0.0146, -0.0165, -0.0165, -0.0165, -0.0165, -0.0135, -0.0156, -0.0135, -0.0135, -0.0165, -0.0135, -0.0146, -0.0156, -0.0156, -0.0146, -0.0146, -0.0146, -0.0165, -0.0123, -0.0165, -0.0165, -0.0146, -0.0156, -0.0135, -0.0156, -0.0156, -0.0135, -0.0146, -0.0123, -0.0135, -0.0123, -0.0146, -0.0156, -0.0146, -0.0146, -0.0135, -0.0123, -0.0156, -0.0146, -0.0146, -0.0135, -0.0146, -0.0123, -0.0156, -0.0135, -0.0146, -0.0135, -0.0123, -0.0146, -0.0156, -0.0146, -0.011, -0.0123, -0.0146, -0.0135, -0.0156, -0.0146, -0.0146, -0.0135, -0.0146, -0.0146, -0.0123, -0.0123, -0.0146, -0.0156, -0.0146, -0.0156, -0.0146, -0.0135, -0.0146, -0.0156, -0.0135, -0.0146, -0.0156, -0.0135, -0.011, -0.0146, -0.0135, -0.0135, -0.0146, -0.0095, -0.0135, -0.0123, -0.0123, -0.0146, -0.0123, -0.0135, -0.0123, -0.0135, -0.0146, -0.0123, -0.011, -0.0135, -0.0135, -0.0146, -0.0146, -0.0146, -0.0095, -0.0146, -0.0135, -0.0135, -0.0135, -0.0123, -0.0095, -0.0123, -0.0135, -0.011, -0.011, -0.0135, -0.0135, -0.0123, -0.0123, -0.0123, -0.0123, -0.0123, -0.0135, -0.0135, -0.0135, -0.0146, -0.0135, -0.0135, -0.0123, -0.011, -0.0135, -0.0135, -0.0135, -0.0095, -0.0095, -0.0135, -0.011, -0.0123, -0.0123, -0.0135, -0.0123, -0.0123, -0.0095, -0.0123, -0.0123, -0.011, -0.0123, -0.0135, -0.011, -0.011, -0.011, -0.0123, -0.0123, -0.0123, -0.0123, -0.011, -0.0123, -0.0135, -0.011, -0.011, -0.0135, -0.011, -0.0123, -0.011, -0.0123, -0.0123, -0.0095, -0.0123, -0.0095, -0.0123, -0.0135, -0.0135, -0.0123, -0.011, -0.0135, -0.0123, -0.0123, -0.0135, -0.0135, -0.0135, -0.0135, -0.0095, -0.0123, -0.0123, -0.0123, -0.0078, -0.011, -0.0123, -0.011, -0.0123, -0.0078, -0.0123, -0.011, -0.011, -0.011, -0.011, -0.011, -0.0095, -0.0123, -0.0123, -0.011, -0.0123, -0.0078, -0.0123, -0.011, -0.011, -0.011, -0.011, -0.0123, -0.0123, -0.0078, -0.0123, -0.011, -0.011, -0.0095, -0.0095, -0.011, -0.0078, -0.011, -0.011, -0.011, -0.0123, -0.011, -0.011, -0.011, -0.0123, -0.011, -0.011, -0.0123, -0.0095, -0.011, -0.011, -0.011, -0.011, -0.011, -0.0123, -0.011, -0.0123, -0.011, -0.011, -0.011, -0.011, -0.011, -0.011, -0.0123, -0.011, -0.011, -0.011, -0.0055, -0.0123, -0.0095, -0.0123, -0.0123, -0.011, -0.0095, -0.0123, -0.011, -0.0095, -0.0095, -0.0123, -0.0095, -0.0095, -0.011, -0.0095, -0.0078, -0.011, -0.011, -0.0095, -0.011, -0.0078, -0.011, -0.011, -0.011, -0.0095, -0.0095, -0.011, -0.011, -0.0095, -0.011, -0.011, -0.0078, -0.0078, -0.0095, -0.0078, -0.011, -0.0095, -0.0078, -0.0095, -0.0095, -0.0095, -0.0095, -0.011, -0.0078, -0.0078, -0.011, -0.011, -0.011, -0.0078, -0.011, -0.011, -0.0078, -0.0095, -0.0095, -0.0095, -0.0078, -0.011, -0.011, -0.0095, -0.0078, -0.0095, -0.011, -0.011, -0.0078, -0.0078, -0.0078, -0.011, -0.0095, -0.0095, -0.0095, -0.0078, -0.011, -0.0095, -0.011, -0.0078, -0.0095, -0.011, -0.011, -0.0078, -0.0078, -0.011, -0.0095, -0.0095, -0.0095, -0.0095, -0.011, -0.0095, -0.0055, -0.0095, -0.0095, -0.0055, -0.0095, -0.011, -0.0078, -0.0078, -0.0078, -0.0095, -0.0055, -0.0095, -0.0095, -0.0095, -0.0078, -0.0095, -0.0095, -0.0095, -0.0095, -0.0078, -0.0095, 0.0, -0.0095, -0.0078, -0.0078, 0.0, -0.0078, -0.0095, -0.0095, -0.0095, -0.0055, -0.0078, -0.0095, -0.0078, -0.0078, -0.0078, -0.0078, -0.0095, -0.0095, -0.0095, -0.0078, -0.0078, -0.0095, -0.0095, -0.0078, -0.0055, -0.0078, -0.0095, -0.0055, -0.0078, -0.0078, -0.0095, -0.0095, -0.0095, -0.0078, -0.0095, -0.0095, -0.0078, -0.0078, -0.0095, -0.0078, -0.0095, -0.0095, -0.0055, -0.0078, -0.0055, -0.0095, -0.0095, -0.0095, -0.0095, -0.0095, -0.0095, -0.0095, -0.0055, -0.0078, -0.0078, -0.0095, -0.0095, -0.0078, -0.0095, -0.0095, -0.0078, -0.0095, -0.0095, -0.0078, -0.0095, -0.0095, -0.0095, -0.0055, -0.0078, -0.0078, -0.0095, -0.0095, -0.0078, -0.0078, -0.0095, -0.0095, -0.0095, -0.0095, -0.0078, -0.0095, -0.0095, -0.0095, -0.0095, -0.0095, -0.0055, -0.0078, -0.0095, -0.0078, -0.0095, -0.0055, -0.0095, -0.0055, -0.0095, -0.0055, -0.0095, -0.0095, -0.0095, -0.0078, -0.0078, -0.0095, -0.0078, -0.0095, -0.0095, -0.0095, -0.0095, -0.0095, -0.0078, -0.0095, -0.0095, -0.0095, -0.0095, -0.0078, -0.0078, 0.0, -0.0078, -0.0078, -0.0078, -0.0055, -0.0055, -0.0055, -0.0078, -0.0055, -0.0055, -0.0055, -0.0078, -0.0078, -0.0078, -0.0055, -0.0078, -0.0078, -0.0078, -0.0078, -0.0078, -0.0055, -0.0078, -0.0055, -0.0078, -0.0055, -0.0055, -0.0055, -0.0078, -0.0078, -0.0078, -0.0078, -0.0055, -0.0078, -0.0078, -0.0055, -0.0078, -0.0055, -0.0078, -0.0055, -0.0078, -0.0055, -0.0078, 0.0, -0.0055, -0.0078, -0.0078, -0.0078, -0.0078, -0.0055, -0.0078, -0.0055, -0.0078, -0.0078, -0.0055, -0.0055, -0.0078, -0.0055, -0.0078, -0.0078, -0.0055, -0.0055, -0.0055, -0.0055, 128.3783, -0.0078, -0.0055, -0.0078, -0.0078, -0.0078, -0.0055, -0.0078, -0.0078, -0.0055, -0.0078, -0.0055, -0.0078, -0.0078, -0.0078, -0.0055, -0.0078, -0.0078, -0.0055, -0.0078, -0.0078, -0.0055, -0.0055, -0.0055, -0.0078, -0.0078, -0.0078, -0.0078, -0.0078, -0.0055, -0.0078, -0.0078, -0.0078, 0.0, -0.0078, -0.0078, -0.0055, -0.0078, -0.0055, 0.0, -0.0078, -0.0078, -0.0055, -0.0078, -0.0055, -0.0078, -0.0078, -0.0078, -0.0078, -0.0078, -0.0078, -0.0078, 0.0, -0.0078, -0.0078, -0.0078, -0.0055, -0.0055, -0.0055, -0.0078, -0.0078, 0.0, -0.0055, -0.0078, -0.0055, -0.0055, -0.0078, -0.0078, -0.0078, -0.0055, -0.0078, 0.0, -0.0078, -0.0078, -0.0078, -0.0078, -0.0078, -0.0078, -0.0055, -0.0055, -0.0078, -0.0055, -0.0055, -0.0078, -0.0078, -0.0078, -0.0078, -0.0078, -0.0055, -0.0078, -0.0055, -0.0078, -0.0078, -0.0055, -0.0078, -0.0078, -0.0078, -0.0078, -0.0055, -0.0055, -0.0078, -0.0055, -0.0055, -0.0055, -0.0055, -0.0055, -0.0055, -0.0055, -0.0055, -0.0055, -0.0055, -0.0055, -0.0055, 0.0, -0.0055, 0.0, -0.0055, -0.0055, -0.0055, -0.0055, -0.0055, -0.0055, 0.0, -0.0055, -0.0055, -0.0055, -0.0055, -0.0055, -0.0055, -0.0055, -0.0055, -0.0055, -0.0055, -0.0055, -0.0055, 0.0, 0.0, -0.0055, -0.0055, -0.0055, 0.0, -0.0055, -0.0055, -0.0055, -0.0055, -0.0055, -0.0055, -0.0055, -0.0055, -0.0055, -0.0055, -0.0055, -0.0055, -0.0055, -0.0055, 0.0, -0.0055, -0.0055, -0.0055, -0.0055, 0.0, -0.0055, -0.0055, 0.0, -0.0055, -0.0055, -0.0055, -0.0055, -0.0055, -0.0055, 0.0, -0.0055, -0.0055, -0.0055, -0.0055, -0.0055, -0.0055, -0.0055, -0.0055, -0.0055, 0.0, -0.0055, -0.0055, -0.0055, -0.0055, 0.0, 0.0, -0.0055, -0.0055, -0.0055, -0.0055, -0.0055, -0.0055, -0.0055, 0.0, -0.0055, 0.0, -0.0055, -0.0055, -0.0055, -0.0055, -0.0055, -0.0055, -0.0055, -0.0055, -0.0055, -0.0055, -0.0055, -0.0055, -0.0055, -0.0055, -0.0055, -0.0055, -0.0055, -0.0055, 0.0, -0.0055, -0.0055, -0.0055, -0.0055, -0.0055, -0.0055, 0.0, -0.0055, -0.0055, 0.0, -0.0055, -0.0055, 0.0, -0.0055, -0.0055, -0.0055, -0.0055, -0.0055, -0.0055, 0.0, 0.0, -0.0055, -0.0055, 0.0, 0.0, -0.0055, -0.0055, -0.0055, -0.0055, 0.0, -0.0055, -0.0055, -0.0055, -0.0055, -0.0055, -0.0055, -0.0055, -0.0055, 0.0, -0.0055, -0.0055, -0.0055, -0.0055, 0.0, -0.0055, -0.0055, -0.0055, -0.0055, 0.0, -0.0055, -0.0055, -0.0055, -0.0055, -0.0055, -0.0055, -0.0055, -0.0055, 0.0, -0.0055, -0.0055, -0.0055, -0.0055, -0.0055, -0.0055, -0.0055, -0.0055, -0.0055, -0.0055, -0.0055, -0.0055, -0.0055, -0.0055, 0.0, -0.0055, -0.0055, -0.0055, -0.0055, -0.0055, -0.0055, -0.0055, -0.0055, -0.0055, -0.0055, -0.0055, -0.0055, 0.0, 0.0, -0.0055, -0.0055, -0.0055, -0.0055, -0.0055, -0.0055, -0.0055, -0.0055, -0.0055, 0.0, -0.0055, -0.0055, -0.0055, -0.0055, -0.0055, 0.0, 0.0, -0.0055, -0.0055, -0.0055, 0.0, -0.0055, -0.0055, -0.0055, 0.0, -0.0055, -0.0055, -0.0055, -0.0055, -0.0055, -0.0055, 0.0, -0.0055, 0.0, -0.0055, -0.0055, -0.0055, 0.0, 0.0, -0.0055, -0.0055, -0.0055, -0.0055, -0.0055, -0.0055, -0.0055, -0.0055, -0.0055, -0.0055, 0.0, 0.0, 0.0, -0.0055, -0.0055, -0.0055, -0.0055, -0.0055, -0.0055, -0.0055, -0.0055, -0.0055, -0.0055, -0.0055, -0.0055, -0.0055, -0.0055, -0.0055, 0.0, -0.0055, -0.0055, -0.0055, -0.0055, -0.0055, 0.0]))]"
      ]
     },
     "execution_count": 59,
     "metadata": {},
     "output_type": "execute_result"
    }
   ],
   "source": [
    "# first row values of Xcols_sscaled\n",
    "train_data.take(1)"
   ]
  },
  {
   "cell_type": "code",
   "execution_count": 60,
   "metadata": {},
   "outputs": [],
   "source": [
    "train_pred_results=regressor.evaluate(train_data)"
   ]
  },
  {
   "cell_type": "code",
   "execution_count": 61,
   "metadata": {
    "scrolled": true
   },
   "outputs": [
    {
     "name": "stdout",
     "output_type": "stream",
     "text": [
      "+-----------+-------+-----------+---------+------------------+----------------------+---------------------+-----------------+----------------------------+-----------+--------------+-----------------------+---------------------+-------------------+-----------------+----------+---------------+-------------------+-----------------+------------+-------------+-------------+-------------------+--------------------+--------------------+--------------------+\n",
      "|   latitude|premium|  longitude|    price|floor_level_bucket|bathroom_number_bucket|bedroom_number_bucket|built_year_bucket|sqrt_winsorized_living_space|state_index|     state_vec|sub_property_type_index|sub_property_type_vec|property_type_index|property_type_vec|city_index|       city_vec|listing_label_index|listing_label_vec|tenure_index|   tenure_vec|address_index|        address_vec|               Xcols|       Xcols_sscaled|          prediction|\n",
      "+-----------+-------+-----------+---------+------------------+----------------------+---------------------+-----------------+----------------------------+-----------+--------------+-----------------------+---------------------+-------------------+-----------------+----------+---------------+-------------------+-----------------+------------+-------------+-------------+-------------------+--------------------+--------------------+--------------------+\n",
      "|   6.250554|      0| 102.044653|   5.55E7|               5.0|                   2.0|                  1.0|              8.0|          11.180339887498949|        0.0|(16,[0],[1.0])|                    0.0|        (1,[0],[1.0])|                0.0|    (3,[0],[1.0])|       9.0| (88,[9],[1.0])|                0.0|    (2,[0],[1.0])|         0.0|(2,[0],[1.0])|       1306.0|(1683,[1306],[1.0])|(1810,[0,2,3,4,5,...|[-13.451591573564...| 5.809495471539122E7|\n",
      "|  12.619622|      0|  99.951243|2290000.0|               0.0|                   0.0|                  0.0|              7.0|           5.744562646538029|        6.0|(16,[6],[1.0])|                    0.0|        (1,[0],[1.0])|                0.0|    (3,[0],[1.0])|      45.0|(88,[45],[1.0])|                0.0|    (2,[0],[1.0])|         0.0|(2,[0],[1.0])|       1083.0|(1683,[1083],[1.0])|(1810,[0,2,6,7,8,...|[-2.0344013779566...|   83648.88133573439|\n",
      "|  12.874982|      0| 100.887046|6090000.0|               3.0|                   0.0|                  0.0|              7.0|           7.416198487095663|        3.0|(16,[3],[1.0])|                    0.0|        (1,[0],[1.0])|                0.0|    (3,[0],[1.0])|      22.0|(88,[22],[1.0])|                0.0|    (2,[0],[1.0])|         0.0|(2,[0],[1.0])|        615.0| (1683,[615],[1.0])|(1810,[0,2,3,6,7,...|[-1.5766430861075...|   5509704.478007439|\n",
      "|  12.921459|      0| 100.882059|4800000.0|               3.0|                   0.0|                  0.0|              8.0|           6.481512169239521|        3.0|(16,[3],[1.0])|                    0.0|        (1,[0],[1.0])|                0.0|    (3,[0],[1.0])|      22.0|(88,[22],[1.0])|                0.0|    (2,[0],[1.0])|         0.0|(2,[0],[1.0])|        868.0| (1683,[868],[1.0])|(1810,[0,2,3,6,7,...|[-1.4933284239433...|   4648481.683522908|\n",
      "|  12.935937|      0| 100.897023|3200000.0|               0.0|                   0.0|                  0.0|              7.0|            6.48074069840786|        3.0|(16,[3],[1.0])|                    0.0|        (1,[0],[1.0])|                0.0|    (3,[0],[1.0])|      22.0|(88,[22],[1.0])|                0.0|    (2,[0],[1.0])|         0.0|(2,[0],[1.0])|        672.0| (1683,[672],[1.0])|(1810,[0,2,6,7,8,...|[-1.4673751636465...|  1595883.1857954888|\n",
      "|  13.584616|      0| 100.733333|4690000.0|               0.0|                   2.0|                  2.0|              8.0|          11.180339887498949|        1.0|(16,[1],[1.0])|                    0.0|        (1,[0],[1.0])|                1.0|    (3,[1],[1.0])|      20.0|(88,[20],[1.0])|                0.0|    (2,[0],[1.0])|         0.0|(2,[0],[1.0])|       1387.0|(1683,[1387],[1.0])|(1810,[0,2,4,5,6,...|[-0.3045533004011...|   4683494.638485079|\n",
      "|  13.621157|      0| 100.679146|5690000.0|               0.0|                   2.0|                  2.0|              7.0|          11.180339887498949|        1.0|(16,[1],[1.0])|                    0.0|        (1,[0],[1.0])|                1.0|    (3,[1],[1.0])|      20.0|(88,[20],[1.0])|                0.0|    (2,[0],[1.0])|         0.0|(2,[0],[1.0])|        634.0| (1683,[634],[1.0])|(1810,[0,2,4,5,6,...|[-0.2390499101189...|1.3793991054096626E7|\n",
      "|13.62828588|      0|100.7110369|5500000.0|               0.0|                   1.0|                  2.0|              6.0|           4.795831523312719|        1.0|(16,[1],[1.0])|                    0.0|        (1,[0],[1.0])|                1.0|    (3,[1],[1.0])|      20.0|(88,[20],[1.0])|                0.0|    (2,[0],[1.0])|         0.0|(2,[0],[1.0])|       1271.0|(1683,[1271],[1.0])|(1810,[0,2,4,5,6,...|[-0.2262706810634...|  2248965.8251380427|\n",
      "|  13.637699|      0| 100.608816|2750000.0|               0.0|                   0.0|                  0.0|              9.0|                         5.0|        1.0|(16,[1],[1.0])|                    0.0|        (1,[0],[1.0])|                0.0|    (3,[0],[1.0])|      12.0|(88,[12],[1.0])|                0.0|    (2,[0],[1.0])|         0.0|(2,[0],[1.0])|        392.0| (1683,[392],[1.0])|(1810,[0,2,6,7,8,...|[-0.2093967237789...| -2990775.0711368127|\n",
      "|  13.637929|      0| 100.592683|2390000.0|               4.0|                   0.0|                  0.0|              8.0|           5.916079783099616|        1.0|(16,[1],[1.0])|                    0.0|        (1,[0],[1.0])|                0.0|    (3,[0],[1.0])|      12.0|(88,[12],[1.0])|                0.0|    (2,[0],[1.0])|         0.0|(2,[0],[1.0])|         73.0|  (1683,[73],[1.0])|(1810,[0,2,3,6,7,...|[-0.2089844258187...|   966855.1246958766|\n",
      "|  13.652963|      0|  100.64386|2060000.0|               0.0|                   0.0|                  0.0|              7.0|                         6.0|        1.0|(16,[1],[1.0])|                    0.0|        (1,[0],[1.0])|                0.0|    (3,[0],[1.0])|      12.0|(88,[12],[1.0])|                0.0|    (2,[0],[1.0])|         1.0|(2,[1],[1.0])|          0.0|   (1683,[0],[1.0])|(1810,[0,2,6,7,8,...|[-0.1820344800180...|  1333690.4535538312|\n",
      "|    13.6547|      0| 100.604512|1350000.0|               0.0|                   0.0|                  0.0|              7.0|           4.795831523312719|        1.0|(16,[1],[1.0])|                    0.0|        (1,[0],[1.0])|                0.0|    (3,[0],[1.0])|      12.0|(88,[12],[1.0])|                0.0|    (2,[0],[1.0])|         0.0|(2,[0],[1.0])|        100.0| (1683,[100],[1.0])|(1810,[0,2,6,7,8,...|[-0.1789207341184...|  1339443.4378683083|\n",
      "|13.65487664|      1|100.6715949|1550000.0|               0.0|                   0.0|                  0.0|              7.0|          5.0990195135927845|        1.0|(16,[1],[1.0])|                    0.0|        (1,[0],[1.0])|                0.0|    (3,[0],[1.0])|      20.0|(88,[20],[1.0])|                0.0|    (2,[0],[1.0])|         0.0|(2,[0],[1.0])|          0.0|   (1683,[0],[1.0])|(1810,[0,1,2,6,7,...|[-0.1786040892849...|   565684.3333874382|\n",
      "|  13.655229|      0| 100.593906|1400000.0|               0.0|                   0.0|                  0.0|              8.0|           4.795831523312719|        1.0|(16,[1],[1.0])|                    0.0|        (1,[0],[1.0])|                0.0|    (3,[0],[1.0])|      12.0|(88,[12],[1.0])|                0.0|    (2,[0],[1.0])|         0.0|(2,[0],[1.0])|        113.0| (1683,[113],[1.0])|(1810,[0,2,6,7,8,...|[-0.1779724488098...|  1762646.4379833546|\n",
      "|  13.657872|      0| 100.603992|1850000.0|               0.0|                   0.0|                  0.0|              7.0|           5.228766584960549|        1.0|(16,[1],[1.0])|                    0.0|        (1,[0],[1.0])|                0.0|    (3,[0],[1.0])|      12.0|(88,[12],[1.0])|                0.0|    (2,[0],[1.0])|         0.0|(2,[0],[1.0])|        900.0| (1683,[900],[1.0])|(1810,[0,2,6,7,8,...|[-0.1732346074668...|   2142024.394985418|\n",
      "|13.66498744|      0| 100.637109|1950000.0|               0.0|                   0.0|                  0.0|              7.0|            6.48074069840786|        0.0|(16,[0],[1.0])|                    0.0|        (1,[0],[1.0])|                0.0|    (3,[0],[1.0])|       7.0| (88,[7],[1.0])|                0.0|    (2,[0],[1.0])|         0.0|(2,[0],[1.0])|        192.0| (1683,[192],[1.0])|(1810,[0,2,6,7,9,...|[-0.1604794709530...|  1560867.5362316016|\n",
      "|13.66545087|      0|100.6041943|2690000.0|               1.0|                   0.0|                  0.0|              8.0|           4.795831523312719|        0.0|(16,[0],[1.0])|                    0.0|        (1,[0],[1.0])|                0.0|    (3,[0],[1.0])|       7.0| (88,[7],[1.0])|                0.0|    (2,[0],[1.0])|         0.0|(2,[0],[1.0])|         79.0|  (1683,[79],[1.0])|(1810,[0,2,3,6,7,...|[-0.1596487264151...|  3053313.7593440497|\n",
      "|  13.669456|      0| 100.436235|1450000.0|               0.0|                   0.0|                  0.0|              7.0|          5.0990195135927845|        0.0|(16,[0],[1.0])|                    0.0|        (1,[0],[1.0])|                0.0|    (3,[0],[1.0])|      42.0|(88,[42],[1.0])|                0.0|    (2,[0],[1.0])|         0.0|(2,[0],[1.0])|        291.0| (1683,[291],[1.0])|(1810,[0,2,6,7,9,...|[-0.1524691310696...|  1767323.2542834654|\n",
      "|  13.684164|      0|  100.61481|3950000.0|               0.0|                   0.0|                  1.0|              7.0|           7.745966692414834|        0.0|(16,[0],[1.0])|                    0.0|        (1,[0],[1.0])|                0.0|    (3,[0],[1.0])|       7.0| (88,[7],[1.0])|                1.0|    (2,[1],[1.0])|         0.0|(2,[0],[1.0])|         75.0|  (1683,[75],[1.0])|(1810,[0,2,5,6,7,...|[-0.1261035728126...|  3393168.2954644337|\n",
      "|  13.684164|      1|  100.61481|4300000.0|               1.0|                   0.0|                  1.0|              7.0|            8.18535277187245|        0.0|(16,[0],[1.0])|                    0.0|        (1,[0],[1.0])|                0.0|    (3,[0],[1.0])|       7.0| (88,[7],[1.0])|                0.0|    (2,[0],[1.0])|         0.0|(2,[0],[1.0])|         75.0|  (1683,[75],[1.0])|(1810,[0,1,2,3,5,...|[-0.1261035728126...|   2836022.512479229|\n",
      "+-----------+-------+-----------+---------+------------------+----------------------+---------------------+-----------------+----------------------------+-----------+--------------+-----------------------+---------------------+-------------------+-----------------+----------+---------------+-------------------+-----------------+------------+-------------+-------------+-------------------+--------------------+--------------------+--------------------+\n",
      "only showing top 20 rows\n",
      "\n"
     ]
    }
   ],
   "source": [
    "train_pred_results.predictions.show()"
   ]
  },
  {
   "cell_type": "code",
   "execution_count": 62,
   "metadata": {},
   "outputs": [],
   "source": [
    "test_pred_results=regressor.evaluate(test_data)"
   ]
  },
  {
   "cell_type": "code",
   "execution_count": 63,
   "metadata": {},
   "outputs": [
    {
     "name": "stdout",
     "output_type": "stream",
     "text": [
      "+-----------+-------+-----------+---------+------------------+----------------------+---------------------+-----------------+----------------------------+-----------+---------------+-----------------------+---------------------+-------------------+-----------------+----------+---------------+-------------------+-----------------+------------+-------------+-------------+-------------------+--------------------+--------------------+--------------------+\n",
      "|   latitude|premium|  longitude|    price|floor_level_bucket|bathroom_number_bucket|bedroom_number_bucket|built_year_bucket|sqrt_winsorized_living_space|state_index|      state_vec|sub_property_type_index|sub_property_type_vec|property_type_index|property_type_vec|city_index|       city_vec|listing_label_index|listing_label_vec|tenure_index|   tenure_vec|address_index|        address_vec|               Xcols|       Xcols_sscaled|          prediction|\n",
      "+-----------+-------+-----------+---------+------------------+----------------------+---------------------+-----------------+----------------------------+-----------+---------------+-----------------------+---------------------+-------------------+-----------------+----------+---------------+-------------------+-----------------+------------+-------------+-------------+-------------------+--------------------+--------------------+--------------------+\n",
      "|  12.694585|      0| 101.268745|2700000.0|               2.0|                   0.0|                  0.0|              8.0|                         6.0|       12.0|(16,[12],[1.0])|                    0.0|        (1,[0],[1.0])|                0.0|    (3,[0],[1.0])|      73.0|(88,[73],[1.0])|                0.0|    (2,[0],[1.0])|         0.0|(2,[0],[1.0])|       1249.0|(1683,[1249],[1.0])|(1810,[0,2,3,6,7,...|[-1.8979329793434...|  -3794483.200349425|\n",
      "|  12.965552|      0| 100.885942|5026130.0|               4.0|                   0.0|                  0.0|              8.0|          7.0710678118654755|        3.0| (16,[3],[1.0])|                    0.0|        (1,[0],[1.0])|                0.0|    (3,[0],[1.0])|      22.0|(88,[22],[1.0])|                0.0|    (2,[0],[1.0])|         0.0|(2,[0],[1.0])|        237.0| (1683,[237],[1.0])|(1810,[0,2,3,6,7,...|[-1.4119436122098...|  3770447.4903886626|\n",
      "|  13.603716|      0| 100.598177|1600000.0|               1.0|                   0.0|                  0.0|              7.0|          5.5677643628300215|        1.0| (16,[1],[1.0])|                    0.0|        (1,[0],[1.0])|                0.0|    (3,[0],[1.0])|      12.0|(88,[12],[1.0])|                0.0|    (2,[0],[1.0])|         0.0|(2,[0],[1.0])|        357.0| (1683,[357],[1.0])|(1810,[0,2,3,6,7,...|[-0.2673728028957...|  1375511.5043481411|\n",
      "|  13.646183|      0| 100.595117|3465000.0|               1.0|                   0.0|                  0.0|              8.0|           5.916079783099616|        1.0| (16,[1],[1.0])|                    0.0|        (1,[0],[1.0])|                0.0|    (3,[0],[1.0])|      12.0|(88,[12],[1.0])|                0.0|    (2,[0],[1.0])|         0.0|(2,[0],[1.0])|          0.0|   (1683,[0],[1.0])|(1810,[0,2,3,6,7,...|[-0.1912066629079...|   3076658.839937982|\n",
      "| 13.6593143|      0|100.5975553|1550000.0|               0.0|                   0.0|                  0.0|              8.0|           4.795831523312719|        1.0| (16,[1],[1.0])|                    0.0|        (1,[0],[1.0])|                0.0|    (3,[0],[1.0])|      12.0|(88,[12],[1.0])|                0.0|    (2,[0],[1.0])|         0.0|(2,[0],[1.0])|        103.0| (1683,[103],[1.0])|(1810,[0,2,6,7,8,...|[-0.1676551891984...|     1638705.5227106|\n",
      "|  13.681451|      0| 100.609938|  1.495E7|               3.0|                   1.0|                  1.0|              8.0|            8.94427190999916|        0.0| (16,[0],[1.0])|                    0.0|        (1,[0],[1.0])|                0.0|    (3,[0],[1.0])|       4.0| (88,[4],[1.0])|                0.0|    (2,[0],[1.0])|         0.0|(2,[0],[1.0])|        373.0| (1683,[373],[1.0])|(1810,[0,2,3,4,5,...|[-0.1279521964966...|1.1528677436213974E7|\n",
      "|  13.687996|      0| 100.518236|9200000.0|               3.0|                   1.0|                  1.0|              7.0|           8.774964387392123|        0.0| (16,[0],[1.0])|                    0.0|        (1,[0],[1.0])|                0.0|    (3,[0],[1.0])|      25.0|(88,[25],[1.0])|                0.0|    (2,[0],[1.0])|         0.0|(2,[0],[1.0])|        116.0| (1683,[116],[1.0])|(1810,[0,2,3,4,5,...|[-0.1162134961830...|1.1864315560804743E7|\n",
      "|  13.690308|      0| 100.608215|5990000.0|               3.0|                   0.0|                  0.0|              9.0|           6.519202405202649|        0.0| (16,[0],[1.0])|                    0.0|        (1,[0],[1.0])|                0.0|    (3,[0],[1.0])|       4.0| (88,[4],[1.0])|                0.0|    (2,[0],[1.0])|         0.0|(2,[0],[1.0])|         38.0|  (1683,[38],[1.0])|(1810,[0,2,3,6,7,...|[-0.1120668384098...|  4131906.3527979115|\n",
      "|13.70630745|      0|100.4218874|1100000.0|               0.0|                   0.0|                  0.0|              6.0|           5.196152422706632|        0.0| (16,[0],[1.0])|                    0.0|        (1,[0],[1.0])|                0.0|    (3,[0],[1.0])|      37.0|(88,[37],[1.0])|                0.0|    (2,[0],[1.0])|         0.0|(2,[0],[1.0])|        470.0| (1683,[470],[1.0])|(1810,[0,2,6,7,9,...|[-0.0833712312695...|   807968.5953741819|\n",
      "|13.70701289|      0|100.6345496|1300000.0|               0.0|                   0.0|                  0.0|              7.0|           4.795831523312719|        0.0| (16,[0],[1.0])|                    0.0|        (1,[0],[1.0])|                0.0|    (3,[0],[1.0])|       6.0| (88,[6],[1.0])|                0.0|    (2,[0],[1.0])|         0.0|(2,[0],[1.0])|          0.0|   (1683,[0],[1.0])|(1810,[0,2,6,7,9,...|[-0.0821059984583...|  1528144.4201519666|\n",
      "|13.70778937|      0|100.6020339|3280000.0|               0.0|                   0.0|                  0.0|              5.0|          6.2136945531623935|        0.0| (16,[0],[1.0])|                    0.0|        (1,[0],[1.0])|                0.0|    (3,[0],[1.0])|       1.0| (88,[1],[1.0])|                0.0|    (2,[0],[1.0])|         0.0|(2,[0],[1.0])|        423.0| (1683,[423],[1.0])|(1810,[0,2,6,7,9,...|[-0.0807133527716...|   4702549.847267056|\n",
      "|13.70916533|      0|100.3829791|1590000.0|               1.0|                   0.0|                  0.0|              8.0|           4.795831523312719|        0.0| (16,[0],[1.0])|                    0.0|        (1,[0],[1.0])|                0.0|    (3,[0],[1.0])|      37.0|(88,[37],[1.0])|                0.0|    (2,[0],[1.0])|         0.0|(2,[0],[1.0])|        129.0| (1683,[129],[1.0])|(1810,[0,2,3,6,7,...|[-0.0782455174647...|  1254279.1400326071|\n",
      "|  13.710464|      0| 100.396858|1550000.0|               0.0|                   0.0|                  0.0|              7.0|          5.5677643628300215|        0.0| (16,[0],[1.0])|                    0.0|        (1,[0],[1.0])|                0.0|    (3,[0],[1.0])|      37.0|(88,[37],[1.0])|                1.0|    (2,[1],[1.0])|         0.0|(2,[0],[1.0])|        854.0| (1683,[854],[1.0])|(1810,[0,2,6,7,9,...|[-0.0759163046402...|   2583376.381045321|\n",
      "|  13.711724|      0| 100.594785|3500000.0|               0.0|                   0.0|                  0.0|              8.0|           5.744562646538029|        0.0| (16,[0],[1.0])|                    0.0|        (1,[0],[1.0])|                0.0|    (3,[0],[1.0])|       3.0| (88,[3],[1.0])|                0.0|    (2,[0],[1.0])|         0.0|(2,[0],[1.0])|         30.0|  (1683,[30],[1.0])|(1810,[0,2,6,7,9,...|[-0.0736564478954...|   2738148.771258574|\n",
      "|13.71302444|      0|100.4658048|2100000.0|               0.0|                   0.0|                  0.0|              7.0|           5.656854249492381|        0.0| (16,[0],[1.0])|                    0.0|        (1,[0],[1.0])|                0.0|    (3,[0],[1.0])|      27.0|(88,[27],[1.0])|                0.0|    (2,[0],[1.0])|         0.0|(2,[0],[1.0])|          0.0|   (1683,[0],[1.0])|(1810,[0,2,6,7,9,...|[-0.0713240605102...|  1979774.7631298313|\n",
      "|13.71708637|      0|100.5165379|9700000.0|               1.0|                   1.0|                  1.0|              7.0|            8.06225774829855|        0.0| (16,[0],[1.0])|                    0.0|        (1,[0],[1.0])|                0.0|    (3,[0],[1.0])|      15.0|(88,[15],[1.0])|                0.0|    (2,[0],[1.0])|         0.0|(2,[0],[1.0])|         54.0|  (1683,[54],[1.0])|(1810,[0,2,3,4,5,...|[-0.0640388383612...|1.3809511817896727E7|\n",
      "|  13.720854|      0| 100.578565|   2.99E7|               3.0|                   3.0|                  2.0|              7.0|          11.180339887498949|        0.0| (16,[0],[1.0])|                    0.0|        (1,[0],[1.0])|                0.0|    (3,[0],[1.0])|       3.0| (88,[3],[1.0])|                0.0|    (2,[0],[1.0])|         0.0|(2,[0],[1.0])|          0.0|   (1683,[0],[1.0])|(1810,[0,2,3,4,5,...|[-0.0572814541805...| 3.543959805419162E7|\n",
      "|   13.73443|      0| 100.544222|  1.929E7|               1.0|                   2.0|                  1.0|              8.0|          10.310674080776678|        0.0| (16,[0],[1.0])|                    0.0|        (1,[0],[1.0])|                0.0|    (3,[0],[1.0])|      19.0|(88,[19],[1.0])|                0.0|    (2,[0],[1.0])|         0.0|(2,[0],[1.0])|        511.0| (1683,[511],[1.0])|(1810,[0,2,3,4,5,...|[-0.0329323945231...| 3.508954138280006E7|\n",
      "|  13.749389|      0| 100.563926|4290000.0|               0.0|                   0.0|                  0.0|              8.0|           5.477225575051661|        0.0| (16,[0],[1.0])|                    0.0|        (1,[0],[1.0])|                0.0|    (3,[0],[1.0])|       0.0| (88,[0],[1.0])|                1.0|    (2,[1],[1.0])|         0.0|(2,[0],[1.0])|          0.0|   (1683,[0],[1.0])|(1810,[0,2,6,7,9,...|[-0.0061028730575...|    3632022.22954275|\n",
      "|13.75088658|      0|100.6065421|1750000.0|               0.0|                   0.0|                  0.0|              7.0|           5.387949517209678|        0.0| (16,[0],[1.0])|                    0.0|        (1,[0],[1.0])|                0.0|    (3,[0],[1.0])|      11.0|(88,[11],[1.0])|                0.0|    (2,[0],[1.0])|         0.0|(2,[0],[1.0])|         99.0|  (1683,[99],[1.0])|(1810,[0,2,6,7,9,...|[-0.0034169077687...|   1858506.924422848|\n",
      "+-----------+-------+-----------+---------+------------------+----------------------+---------------------+-----------------+----------------------------+-----------+---------------+-----------------------+---------------------+-------------------+-----------------+----------+---------------+-------------------+-----------------+------------+-------------+-------------+-------------------+--------------------+--------------------+--------------------+\n",
      "only showing top 20 rows\n",
      "\n"
     ]
    }
   ],
   "source": [
    "test_pred_results.predictions.show()"
   ]
  },
  {
   "cell_type": "code",
   "execution_count": 64,
   "metadata": {},
   "outputs": [
    {
     "data": {
      "text/plain": [
       "(2395191.424347034, 60883295005001.23, 0.6554479504966604)"
      ]
     },
     "execution_count": 64,
     "metadata": {},
     "output_type": "execute_result"
    }
   ],
   "source": [
    "train_pred_results.meanAbsoluteError, train_pred_results.meanSquaredError, train_pred_results.r2"
   ]
  },
  {
   "cell_type": "code",
   "execution_count": 65,
   "metadata": {},
   "outputs": [
    {
     "data": {
      "text/plain": [
       "(2782910.676283789, 72187312565540.19, 0.5907135654696494)"
      ]
     },
     "execution_count": 65,
     "metadata": {},
     "output_type": "execute_result"
    }
   ],
   "source": [
    "test_pred_results.meanAbsoluteError, test_pred_results.meanSquaredError, test_pred_results.r2"
   ]
  },
  {
   "cell_type": "code",
   "execution_count": 66,
   "metadata": {},
   "outputs": [
    {
     "name": "stdout",
     "output_type": "stream",
     "text": [
      "+---------+-------+----------+---------+------------------+----------------------+---------------------+-----------------+----------------------------+-----------+---------------+-----------------------+---------------------+-------------------+-----------------+----------+---------------+-------------------+-----------------+------------+-------------+-------------+-------------------+--------------------+--------------------+\n",
      "| latitude|premium| longitude|    price|floor_level_bucket|bathroom_number_bucket|bedroom_number_bucket|built_year_bucket|sqrt_winsorized_living_space|state_index|      state_vec|sub_property_type_index|sub_property_type_vec|property_type_index|property_type_vec|city_index|       city_vec|listing_label_index|listing_label_vec|tenure_index|   tenure_vec|address_index|        address_vec|               Xcols|       Xcols_sscaled|\n",
      "+---------+-------+----------+---------+------------------+----------------------+---------------------+-----------------+----------------------------+-----------+---------------+-----------------------+---------------------+-------------------+-----------------+----------+---------------+-------------------+-----------------+------------+-------------+-------------+-------------------+--------------------+--------------------+\n",
      "|12.694585|      0|101.268745|2700000.0|               2.0|                   0.0|                  0.0|              8.0|                         6.0|       12.0|(16,[12],[1.0])|                    0.0|        (1,[0],[1.0])|                0.0|    (3,[0],[1.0])|      73.0|(88,[73],[1.0])|                0.0|    (2,[0],[1.0])|         0.0|(2,[0],[1.0])|       1249.0|(1683,[1249],[1.0])|(1810,[0,2,3,6,7,...|[-1.8979329793434...|\n",
      "|12.965552|      0|100.885942|5026130.0|               4.0|                   0.0|                  0.0|              8.0|          7.0710678118654755|        3.0| (16,[3],[1.0])|                    0.0|        (1,[0],[1.0])|                0.0|    (3,[0],[1.0])|      22.0|(88,[22],[1.0])|                0.0|    (2,[0],[1.0])|         0.0|(2,[0],[1.0])|        237.0| (1683,[237],[1.0])|(1810,[0,2,3,6,7,...|[-1.4119436122098...|\n",
      "+---------+-------+----------+---------+------------------+----------------------+---------------------+-----------------+----------------------------+-----------+---------------+-----------------------+---------------------+-------------------+-----------------+----------+---------------+-------------------+-----------------+------------+-------------+-------------+-------------------+--------------------+--------------------+\n",
      "\n"
     ]
    }
   ],
   "source": [
    "pyspark_two_rows = test_data.limit(2)\n",
    "pyspark_two_rows.show()"
   ]
  },
  {
   "cell_type": "code",
   "execution_count": 67,
   "metadata": {},
   "outputs": [
    {
     "name": "stdout",
     "output_type": "stream",
     "text": [
      "+---------+-------+----------+---------+------------------+----------------------+---------------------+-----------------+----------------------------+-----------+---------------+-----------------------+---------------------+-------------------+-----------------+----------+---------------+-------------------+-----------------+------------+-------------+-------------+-------------------+--------------------+--------------------+------------------+\n",
      "| latitude|premium| longitude|    price|floor_level_bucket|bathroom_number_bucket|bedroom_number_bucket|built_year_bucket|sqrt_winsorized_living_space|state_index|      state_vec|sub_property_type_index|sub_property_type_vec|property_type_index|property_type_vec|city_index|       city_vec|listing_label_index|listing_label_vec|tenure_index|   tenure_vec|address_index|        address_vec|               Xcols|       Xcols_sscaled|        prediction|\n",
      "+---------+-------+----------+---------+------------------+----------------------+---------------------+-----------------+----------------------------+-----------+---------------+-----------------------+---------------------+-------------------+-----------------+----------+---------------+-------------------+-----------------+------------+-------------+-------------+-------------------+--------------------+--------------------+------------------+\n",
      "|12.694585|      0|101.268745|2700000.0|               2.0|                   0.0|                  0.0|              8.0|                         6.0|       12.0|(16,[12],[1.0])|                    0.0|        (1,[0],[1.0])|                0.0|    (3,[0],[1.0])|      73.0|(88,[73],[1.0])|                0.0|    (2,[0],[1.0])|         0.0|(2,[0],[1.0])|       1249.0|(1683,[1249],[1.0])|(1810,[0,2,3,6,7,...|[-1.8979329793434...|-3794483.200349425|\n",
      "|12.965552|      0|100.885942|5026130.0|               4.0|                   0.0|                  0.0|              8.0|          7.0710678118654755|        3.0| (16,[3],[1.0])|                    0.0|        (1,[0],[1.0])|                0.0|    (3,[0],[1.0])|      22.0|(88,[22],[1.0])|                0.0|    (2,[0],[1.0])|         0.0|(2,[0],[1.0])|        237.0| (1683,[237],[1.0])|(1810,[0,2,3,6,7,...|[-1.4119436122098...|3770447.4903886626|\n",
      "+---------+-------+----------+---------+------------------+----------------------+---------------------+-----------------+----------------------------+-----------+---------------+-----------------------+---------------------+-------------------+-----------------+----------+---------------+-------------------+-----------------+------------+-------------+-------------+-------------------+--------------------+--------------------+------------------+\n",
      "\n"
     ]
    }
   ],
   "source": [
    "regressor.evaluate(pyspark_two_rows).predictions.show()"
   ]
  },
  {
   "cell_type": "markdown",
   "metadata": {},
   "source": [
    "pyspark_two_rows"
   ]
  },
  {
   "cell_type": "code",
   "execution_count": 68,
   "metadata": {},
   "outputs": [
    {
     "data": {
      "text/plain": [
       "DataFrame[latitude: double, premium: int, longitude: double, price: double, floor_level_bucket: double, bathroom_number_bucket: double, bedroom_number_bucket: double, built_year_bucket: double, sqrt_winsorized_living_space: double, state_index: double, state_vec: vector, sub_property_type_index: double, sub_property_type_vec: vector, property_type_index: double, property_type_vec: vector, city_index: double, city_vec: vector, listing_label_index: double, listing_label_vec: vector, tenure_index: double, tenure_vec: vector, address_index: double, address_vec: vector, Xcols: vector, Xcols_sscaled: vector]"
      ]
     },
     "execution_count": 68,
     "metadata": {},
     "output_type": "execute_result"
    }
   ],
   "source": [
    "# spark.conf.set(\"spark.sql.repl.eagerEval.enabled\",True)\n",
    "pyspark_two_rows"
   ]
  },
  {
   "cell_type": "code",
   "execution_count": 69,
   "metadata": {},
   "outputs": [
    {
     "data": {
      "text/plain": [
       "DataFrame[latitude: double, premium: int, longitude: double, price: double, floor_level_bucket: double, bathroom_number_bucket: double, bedroom_number_bucket: double, built_year_bucket: double, sqrt_winsorized_living_space: double, state_index: double, state_vec: vector, sub_property_type_index: double, sub_property_type_vec: vector, property_type_index: double, property_type_vec: vector, city_index: double, city_vec: vector, listing_label_index: double, listing_label_vec: vector, tenure_index: double, tenure_vec: vector, address_index: double, address_vec: vector, Xcols: vector, Xcols_sscaled: vector]"
      ]
     },
     "execution_count": 69,
     "metadata": {},
     "output_type": "execute_result"
    }
   ],
   "source": [
    "# spark.conf.set(\"spark.sql.repl.eagerEval.enabled\",False)\n",
    "pyspark_two_rows"
   ]
  },
  {
   "cell_type": "markdown",
   "metadata": {},
   "source": [
    "## Machine Learning Modelling"
   ]
  },
  {
   "cell_type": "markdown",
   "metadata": {},
   "source": [
    "Before i train test split my data. These are the first 10 rows"
   ]
  },
  {
   "attachments": {
    "10%20rows.png": {
     "image/png": "[encoded data removed]"
    }
   },
   "cell_type": "markdown",
   "metadata": {},
   "source": [
    "![10%20rows.png](attachment:10%20rows.png)"
   ]
  },
  {
   "cell_type": "markdown",
   "metadata": {},
   "source": [
    "and the number of rows and columns"
   ]
  },
  {
   "attachments": {
    "ppty%20dataframe.png": {
     "image/png": "[encoded data removed]"
    }
   },
   "cell_type": "markdown",
   "metadata": {},
   "source": [
    "![ppty%20dataframe.png](attachment:ppty%20dataframe.png)"
   ]
  },
  {
   "cell_type": "markdown",
   "metadata": {},
   "source": [
    "Next, the dataset underwent a pivotal step in the machine learning pipeline — the train-test split. The training set has a size of (32965, 23), while the test set (8343, 23). "
   ]
  },
  {
   "attachments": {
    "train%20test%20dataframe.png": {
     "image/png": "[encoded data removed]"
    }
   },
   "cell_type": "markdown",
   "metadata": {},
   "source": [
    "![train%20test%20dataframe.png](attachment:train%20test%20dataframe.png)"
   ]
  },
  {
   "cell_type": "markdown",
   "metadata": {},
   "source": [
    "### Build the predictive model\n",
    "Subsequently, feature engineering steps were implemented to prepare the data for the machine learning models. The process commenced with Vector Assembly, a technique consolidating the various features into a single vector, ready for input into the machine learning algorithm. Following this, Standard Scaling was applied to ensure that all features contribute uniformly to the model by standardizing their scales. This normalization step is crucial for algorithms sensitive to the magnitude of input features, fostering improved convergence and model generalization.\n",
    "\n",
    "A Linear Regression model was employed to initiate the prediction of property prices. This foundational model provides a baseline understanding of the dataset's predictive capacity. The training phase yielded an R-squared value of 0.6554, indicating that approximately 65.54% of the variance in the target variable could be explained by the model. Meanwhile, the test R-squared of 0.5907 demonstrated the model's ability to generalize well to unseen data, capturing 59.07% of the variance. \n",
    " "
   ]
  },
  {
   "cell_type": "markdown",
   "metadata": {},
   "source": [
    "### Step 5: Model Evaluation and Selection<a id=\"part5\"></a>"
   ]
  },
  {
   "cell_type": "markdown",
   "metadata": {},
   "source": [
    "#### Model 2"
   ]
  },
  {
   "cell_type": "code",
   "execution_count": 70,
   "metadata": {},
   "outputs": [],
   "source": [
    "train_model_2 = train\n",
    "\n",
    "test_model_2 = test"
   ]
  },
  {
   "cell_type": "code",
   "execution_count": 71,
   "metadata": {},
   "outputs": [
    {
     "name": "stdout",
     "output_type": "stream",
     "text": [
      "+--------------------+--------------------+--------------------+-------------------+----------------------+---------------------+-------------------+----------------------------+--------------------+-----------------------+-------------------+--------------------+--------------------+-------------------+--------------------+\n",
      "|            latitude|             premium|           longitude| floor_level_bucket|bathroom_number_bucket|bedroom_number_bucket|  built_year_bucket|sqrt_winsorized_living_space|         state_index|sub_property_type_index|property_type_index|          city_index| listing_label_index|       tenure_index|       address_index|\n",
      "+--------------------+--------------------+--------------------+-------------------+----------------------+---------------------+-------------------+----------------------------+--------------------+-----------------------+-------------------+--------------------+--------------------+-------------------+--------------------+\n",
      "|-0.02482323839359...|0.003120937374019...|0.001169072713714...|0.19607599654867505|    0.5270093259717237|  0.43460496756410805|0.05166834194845279|         0.49182611139393495|-0.05042316468890...|   0.019695106718411695|0.05692964574265111|-0.05055724075503...|0.005406403203043062|0.13205145733040424|0.046561349324950006|\n",
      "+--------------------+--------------------+--------------------+-------------------+----------------------+---------------------+-------------------+----------------------------+--------------------+-----------------------+-------------------+--------------------+--------------------+-------------------+--------------------+\n",
      "\n"
     ]
    }
   ],
   "source": [
    "from pyspark.sql import SparkSession\n",
    "from pyspark.sql.functions import corr\n",
    "\n",
    "# Assuming 'train_model_2' is your DataFrame\n",
    "correlation_train_model_2 = train_model_2.select(\n",
    "    [corr(col_name, 'price').alias(col_name) \n",
    "     for col_name, col_type in train_model_2.dtypes \n",
    "     if col_type in ['double', 'float', 'int'] and col_name != 'price']\n",
    ")\n",
    "\n",
    "# Show the correlation values\n",
    "correlation_train_model_2.show()"
   ]
  },
  {
   "cell_type": "code",
   "execution_count": 72,
   "metadata": {},
   "outputs": [],
   "source": [
    "from pyspark.sql.functions import col\n",
    "\n",
    "train_model_2 = train_model_2.withColumn('highcorrelations',\n",
    "                                 (col('sqrt_winsorized_living_space') * 0.49) +\n",
    "                                 (col('bathroom_number_bucket') * 0.53) +\n",
    "                                 (col('floor_level_bucket') * 0.20) +\n",
    "                                 (col('bedroom_number_bucket') * 0.53) +\n",
    "                                 (col('tenure_index') * 0.13)\n",
    "                                )\n",
    "\n",
    "train_model_2 = train_model_2.withColumn('homepredictor',\n",
    "                                 (col('sqrt_winsorized_living_space') * 0.49) +\n",
    "                                 (col('bathroom_number_bucket') * 0.53) +\n",
    "                                 (col('floor_level_bucket') * 0.20) +\n",
    "                                 (col('bedroom_number_bucket') * 0.53)\n",
    "                                )\n",
    "\n",
    "test_model_2 = test_model_2.withColumn('highcorrelations',\n",
    "                                 (col('sqrt_winsorized_living_space') * 0.49) +\n",
    "                                 (col('bathroom_number_bucket') * 0.53) +\n",
    "                                 (col('floor_level_bucket') * 0.20) +\n",
    "                                 (col('bedroom_number_bucket') * 0.53) +\n",
    "                                 (col('tenure_index') * 0.13)\n",
    "                                )\n",
    "\n",
    "test_model_2 = test_model_2.withColumn('homepredictor',\n",
    "                                 (col('sqrt_winsorized_living_space') * 0.49) +\n",
    "                                 (col('bathroom_number_bucket') * 0.53) +\n",
    "                                 (col('floor_level_bucket') * 0.20) +\n",
    "                                 (col('bedroom_number_bucket') * 0.53)\n",
    "                                )"
   ]
  },
  {
   "cell_type": "code",
   "execution_count": 73,
   "metadata": {},
   "outputs": [],
   "source": [
    "train_model_2 = train_model_2.withColumn('property',\n",
    "                                 (col('sub_property_type_index') * 0.020) +\n",
    "                                 (col('property_type_index') * 0.057) +\n",
    "                                 (col('tenure_index') * 0.13)\n",
    "                                )\n",
    "\n",
    "test_model_2 = test_model_2.withColumn('property',\n",
    "                                 (col('sub_property_type_index') * 0.020) +\n",
    "                                 (col('property_type_index') * 0.057) +\n",
    "                                 (col('tenure_index') * 0.13)\n",
    "                                )"
   ]
  },
  {
   "cell_type": "code",
   "execution_count": 74,
   "metadata": {},
   "outputs": [
    {
     "data": {
      "text/plain": [
       "DataFrame[latitude: double, premium: int, longitude: double, price: double, floor_level_bucket: double, bathroom_number_bucket: double, bedroom_number_bucket: double, built_year_bucket: double, sqrt_winsorized_living_space: double, state_index: double, state_vec: vector, sub_property_type_index: double, sub_property_type_vec: vector, property_type_index: double, property_type_vec: vector, city_index: double, city_vec: vector, listing_label_index: double, listing_label_vec: vector, tenure_index: double, tenure_vec: vector, address_index: double, address_vec: vector, highcorrelations: double, homepredictor: double, property: double, flat_conditions: int]"
      ]
     },
     "execution_count": 74,
     "metadata": {},
     "output_type": "execute_result"
    }
   ],
   "source": [
    "from pyspark.sql import SparkSession\n",
    "from pyspark.sql.functions import when\n",
    "\n",
    "\n",
    "# Define the conditions\n",
    "condition = (\n",
    "    (col(\"floor_level_bucket\") >= 5) &\n",
    "    (col(\"bedroom_number_bucket\") >= 3) &\n",
    "    (col(\"bathroom_number_bucket\") >= 3) \n",
    ")\n",
    "\n",
    "# Create a new binary column based on the conditions\n",
    "train_model_2 = train_model_2.withColumn(\"flat_conditions\", when(condition, 1).otherwise(0))\n",
    "test_model_2 = test_model_2.withColumn(\"flat_conditions\", when(condition, 1).otherwise(0))\n",
    "\n",
    "train_model_2"
   ]
  },
  {
   "cell_type": "code",
   "execution_count": 75,
   "metadata": {},
   "outputs": [
    {
     "name": "stdout",
     "output_type": "stream",
     "text": [
      "Dimension of the train is: (32965, 27)\n",
      "Number of Rows are: 32965\n",
      "Number of Columns are: 27\n",
      "\n",
      "Dimension of the test is: (8343, 27)\n",
      "Number of Rows are: 8343\n",
      "Number of Columns are: 27\n",
      "\n"
     ]
    }
   ],
   "source": [
    "# extracting number of rows from the Dataframe\n",
    "row = train_model_2.count()\n",
    "\n",
    "# extracting number of columns from the Dataframe\n",
    "col = len(train_model_2.columns)\n",
    "\n",
    "# printing\n",
    "print(f'Dimension of the train is: {(row,col)}')\n",
    "print(f'Number of Rows are: {row}')\n",
    "print(f'Number of Columns are: {col}\\n')\n",
    "\n",
    "# extracting number of rows from the Dataframe\n",
    "row = test_model_2.count()\n",
    "\n",
    "# extracting number of columns from the Dataframe\n",
    "col = len(test_model_2.columns)\n",
    "\n",
    "# printing\n",
    "print(f'Dimension of the test is: {(row,col)}')\n",
    "print(f'Number of Rows are: {row}')\n",
    "print(f'Number of Columns are: {col}\\n')"
   ]
  },
  {
   "cell_type": "code",
   "execution_count": 76,
   "metadata": {},
   "outputs": [],
   "source": [
    "from pyspark.ml.feature import VectorAssembler\n",
    "feature_columns = [col for col in train_model_2.columns if col != 'price']\n",
    "featureassembler=VectorAssembler(inputCols=feature_columns,outputCol=\"Xcols\")"
   ]
  },
  {
   "cell_type": "code",
   "execution_count": 77,
   "metadata": {},
   "outputs": [],
   "source": [
    "train_model_2_vectored = featureassembler.transform(train_model_2)"
   ]
  },
  {
   "cell_type": "code",
   "execution_count": 78,
   "metadata": {},
   "outputs": [],
   "source": [
    "test_model_2_vectored = featureassembler.transform(test_model_2)"
   ]
  },
  {
   "cell_type": "code",
   "execution_count": 79,
   "metadata": {},
   "outputs": [],
   "source": [
    "from pyspark.ml.feature import StandardScaler\n",
    "\n",
    "sScaler = StandardScaler(withMean=True, withStd=True, inputCol=\"Xcols\", outputCol=\"Xcols_sscaled\")"
   ]
  },
  {
   "cell_type": "code",
   "execution_count": 80,
   "metadata": {},
   "outputs": [],
   "source": [
    "train_model_2_sscaled = sScaler.fit(train_model_2_vectored).transform(train_model_2_vectored)\n",
    "\n",
    "test_model_2_sscaled = sScaler.fit(test_model_2_vectored).transform(test_model_2_vectored)"
   ]
  },
  {
   "cell_type": "code",
   "execution_count": 81,
   "metadata": {},
   "outputs": [
    {
     "name": "stdout",
     "output_type": "stream",
     "text": [
      "+---------+-------+----------+---------+------------------+----------------------+---------------------+-----------------+----------------------------+-----------+--------------+-----------------------+---------------------+-------------------+-----------------+----------+---------------+-------------------+-----------------+------------+-------------+-------------+-------------------+------------------+------------------+--------+---------------+--------------------+--------------------+\n",
      "| latitude|premium| longitude|    price|floor_level_bucket|bathroom_number_bucket|bedroom_number_bucket|built_year_bucket|sqrt_winsorized_living_space|state_index|     state_vec|sub_property_type_index|sub_property_type_vec|property_type_index|property_type_vec|city_index|       city_vec|listing_label_index|listing_label_vec|tenure_index|   tenure_vec|address_index|        address_vec|  highcorrelations|     homepredictor|property|flat_conditions|               Xcols|       Xcols_sscaled|\n",
      "+---------+-------+----------+---------+------------------+----------------------+---------------------+-----------------+----------------------------+-----------+--------------+-----------------------+---------------------+-------------------+-----------------+----------+---------------+-------------------+-----------------+------------+-------------+-------------+-------------------+------------------+------------------+--------+---------------+--------------------+--------------------+\n",
      "| 6.250554|      0|102.044653|   5.55E7|               5.0|                   2.0|                  1.0|              8.0|          11.180339887498949|        0.0|(16,[0],[1.0])|                    0.0|        (1,[0],[1.0])|                0.0|    (3,[0],[1.0])|       9.0| (88,[9],[1.0])|                0.0|    (2,[0],[1.0])|         0.0|(2,[0],[1.0])|       1306.0|(1683,[1306],[1.0])| 8.068366544874484| 8.068366544874484|     0.0|              0|(1814,[0,2,3,4,5,...|[-13.451591573564...|\n",
      "|12.619622|      0| 99.951243|2290000.0|               0.0|                   0.0|                  0.0|              7.0|           5.744562646538029|        6.0|(16,[6],[1.0])|                    0.0|        (1,[0],[1.0])|                0.0|    (3,[0],[1.0])|      45.0|(88,[45],[1.0])|                0.0|    (2,[0],[1.0])|         0.0|(2,[0],[1.0])|       1083.0|(1683,[1083],[1.0])| 2.814835696803634| 2.814835696803634|     0.0|              0|(1814,[0,2,6,7,8,...|[-2.0344013779566...|\n",
      "|12.874982|      0|100.887046|6090000.0|               3.0|                   0.0|                  0.0|              7.0|           7.416198487095663|        3.0|(16,[3],[1.0])|                    0.0|        (1,[0],[1.0])|                0.0|    (3,[0],[1.0])|      22.0|(88,[22],[1.0])|                0.0|    (2,[0],[1.0])|         0.0|(2,[0],[1.0])|        615.0| (1683,[615],[1.0])| 4.233937258676875| 4.233937258676875|     0.0|              0|(1814,[0,2,3,6,7,...|[-1.5766430861075...|\n",
      "|12.921459|      0|100.882059|4800000.0|               3.0|                   0.0|                  0.0|              8.0|           6.481512169239521|        3.0|(16,[3],[1.0])|                    0.0|        (1,[0],[1.0])|                0.0|    (3,[0],[1.0])|      22.0|(88,[22],[1.0])|                0.0|    (2,[0],[1.0])|         0.0|(2,[0],[1.0])|        868.0| (1683,[868],[1.0])|3.7759409629273653|3.7759409629273653|     0.0|              0|(1814,[0,2,3,6,7,...|[-1.4933284239433...|\n",
      "|12.935937|      0|100.897023|3200000.0|               0.0|                   0.0|                  0.0|              7.0|            6.48074069840786|        3.0|(16,[3],[1.0])|                    0.0|        (1,[0],[1.0])|                0.0|    (3,[0],[1.0])|      22.0|(88,[22],[1.0])|                0.0|    (2,[0],[1.0])|         0.0|(2,[0],[1.0])|        672.0| (1683,[672],[1.0])|3.1755629422198517|3.1755629422198517|     0.0|              0|(1814,[0,2,6,7,8,...|[-1.4673751636465...|\n",
      "+---------+-------+----------+---------+------------------+----------------------+---------------------+-----------------+----------------------------+-----------+--------------+-----------------------+---------------------+-------------------+-----------------+----------+---------------+-------------------+-----------------+------------+-------------+-------------+-------------------+------------------+------------------+--------+---------------+--------------------+--------------------+\n",
      "only showing top 5 rows\n",
      "\n"
     ]
    }
   ],
   "source": [
    "train_model_2_sscaled.show(5)"
   ]
  },
  {
   "cell_type": "code",
   "execution_count": 82,
   "metadata": {},
   "outputs": [
    {
     "name": "stdout",
     "output_type": "stream",
     "text": [
      "+--------------------+---------+\n",
      "|       Xcols_sscaled|    price|\n",
      "+--------------------+---------+\n",
      "|[-13.451591573564...|   5.55E7|\n",
      "|[-2.0344013779566...|2290000.0|\n",
      "|[-1.5766430861075...|6090000.0|\n",
      "|[-1.4933284239433...|4800000.0|\n",
      "|[-1.4673751636465...|3200000.0|\n",
      "+--------------------+---------+\n",
      "only showing top 5 rows\n",
      "\n"
     ]
    }
   ],
   "source": [
    "train_model_2_data = train_model_2_sscaled.select(\"Xcols_sscaled\",\"price\")\n",
    "train_model_2_data.show(5)"
   ]
  },
  {
   "cell_type": "code",
   "execution_count": 83,
   "metadata": {},
   "outputs": [
    {
     "name": "stdout",
     "output_type": "stream",
     "text": [
      "+--------------------+---------+\n",
      "|       Xcols_sscaled|    price|\n",
      "+--------------------+---------+\n",
      "|[-1.8979329793434...|2700000.0|\n",
      "|[-1.4119436122098...|5026130.0|\n",
      "|[-0.2673728028957...|1600000.0|\n",
      "|[-0.1912066629079...|3465000.0|\n",
      "|[-0.1676551891984...|1550000.0|\n",
      "+--------------------+---------+\n",
      "only showing top 5 rows\n",
      "\n"
     ]
    }
   ],
   "source": [
    "test_model_2_data = test_model_2_sscaled.select(\"Xcols_sscaled\",\"price\")\n",
    "test_model_2_data.show(5)"
   ]
  },
  {
   "cell_type": "code",
   "execution_count": 84,
   "metadata": {},
   "outputs": [],
   "source": [
    "from pyspark.ml.regression import LinearRegression\n",
    "\n",
    "regressor=LinearRegression(featuresCol=\"Xcols_sscaled\", labelCol='price')\n",
    "regressor=regressor.fit(train_model_2_data)"
   ]
  },
  {
   "cell_type": "code",
   "execution_count": 85,
   "metadata": {},
   "outputs": [
    {
     "data": {
      "text/plain": [
       "pyspark.ml.regression.LinearRegressionModel"
      ]
     },
     "execution_count": 85,
     "metadata": {},
     "output_type": "execute_result"
    }
   ],
   "source": [
    "type(regressor)"
   ]
  },
  {
   "cell_type": "code",
   "execution_count": 86,
   "metadata": {},
   "outputs": [
    {
     "data": {
      "text/plain": [
       "DenseVector([2737.4913, -102482.5715, -272345.919, -158797.4818, 5684464.128, -65368.765, 604286.8142, -931795.6328, -64901.2741, 132114.7594, -118495.5578, -150200.0712, 117464.2315, -12387.3526, -35238.3196, 42876.3032, -46894.0546, 88984.9477, -662.1185, -70659.1951, -157152.6803, 31109.7441, 34601.602, 34820.7217, 49186.2713, -49279.8062, 49279.8062, -596781.7508, -910700.732, 1911562.9231, 1097137.3191, -389801.355, -340073.2714, 987474.6181, -166400.537, 818043.8825, -560067.3963, 334889.4045, -438954.4351, -231888.137, -341307.5131, 24187.9648, -87037.3479, -376110.6537, 41874.46, -182595.7892, -195556.6529, 144202.6191, -140958.7498, 442541.3418, -39218.9474, 688778.6143, -109692.5766, -372210.5712, 147147.3255, -156408.9058, -220828.351, 1153989.8873, -108688.3155, -128710.3448, -237395.6435, -185777.1077, -12387.3526, 30375.8517, -76383.1366, -93306.4304, -103692.6551, -110877.5757, 37137.7286, -8676.6355, -2127.622, -65122.1548, -316267.6841, 40552.8823, 5000.5272, -5241.7969, -72839.3323, 31144.311, -71652.6286, -64824.6007, -226144.9308, -350479.7057, -33283.9751, 88984.9477, -301143.2597, -5338.5091, -26154.9059, -33782.4438, -61654.5076, -537.4806, 77745.6152, -8265.013, 1368.6489, -173438.079, -94612.4867, 27674.6844, -14111.9454, -164652.2469, -194756.0218, 41191.1787, -179053.1921, -193515.798, 9179.2959, -74596.2404, -55006.8221, 21330.4145, 43369.148, -76600.9887, 45809.4646, 23426.0299, 34820.7217, 49186.2713, 33100.0021, 23716.7189, -44669.3561, 37993.0535, -40211.5393, 29134.6297, 26801.0078, 9092.2962, 5473.0519, 1526.8278, -8605.2037, 42251.2369, -45996.4225, 48436.4527, -2268064.1064, -303998.8764, -201455.4222, -52945.9026, -226591.2757, -445336.0387, -115738.2347, 1613700.1619, -39322.6888, -36933.596, 109499.1261, 5686.289, 6843.195, 51200.6967, -275503.583, -63702.2117, -104701.6194, 52305.6074, -120394.626, -50328.8905, 79883.0259, -399529.7208, 34856.2383, 51151.3908, 434842.6256, -77283.1586, -116402.7364, -312006.2456, 25705.3461, 22889.3825, -217572.2777, -251142.4732, -41201.1896, 255160.0211, -152908.5531, -4249.6822, -79316.8656, -36985.375, -107548.2812, 72908.5092, -88800.6753, -148400.9229, -113838.5734, 226226.8355, -167259.1163, 171665.4273, 44516.2265, 669423.3852, -41785.6191, 9260.477, -32067.9306, 3691.5457, -206528.6329, 32126.9396, -54123.7128, -26484.9849, -71391.9003, -32649.8271, 28441.4709, 83668.7982, -69159.3667, -81152.4369, -30040.9203, 17151.1576, -11484.5892, -2523.6387, -19911.7976, -90491.863, 2595.2254, -212619.9773, -165964.4354, 1851.7501, 11532.4735, 964.6155, -132296.485, -49896.4747, 24679.8441, 561.3975, -114352.2579, -621101.9009, -13672.6929, 71956.3669, 48872.0461, 663.1466, 44428.8195, -896.2691, -4723.786, 225294.6512, -23090.7711, 35531.2906, -57407.3588, -69698.8465, 156806.6671, -26671.7066, -177168.0071, 30375.1158, -55373.4967, -101698.6694, 59462.7148, 48512.3647, 15490.7536, -68896.9453, 20658.2076, 36118.3766, -74712.2859, 43653.1314, 142950.0585, -1238.1782, 69696.1099, 42794.4498, -150900.2196, -147827.6683, 71520.6764, 18512.9827, -69454.6758, -168416.6138, -36895.9634, -508859.2249, -52847.4504, 16119.6895, -29096.1505, -31343.1287, -84107.9228, -91877.709, 255943.7572, 164990.4361, -16766.6612, -72738.8705, -19600.705, -259381.0989, -80297.6935, -1574.4615, 812301.4068, 398022.3939, -38631.5622, -90840.8006, 5518.2602, -5577.5252, 109858.0437, 821024.139, -21199.1044, -8410.2009, 382373.8928, -116811.4377, 3256722.8149, 48957.7871, 30279.8912, -14332.6436, 10612.8196, -769505.185, -130822.669, -39402.4502, 2147.0315, 101480.6648, 44214.832, 24627.6719, 5961.9628, 60640.5351, 41245.1645, 69348.9703, 33295.8315, -13446.6529, -11940.1002, -52120.1882, -140930.7558, -12017.4041, 41971.6631, -505012.1021, 115580.6274, -59600.3913, 10137.6973, -11935.0827, 220055.7122, 112147.4985, 44779.8049, -6696.6503, 54773.67, 573580.1172, -67953.3842, -11411.7365, 172810.5472, 33876.0764, -15020.1042, 57672.7826, 6721.0326, 22318.9849, -53237.5762, 40313.115, -15680.344, -575.5795, 4345.7547, -53410.9697, -23102.3246, 5243.1606, 46484.7526, 14005.4079, 25144.3789, 142976.5505, -20684.3098, -24030.6721, -38363.6644, -96127.8376, 45865.3617, 51352.3164, 296097.5093, -55607.51, 230171.4988, -55465.5189, 41240.9721, 32413.1278, -1210.7246, 9408.6674, 91434.3232, 24413.6077, 93617.3893, 6494.6293, -52688.3941, -143452.7484, -121031.962, -859085.9568, 17028.4965, 47689.9204, 32051.8764, -33492.8172, 71586.163, -4612.1633, 20342.4863, -84633.8426, -61414.3135, 58882.9233, -28751.3379, -48560.9918, 102937.0955, 42940.7676, -11551.2173, -358173.298, -50992.7382, -24867.8663, -20126.7089, 39015.8338, 115669.0238, -1612.7603, 97769.8741, 55092.972, -77534.1462, 44460.9291, -68196.1718, 14909.5467, 509322.6065, -15284.3835, -53483.6293, 60543.5006, -42056.4693, 55705.5093, 17183.1587, -27134.0748, -19879.3525, 12021.6917, 658463.1889, -61322.8756, 59887.8361, 29070.9833, 130292.1479, 253844.9518, 17358.6556, 24063.8976, 124797.4384, 59598.0286, 11950.8541, 109810.8691, 28854.0185, 63408.7289, -48865.6055, -17168.7638, 38772.4935, -13453.4977, 30911.553, 24253.1231, -1460.1264, -81724.3272, 426997.1406, -31613.1705, 373794.3955, 2125.6966, 53499.2302, -47026.3055, 76743.7554, -675119.1088, 10467.4303, 37691.8867, 70241.8324, 22460.6568, 6175.7333, -30003.4269, 49662.4383, 10931.7756, 4904.803, 307111.8011, 77651.4078, 70644.3856, 27300.316, 15456.4801, -88210.8698, -113026.1753, 39542.4625, 10090.7511, 105505.7054, -13296.5427, 40705.8125, 9258.7342, 41751.5956, 46847.8468, 5766.4862, -349706.4124, 178345.5585, 31907.7664, 260254.7004, 88946.0785, 560183.4574, -114299.8996, 2895.7725, 2392.2561, 28667.738, 30948.5461, 2182.0616, 5455.1791, 1516.6702, 45339.7066, 39372.876, 4266.6267, 49807.6377, 56103.2212, 480873.2723, -54353.402, 13014.7902, 19056.324, 51027.6382, 2347838.1946, 24586.7053, 72467.3229, 77163.3542, 2113.4926, -27364.1988, -1998.2867, 96949.1236, 33825.0212, -12570.1759, 23538.3534, 28134.2991, -43633.0335, 12734.692, 59742.1897, 14741.3509, 68108.8272, 19575.6752, 67749.0193, 147841.1518, 51284.336, 14292.0886, 77192.9474, 49978.5712, -21370.1461, -45390.6851, 74011.3609, 394047.2106, -22281.8753, -23780.9057, 65581.7183, 41610.0724, 49234.3007, 56730.2399, -87704.0355, -29501.4661, 70810.7618, 87152.0453, 1387990.3053, 96223.9842, 44715.7062, 19376.1459, 72690.5641, -14837.0627, -5814.6137, -80201.8597, 46987.364, 35638.6877, 60704.9595, 977656.6557, 52392.8282, 35119.0112, -16874.4311, -54262.1646, 52370.0286, 64817.0211, -112418.6239, 23655.2895, 66113.9544, 34178.2561, 81655.7995, 1862463.3175, 189181.5629, 31428.9869, 98599.5979, 101915.4922, 67450.9233, 24949.3457, 101842.8626, 45896.9726, 77759.6455, 68666.748, 722551.8455, -221269.8593, 78980.0845, 144438.0738, -12604.2237, -14445.514, 37110.6083, 31722.8316, 98014.4331, 681.1743, 65046.9342, 74515.7782, -25158.6508, 51539.5075, 48850.5366, 15183.9606, 20200.8585, 43207.4672, 78142.1359, -40149.2686, 89397.9408, 63556.3767, -43298.7318, 35671.3847, 118871.1154, 117250.9552, 17624.4769, -82478.3518, 661037.3716, 75430.8208, -644121.9586, -525506.0081, 10711.7087, 59151.0788, 42499.8852, -31851.3252, -34080.4886, 32214.8486, 40430.3164, -9869.9786, 39019.4952, 60094.7159, -15840.1487, 75045.6815, 66418.7593, 115861.3148, 23260.3234, 59932.1549, 126024.5123, 14851.3799, 25404.258, 12445.7837, 29239.2337, 77930.9434, 53700.3468, -54337.0405, 72360.0073, 33988.5956, 13311.8103, 61906.4732, 30386.7592, 107876.2389, 33357.5766, 39952.5774, 10772.6849, 77720.3973, 122102.5153, 95970.545, 35810.1725, 100268.5402, 38714.4044, -217753.6877, 78517.279, -25093.8496, 16828.7562, 74883.1222, 60684.0182, 91736.3982, 70050.3551, 73294.0229, -471398.6838, -50604.3803, 70647.3923, 1677688.7187, 81249.6562, 58030.3721, -419886.5903, 39076.3841, -369856.2022, -388217.6403, 72549.8797, 37972.0977, 104382.3204, 37328.1972, 91854.278, 130116.0738, 172921.2951, 37662.6654, 79486.3621, 123570.2123, -115757.1324, 107924.9665, -30913.0667, 265005.7274, 58826.8926, -75417.7058, 82352.2976, -51638.4885, 12210.7606, 40609.7156, 55248.2006, 28725.9578, 932752.4404, 17676.3275, 75795.8968, 69974.3866, 110165.005, 67000.0188, -57589.0092, 55205.8756, -11068.6721, 121366.9815, -30965.7359, 9490.0407, 62560.9638, 100939.7704, -36682.2164, 63263.9655, 66490.3325, 45439.4891, -39789.405, 70697.6965, 29401.7898, 31633.0621, 25440.084, 156815.2973, -457464.5073, 200930.4614, 46680.3973, 114180.2516, 86731.7674, 88870.952, 38979.3475, 67652.1561, 70052.7832, -25130.9171, 41122.6063, -22880.2189, 43756.8155, 431734.9931, 27585.4816, 161612.0646, 65309.4438, 123070.4468, 43382.7555, -14771.8031, -23611.1081, 30348.5898, 120962.215, 29925.8444, 8640.5082, 51417.5166, 18670.3713, 104513.9041, 60261.2835, -178802.5182, 47371.2239, -400323.259, 41234.7967, 75146.2686, 34168.6973, 13533.0588, 54592.4368, 38889.6493, -81605.6246, 68184.3793, 76919.6743, 61373.5503, 37359.1782, -39009.8455, 83310.0711, 58925.657, 61673.6746, 28650.376, 58269.3269, 58813.8576, 43956.978, 125754.8192, 62101.4941, 69625.1193, 151649.4249, 106876.0429, 29440.9745, -44905.9929, 75926.0359, -2893.2711, 149595.387, 26549.7071, 30119.1506, 90523.8678, 18137.286, 53552.6344, 9969.0515, 600864.7535, -189358.1251, -363865.5427, 21717.5307, 82651.2106, 34032.2918, 90593.6928, 37201.7447, 46620.5663, 11084.7776, 20475.0486, 38963.6099, 59827.358, 104408.3968, 72595.9466, 36744.5109, 45403.9065, 4839.6617, -16404.352, 36722.8033, -126574.7707, -167604.7503, -360586.422, -326968.4647, 62163.2641, 58670.9195, 46678.1146, -248160.5486, 61140.6824, -100.9039, 44924.448, 55801.9824, 92832.0109, 77540.8289, -253452.7319, 74713.5905, 29807.5778, 99528.3155, 66601.3169, 20505.8946, 41191.1787, 45147.7433, 74945.3892, 92976.9522, 50484.9656, -24229.5346, 48676.5813, -232133.4891, 70189.968, 17690.3981, -31561.5126, 68548.9957, 151197.4727, 182933.5193, 67740.2582, -156242.0748, 90373.3578, 60700.5471, 82182.2379, 40492.219, 78572.1335, 25911.7298, -147740.4335, 7706.9619, 43934.5154, 29119.9758, 59323.9729, 47684.3988, 56734.9037, 42944.6961, 61169.4255, 41198.028, 60845.2612, 26678.9199, 50369.8724, 40803.4679, 27083.7668, 16067.6065, 91575.9041, 36639.7555, 80254.2282, 46826.2922, 65315.2931, -4147.0113, 47827.2313, 43111.7063, -85417.209, -306534.4304, 16234.0632, -370835.1597, -269205.2796, 73206.1035, -438281.8725, 61749.4774, 4867.6836, 60282.1232, -340514.4901, 114221.2517, -289417.5955, 73640.8702, -413861.6216, 24136.1214, 328033.1416, -170647.1516, 68628.5028, 105270.5954, 89022.3423, 54763.5272, 31688.5172, 70295.6796, 95260.9353, 54487.0892, 82106.6972, 36564.1925, 15804.175, -124889.2878, 56454.9694, 171629.8413, 61020.2816, 44790.2942, 64784.9697, 46028.1638, 67129.8042, 60086.5308, 27700.7205, 72892.2193, 253636.2591, 46728.0963, 94219.0961, -309123.5355, 50364.7292, 50963.9154, 86378.5854, 60828.4743, -115271.0293, 92241.7887, -181185.4542, -226821.575, -435338.5096, -251686.2359, -30815.5254, 57533.2723, 18612.3357, 35716.1597, -271969.0831, 47235.3388, 61272.028, 34661.5012, 79905.6566, 38309.6715, 44958.4366, 28062.9441, 104215.4143, 68701.4915, 31267.5459, 66941.9413, 70904.816, 85789.4422, 49012.7834, 41103.6955, 71588.9325, 79044.6671, 35240.8453, 176615.7446, 80575.9807, 72414.5095, 47016.8125, 44484.4692, 71700.271, 78370.8966, 113278.2518, 118382.9025, 113894.1128, 234873.9223, 23976.7713, -403922.3187, -252543.7879, 1748.7988, 30032.1344, 29975.0739, 90919.8291, -408575.7731, -177752.9991, -132001.6399, -238989.5719, -218183.6344, 59419.6566, -2013.4373, 103639.1152, -231934.2859, 64396.1436, 60165.5374, 50581.1549, 10672.5578, 75120.0457, 42878.9826, 81130.4339, 19634.8593, 72952.4199, -25164.1497, 238525.4916, 36540.9715, -94117.1833, -2583.5965, 44185.2775, 1091007.7041, 55603.6081, 59988.0395, 60833.9906, 24699.1739, 60057.9927, 103555.6136, 80671.0179, 47250.1151, 163566.2612, 61880.3292, -167859.6143, -339331.7098, 43669.8572, 62406.2485, 22947.2436, -286204.9051, 78765.052, 85504.5236, 23332.4232, 86636.493, 41011.1845, 59135.2839, 85096.1378, 42901.0991, 68163.9688, -253153.7143, 103202.577, 332890.3167, 66413.6935, 60375.262, 17836.7968, 51928.3512, 58385.7057, 58254.9937, 66472.4471, -506.4739, 57288.2692, 56545.5865, -8527.6469, 84626.9516, 12113.857, -8635.2977, 91488.7699, 65243.4279, 65989.8408, 69815.3519, -3992.5161, 75597.472, 109971.8729, 59015.6294, 62281.4864, 67605.7372, -28966.298, 18218.876, 66665.5765, 243084.4373, 83822.9406, 84063.3349, 38412.5861, -356965.9696, 55736.6536, -141900.9082, 46240.3863, 40737.6159, 105866.9186, 73766.0428, 49729.0235, -20912.9113, 67934.179, -172967.9989, 11616.0678, 68875.0432, 58732.5915, 46472.2991, -273490.2882, -228219.5263, -212502.7715, 39601.0881, 51798.564, 52151.7579, 94038.4301, 193210.5497, -10066.7956, 71838.3818, 94508.2005, 54995.3104, 12061.1716, 75969.0302, 78840.0733, 79370.568, 28310.6435, 66790.3714, 17989.352, 88193.6608, 35226.8244, 75353.7276, 2285.2656, 82129.6098, 57846.698, 41937.4339, 74335.5921, -27513.9452, 147971.6556, 72781.1851, -193558.8601, -40884.1484, 72492.3309, 95021.8951, -8009.1216, -178474.229, -306481.6187, 13494.1566, 69892.4822, 84833.1872, -121817.2866, -248560.998, 44737.0684, 55382.4187, 79221.4638, 65740.1096, -258863.9675, 68947.0591, 95179.6, -15382.3157, 56046.7228, 48870.4177, -290545.2046, -255200.9386, 34351.3396, 95103.4208, -251443.4891, 122096.1262, 12764.7032, 62648.5357, -295567.8998, 93606.3462, 29289.3482, -158892.1555, 35713.72, 64024.8557, 30488.6816, 42873.247, 49827.7083, 173354.0344, 176644.3573, 104264.0058, 51796.1066, 66633.2364, 73721.7168, 76149.0938, -202857.2559, 77569.2215, 76403.0163, 285971.3679, 28158.399, 43840.4113, -211715.0092, -145329.7611, -24712.8647, 96744.2218, 65277.6356, 84582.0714, 28228.4128, -234805.9243, 61882.2866, 69943.9975, 51552.7437, 120926.1929, 66931.5257, 89740.6523, 56423.757, -133463.7758, -184437.6213, 52513.7508, 102595.7298, -64087.432, -224115.6025, -303621.423, -249580.1307, -250814.6032, -245971.5117, 69956.8418, -82776.7858, 85327.4721, -175996.6271, -89443.1805, -191829.7756, -228423.0563, -107764.9403, 78442.7489, -166171.9376, 47950.2839, -217180.657, -82275.922, -85568.703, 3797.1505, 107657.8489, -228511.0606, 47323.8365, -170424.1926, 73984.4311, -164312.0758, 67823.0829, 59669.8044, 39134.9555, 16880.3507, 48732.8692, 36350.0926, 65343.6424, 14689.5376, 46695.6768, 69369.7718, 52373.9498, 71274.2432, 39858.8383, 116974.8729, 41084.9032, 67059.9838, 95479.632, 68283.468, 12772.8453, 40198.0523, 367155.1677, 51129.2793, 102605.1112, 69517.1746, 97605.306, 84828.2009, 27282.2557, 47061.6122, 29203.2171, 77337.877, 65235.4891, 26156.78, -81545.635, -232038.7905, 16031.8533, -146942.0457, 85482.6741, 347904.9222, -78569.0162, 71626.9131, -94180.8561, -201168.9439, -56261.8059, 50246.0625, 1529.2276, 66436.8471, 38214.036, 40967.4153, -173966.1977, -434479.7418, -123463.5763, 31934.0472, 73825.0633, 57164.615, 32301.7997, -56916.4505, 71605.9826, 25219.9063, -82856.1478, -132747.4511, -215300.3016, 43369.148, -65446.9015, 68573.9432, 35708.8631, 21596.7937, -71171.8046, 52390.0027, -108230.7599, -247684.9003, 56188.7709, -184660.0129, -137472.2311, 55374.9506, 94788.5267, -76600.9887, 82047.3419, -42149.185, -151858.1835, 48366.8687, 14817.7353, 42540.1655, 32118.2391, 86732.025, -186068.5785, 60138.074, 70482.1457, 101869.9457, 30423.6572, 67717.3531, 45908.8157, 48795.3802, 80802.5888, 44413.1186, 62202.6242, 83431.0806, 59828.6545, 59156.5056, 2653.0372, 56835.3126, 33775.4609, 85449.7686, 93642.6373, 72820.97, 33424.1113, 76985.1231, 153351.0145, 36704.3417, 39384.1263, -131756.1584, 20706.3057, 0.0, 52609.9463, 56429.3505, 46260.7798, 0.0, 12850.329, 13612.3294, 52414.2271, 49249.2953, 43255.0656, 73798.4746, 91936.3974, 17315.909, 9426.6023, -51583.9799, 91912.2489, -109917.8063, 68546.7669, -177047.7904, 66664.2505, 36953.9222, -96244.8801, 6507.9813, 35595.308, -124987.3944, -154924.3696, 113968.7691, 43206.7105, 6919.084, -35348.7289, 176363.2541, -173060.8298, 46044.1428, 55954.7478, 74656.9154, 42437.4057, 46889.9276, 63588.3127, 46664.3944, -96303.9287, -156996.222, 80811.6411, 26138.4826, -125711.0301, -75666.618, -201623.2188, 49610.2909, -10734.3882, 98669.6137, -47504.3353, 79438.8662, 85832.4841, -78468.9203, 2724.7154, -226751.0273, 88075.6299, -64481.1011, 77834.6351, 62909.7474, -169652.8495, 59172.8852, 79010.7368, 179140.9297, 65415.0467, 117580.9751, 71440.4612, -62160.4527, 38498.2731, -9771.7071, -84944.9505, -72663.3938, 89775.5255, 80658.6002, 17610.5919, -154606.6703, -168510.9619, 48653.8337, -173438.5445, -131829.646, -42399.9327, 287008.804, 34621.9152, -42963.1727, -130691.6732, -73559.8608, 9971.2127, 93401.8681, 4586.5916, -74628.0367, 18428.218, -190797.0815, 87030.4342, 23025.5969, 8075.8589, 99999.9582, 78075.9325, -248165.6077, -52096.2063, -27050.1381, 90803.5134, 56268.5041, 97181.9342, 64988.0701, 150353.1437, 71662.5648, 79334.7432, 54436.3558, 64208.3659, 62317.261, 58646.6725, 38240.2597, 65767.1732, 13165.6131, 0.0, 32814.2823, 102381.3898, 69274.4734, 44179.7891, 47322.5516, 25510.3082, 61693.2687, 72896.7977, 43864.7815, 17792.1957, 6443.7499, 75030.9098, 71119.2562, 36654.2487, 23121.782, -39741.9949, 39170.895, 59697.0696, 62227.2225, -109258.1656, 99351.0685, 50992.2009, 235362.4515, -111048.4611, 48549.9994, 47048.6405, 37993.0535, -116432.325, -94078.087, 97163.7898, -167503.3255, 20803.1336, -41585.7332, 38423.2918, 71768.7117, 54963.9148, 44972.8, 31875.9821, -117799.3445, 99222.48, 68156.1496, 0.0, 47110.3635, 77009.1646, 87610.1782, -24971.2064, 43960.1396, -40211.5393, -153995.3695, -108052.1803, 79538.9295, 67109.3171, -104115.6357, -28081.2729, 211570.4208, -26754.7813, -80852.9753, 73381.1753, 67494.4202, -73354.5703, 41492.9041, 12136.937, 355354.773, -48265.8627, 4654.9957, 1336672.9349, -32554.0631, -101102.1841, 42995.7964, 927671.832, 48906.6566, -101835.906, -148746.6624, 23716.7189, -125146.096, -2860.4155, 36218.545, 41730.4559, 58266.8777, 80794.8544, 62756.5858, 60849.8707, -61100.7884, -68957.8786, 3650.7715, 51571.2524, -86418.1016, 54917.0482, 70512.6228, -152216.8318, 41886.8115, -77192.0677, 8272.6328, -164537.3204, -140634.8065, 0.0, 44700.0731, -150975.4562, -53180.7578, 33100.0021, 151721.2382, 0.0, 68943.5581, -47075.7301, 84925.1691, -79536.7547, 44483.3915, 70939.6683, 61879.5668, -47046.1882, 68124.4385, 83234.6113, -234586.4787, -62475.6695, 0.0, -65798.6296, 103636.4879, -89979.2232, 80182.9762, 55315.3945, 114243.5408, 73487.0946, -109493.6421, 0.0, -42004.3843, 66660.1584, -95379.3139, 53293.2955, -3937.9256, -93465.1571, -11110.0274, -41358.8819, -144454.9427, 0.0, -44772.3599, -73318.0255, 95301.3722, -73301.7805, -237654.0281, 73390.3657, 54493.8339, -63514.8393, 23392.9635, -113190.3284, -39057.3938, -62701.9292, 13125.9749, -27098.4593, 80860.7501, 70814.8008, 54587.1051, 85655.079, 68021.0518, 26367.6597, 65842.111, 46280.2194, 20583.3121, 77132.4023, 83556.1565, 76644.8186, -23722.5675, -53587.3071, 54936.7741, 153344.9548, 44692.0779, 48208.7762, 51664.9518, 10846.9009, 6939.993, 90620.138, 72256.4281, 60943.9631, 50672.9476, 30165.3751, 31450.9942, 0.0, 49752.1306, 0.0, -62698.9545, 35432.024, 49729.5723, 22087.8078, 63418.8775, 36013.7339, 0.0, 11551.8218, 43618.5065, 56515.247, 17313.6669, 37243.0022, 53276.576, 68367.4988, 36279.9169, 50678.4565, 61146.2897, 41941.1549, 49657.9056, 0.0, 0.0, 45077.4064, 48901.4339, 34772.4764, 0.0, 136161.8804, 13538.6257, 82300.3913, -12420.1617, 40586.1355, 12826.1764, 78511.0723, 78956.1338, 46400.4419, 13644.3337, 42256.2854, -65749.5406, 50077.2968, 60141.9256, 0.0, 59833.8183, 123039.3207, 36665.9495, 3444.756, 0.0, 45436.184, 50093.5377, 0.0, 52412.7198, -22427.0416, 24306.2903, 59566.5674, 20991.9697, -33702.4901, 0.0, 42831.6277, -126064.6448, -104407.3449, 69153.4097, 65753.2303, 95733.7052, -41009.7365, -10386.2081, 75324.4063, 0.0, -38077.7913, 55984.474, 76548.7189, 56324.853, 0.0, 0.0, 64002.4513, 59077.3468, 127107.9921, 57382.7386, -111529.8576, 7818.2201, 66603.8859, 0.0, 53959.8127, 0.0, 50835.5276, -111162.2624, 42266.3733, 51162.3454, 52544.8793, 51749.9384, 65846.0074, 44747.2107, 71129.4346, -180800.8877, -45520.0486, -58723.3519, 43530.367, 53764.3188, 45730.5638, 90640.5968, -82621.9997, -92163.2259, 0.0, -23824.9597, -22198.6821, 49556.2898, 69524.365, -22948.7659, 207817.2671, 0.0, -40002.0118, 35563.2242, 0.0, -94745.7167, 42816.9701, 0.0, -74622.6039, 19072.6361, 60190.5997, -49636.1278, 29134.6297, 43107.2434, 0.0, 0.0, 59901.7378, 95191.1942, 0.0, 0.0, 9092.2962, 59995.2209, 79082.7931, 38950.6864, 0.0, -49950.8118, 28240.718, 61835.1728, 44909.6361, -68564.8018, 37902.2782, -96863.7738, -99969.5134, 0.0, -20083.9691, -69814.2325, -13723.4201, 68322.2162, 0.0, -23184.9334, -70314.3956, 58805.0088, -61986.7061, 0.0, 64737.9083, -21210.8097, -21307.7374, -24189.0703, 58228.5703, 53666.5297, -168366.0256, -186268.6021, 0.0, 47009.4883, 677481.3411, 22844.2729, 67335.1002, 52120.3833, 60334.7506, 45322.3981, 50146.4582, 58327.8878, -23169.0392, -101419.3162, 23921.4845, 58819.8188, -117446.3145, 0.0, -89809.3282, 61815.7322, -88369.5497, 63383.3502, 55253.2872, -76728.6024, 67203.8429, 15289.0027, -49406.3719, -144475.4113, -76143.2847, -25109.5916, 0.0, 0.0, 70950.1165, -62462.1064, -86065.9385, 12821.5929, 54526.8165, 36091.0368, -34201.9586, -32343.8565, -64935.8407, 0.0, -13082.6317, -53757.3397, -60591.4617, -47912.6129, -10799.2512, 0.0, 0.0, 65708.0531, 71745.7448, -16146.2861, 0.0, 75277.3244, 43638.0468, 33106.0764, 0.0, 21976.0458, -20668.7973, -81100.9146, 8829.4285, -58025.4746, -49092.2119, 0.0, 59752.9853, 0.0, -113683.1927, 64371.1476, 76802.176, 0.0, 0.0, 63965.6831, 68299.4648, 26801.0078, -8420.6007, 25371.1004, 82984.7108, 59828.2574, 86035.9535, 62495.1798, 59094.5345, 0.0, 0.0, 0.0, 57359.1931, 80098.309, 71687.9412, 60839.2342, 50815.4879, 65351.5765, 68257.231, 66942.4457, 63441.1351, 26545.6562, 58718.4165, 61807.4555, 65827.27, 57838.4695, 71570.3658, 0.0, -26693.6369, -55318.6066, 56076.0321, 43839.7212, 128296.7874, 0.0, 790025.7512, 790047.6096, -519282.6365, 3195380.5461])"
      ]
     },
     "execution_count": 86,
     "metadata": {},
     "output_type": "execute_result"
    }
   ],
   "source": [
    "# Coefficients\n",
    "regressor.coefficients"
   ]
  },
  {
   "cell_type": "code",
   "execution_count": 87,
   "metadata": {},
   "outputs": [
    {
     "data": {
      "text/plain": [
       "6553573.548217733"
      ]
     },
     "execution_count": 87,
     "metadata": {},
     "output_type": "execute_result"
    }
   ],
   "source": [
    "# Intercept\n",
    "regressor.intercept"
   ]
  },
  {
   "cell_type": "code",
   "execution_count": 88,
   "metadata": {},
   "outputs": [
    {
     "data": {
      "text/plain": [
       "[Row(Xcols_sscaled=DenseVector([-13.4516, -0.1216, 7.3555, 2.1747, 2.4932, 1.1021, 0.7503, 2.6551, -0.277, 0.3637, -0.2138, -0.1962, -0.126, -0.0871, -0.0681, -0.0448, -0.0458, -0.0353, -0.0349, -0.0297, -0.022, -0.0095, -0.0095, -0.0078, -0.0095, -0.0765, 0.0765, -0.1815, 0.1926, -0.1445, -0.1245, -0.1971, -0.3611, -0.3205, -0.2836, -0.276, -0.2196, -0.1994, -0.1914, -0.1802, -0.177, 5.8051, -0.1695, -0.1671, -0.1665, -0.1625, -0.162, -0.1541, -0.1556, -0.1472, -0.1366, -0.1201, -0.1156, -0.1191, -0.1105, -0.1097, -0.1073, -0.1033, -0.1009, -0.0955, -0.0922, -0.0867, -0.0871, -0.086, -0.0825, -0.0779, -0.0806, -0.0718, -0.0707, -0.0687, -0.0617, -0.0589, -0.0568, -0.0538, -0.0502, -0.0514, -0.0455, -0.0423, -0.0423, -0.0366, -0.0366, -0.0378, -0.0321, -0.0353, -0.0349, -0.0344, -0.0331, -0.0326, -0.0331, -0.0335, -0.0326, -0.0258, -0.027, -0.024, -0.0234, -0.022, -0.0234, -0.0213, -0.0199, -0.0146, -0.0174, -0.0174, -0.0156, -0.0146, -0.0123, -0.0078, -0.0095, -0.0095, -0.0095, -0.0078, -0.0078, -0.0095, -0.0078, -0.0055, -0.0078, -0.0078, -0.0055, -0.0055, -0.0055, -0.0055, -0.2865, 0.2875, -0.2865, -0.0583, 0.0592, -0.0581, 3.4944, -0.4478, -0.099, -0.0895, -0.0876, -0.0814, -0.0795, -0.0739, -0.0757, -0.0728, -0.0703, -0.0714, -0.0703, -0.0724, -0.0639, -0.0662, -0.0641, -0.0658, -0.0639, -0.0636, -0.0594, -0.0612, -0.0627, -0.0612, -0.0592, -0.0573, -0.0579, -0.054, -0.0546, -0.0554, -0.0552, -0.0573, -0.0538, -0.052, -0.0549, -0.0543, -0.0523, -0.0549, -0.0526, -0.0532, -0.056, -0.0517, -0.0563, -0.0523, -0.052, -0.0523, -0.0523, -0.0484, -0.0496, -0.0487, -0.0505, -0.0484, -0.0496, -0.0493, -0.0481, -0.0484, -0.0493, -0.0465, -0.0481, -0.0461, -0.0461, -0.0474, -0.0478, -0.0487, -0.0487, -0.0487, -0.0471, -0.0474, -0.0471, -0.0465, -0.0444, -0.0455, -0.0451, -0.0474, -0.0461, -0.0451, -0.0451, -0.0444, -0.0461, -0.0441, -0.0465, -0.0465, -0.0451, -0.0448, -0.0455, -0.0455, -0.0465, -0.0444, -0.0465, -0.0461, -0.0434, -0.0451, -0.0455, -0.0448, -0.0413, -0.0455, -0.0441, -0.042, -0.0434, -0.0416, -0.0427, -0.0434, -0.0409, -0.0431, -0.0438, -0.0423, -0.0409, -0.0413, -0.0413, -0.0413, -0.0427, -0.0413, -0.0401, -0.0394, -0.042, -0.0409, -0.0397, -0.0394, -0.0413, -0.0397, -0.0416, -0.0405, -0.0378, -0.0386, -0.0416, -0.0394, -0.0397, -0.0401, -0.0397, -0.0386, -0.0405, -0.0374, -0.0382, -0.0374, -0.0401, -0.039, -0.0357, -0.0382, -0.0382, -0.0394, -0.0401, -0.0378, -0.0386, -0.0405, -0.0366, -0.0382, -0.0366, -0.039, -0.0382, -0.0394, -0.037, -0.037, -0.037, -0.039, -0.039, -0.0394, -0.0378, -0.0361, -0.0374, -0.0378, -0.0335, -0.0361, -0.0378, -0.0357, -0.0366, -0.0353, -0.0361, -0.0344, -0.0374, -0.0366, -0.0361, -0.037, -0.0374, -0.0382, -0.037, -0.0353, -0.0349, -0.0326, -0.0344, -0.0366, -0.0357, -0.037, -0.0366, -0.0357, -0.0366, -0.0361, -0.0357, -0.0331, -0.0344, -0.0326, -0.0321, -0.0349, -0.0344, -0.0312, -0.0353, -0.0349, -0.0353, -0.0344, -0.0344, -0.0331, -0.0349, -0.034, -0.0326, -0.0344, -0.0331, -0.0349, -0.0353, -0.0349, -0.0326, -0.0357, -0.0331, -0.0321, -0.0326, -0.034, -0.0344, -0.0335, -0.0353, -0.0344, -0.034, -0.0344, -0.0317, -0.0307, -0.0335, -0.0335, -0.0331, -0.0344, -0.0307, -0.0317, -0.0326, -0.0312, -0.0326, -0.0321, -0.0335, -0.0335, -0.0335, -0.0321, -0.034, -0.0312, -0.0326, -0.0281, -0.0335, -0.0326, -0.0326, -0.0331, -0.0312, -0.0312, -0.0302, -0.0321, -0.0307, -0.0321, -0.0321, -0.0326, -0.0321, -0.0302, -0.0317, -0.0312, -0.0302, -0.0326, -0.0312, -0.0307, -0.0321, -0.0307, -0.0321, -0.0312, -0.0302, -0.0317, -0.0297, -0.0321, -0.0292, -0.0326, -0.0312, -0.0317, -0.0321, -0.0317, -0.0297, -0.0302, -0.0307, -0.0307, -0.0302, -0.0317, -0.0297, -0.0297, -0.0317, -0.0292, -0.0302, -0.0292, -0.0292, -0.0307, -0.0326, -0.0307, -0.0317, -0.0312, -0.0302, -0.0307, -0.0292, -0.0275, -0.0307, -0.0292, -0.0307, -0.027, -0.0292, -0.0275, -0.0302, -0.0281, -0.0312, -0.0286, -0.0292, -0.0292, -0.0286, -0.0292, -0.0246, -0.0292, -0.0292, -0.0302, -0.0302, -0.0292, -0.0307, -0.0292, -0.027, -0.0275, -0.027, -0.0286, -0.0252, -0.0258, -0.0286, -0.0286, -0.0286, -0.027, -0.0252, -0.0286, -0.0275, -0.0264, -0.0297, -0.0281, -0.0252, -0.0258, -0.027, -0.0292, -0.0297, -0.0281, -0.0292, -0.0275, -0.0258, -0.0264, -0.0264, -0.0234, -0.027, -0.0264, -0.0213, -0.0275, -0.0281, -0.0246, -0.0264, -0.0281, -0.0258, -0.027, -0.0264, -0.0286, -0.0252, -0.0286, -0.0252, -0.027, -0.027, -0.0286, -0.0246, -0.024, -0.0275, -0.0264, -0.0275, -0.0275, -0.0264, -0.0275, -0.0275, -0.0281, -0.024, -0.0234, -0.027, -0.0252, -0.0234, -0.024, -0.0258, -0.027, -0.0264, -0.0246, -0.0258, -0.027, -0.0252, -0.0234, -0.0234, -0.0227, -0.0264, -0.0264, -0.0258, -0.024, -0.0252, -0.0258, -0.0252, -0.0264, -0.0264, -0.024, -0.0258, -0.0246, -0.027, -0.0234, -0.0258, -0.0258, -0.024, -0.0252, -0.0252, -0.0258, -0.0252, -0.0258, -0.0252, -0.022, -0.0252, -0.0246, -0.0252, -0.0227, -0.0227, -0.0234, -0.0234, -0.0258, -0.0234, -0.0252, -0.0246, -0.024, -0.024, -0.024, -0.024, -0.0246, -0.0246, -0.0227, -0.0246, -0.0246, -0.024, -0.024, -0.022, -0.0227, -0.0234, -0.0234, -0.0227, -0.0227, -0.024, -0.0234, -0.0252, -0.0246, -0.024, -0.0234, -0.0234, -0.0206, -0.0227, -0.0206, -0.0234, -0.0227, -0.0227, -0.024, -0.0246, -0.022, -0.0246, -0.024, -0.024, -0.022, -0.0227, -0.0234, -0.0227, -0.0213, -0.022, -0.024, -0.0246, -0.0234, -0.024, -0.0206, -0.0234, -0.022, -0.024, -0.0213, -0.0227, -0.022, -0.0234, -0.0213, -0.0234, -0.0213, -0.022, -0.0227, -0.0234, -0.0199, -0.024, -0.0234, -0.022, -0.0206, -0.022, -0.0227, -0.0234, -0.0234, -0.0234, -0.0227, -0.0234, -0.0191, -0.0206, -0.0213, -0.0213, -0.0234, -0.022, -0.0213, -0.0206, -0.0213, -0.0213, -0.0213, -0.022, -0.022, -0.0213, -0.0199, -0.0199, -0.022, -0.022, -0.0191, -0.0227, -0.0213, -0.0213, -0.0227, -0.0199, -0.0206, -0.0206, -0.0206, -0.0213, -0.0174, -0.0206, -0.0213, -0.022, -0.0213, -0.0227, -0.0206, -0.0213, -0.022, -0.0191, -0.0199, -0.0191, -0.0199, -0.0206, -0.0213, -0.0199, -0.0213, -0.0174, -0.0213, -0.0199, -0.0199, -0.0206, -0.0183, -0.0227, -0.0206, -0.0206, -0.0199, -0.0213, -0.0183, -0.0199, -0.0213, -0.0199, -0.022, -0.0206, -0.0213, -0.0206, -0.0199, -0.022, -0.022, -0.0183, -0.0191, -0.0199, -0.0183, -0.0191, -0.0174, -0.0213, -0.0191, -0.0199, -0.0206, -0.0206, -0.0199, -0.0213, -0.0165, -0.0191, -0.0183, -0.0191, -0.0183, -0.0183, -0.0191, -0.0191, -0.0191, -0.0191, -0.0156, -0.0183, -0.0199, -0.0206, -0.0191, -0.0191, -0.0174, -0.0191, -0.0206, -0.0183, -0.0183, -0.0206, -0.0191, -0.0191, -0.0199, -0.0174, -0.0174, -0.0206, -0.0183, -0.0174, -0.0191, -0.0191, -0.0206, -0.0183, -0.0165, -0.0146, -0.0165, -0.0199, -0.0199, -0.0174, -0.0174, -0.0183, -0.0165, -0.0199, -0.0191, -0.0183, -0.0174, -0.0191, -0.0199, -0.0183, -0.0156, -0.0183, -0.0199, -0.0165, -0.0165, -0.0183, -0.0174, -0.0174, -0.0191, -0.0191, -0.0165, -0.0174, -0.0183, -0.0165, -0.0183, -0.0191, -0.0165, -0.0183, -0.0199, -0.0146, -0.0174, -0.0165, -0.0183, -0.0165, -0.0174, -0.0146, -0.0183, -0.0165, -0.0165, -0.0156, -0.0146, -0.0165, -0.0156, -0.0174, -0.0191, -0.0165, -0.0191, -0.0156, -0.0165, -0.0165, -0.0165, -0.0183, -0.0174, -0.0174, -0.0174, -0.0165, -0.0165, -0.0156, -0.0174, -0.0174, -0.0191, -0.0183, -0.0191, -0.0174, -0.0183, -0.0174, -0.0165, -0.0156, -0.0135, -0.0165, -0.0165, -0.0146, -0.0123, -0.0146, -0.0174, -0.0156, -0.0165, -0.0165, -0.0165, -0.0156, -0.0156, -0.0165, -0.0156, -0.0174, -0.0174, -0.0165, -0.0165, -0.0174, -0.0156, -0.0146, -0.0174, -0.0165, -0.0156, -0.0183, -0.0156, -0.0174, -0.0156, -0.0123, -0.0165, -0.0174, -0.0174, -0.0146, -0.0156, -0.0156, -0.0183, -0.0174, -0.0165, -0.0165, -0.0146, -0.0156, -0.0123, -0.0165, -0.0146, -0.0156, -0.0165, -0.0156, -0.0156, -0.0165, -0.0174, -0.0156, -0.0156, -0.0165, -0.0165, -0.0135, -0.0165, -0.0146, -0.0174, -0.0174, -0.0165, -0.0146, -0.0165, -0.0165, -0.0165, -0.0146, -0.0156, -0.0165, -0.0156, -0.0165, -0.0174, -0.0146, -0.0165, -0.0146, -0.0146, -0.0156, -0.0174, -0.0135, -0.0146, -0.0135, -0.0156, -0.0146, -0.0135, -0.011, -0.0165, -0.0165, -0.0146, -0.0165, -0.0135, -0.0146, -0.0165, -0.0146, -0.0135, -0.0123, -0.0165, -0.0135, -0.0146, -0.0165, -0.0165, -0.0165, -0.0165, -0.0135, -0.0156, -0.0135, -0.0135, -0.0165, -0.0135, -0.0146, -0.0156, -0.0156, -0.0146, -0.0146, -0.0146, -0.0165, -0.0123, -0.0165, -0.0165, -0.0146, -0.0156, -0.0135, -0.0156, -0.0156, -0.0135, -0.0146, -0.0123, -0.0135, -0.0123, -0.0146, -0.0156, -0.0146, -0.0146, -0.0135, -0.0123, -0.0156, -0.0146, -0.0146, -0.0135, -0.0146, -0.0123, -0.0156, -0.0135, -0.0146, -0.0135, -0.0123, -0.0146, -0.0156, -0.0146, -0.011, -0.0123, -0.0146, -0.0135, -0.0156, -0.0146, -0.0146, -0.0135, -0.0146, -0.0146, -0.0123, -0.0123, -0.0146, -0.0156, -0.0146, -0.0156, -0.0146, -0.0135, -0.0146, -0.0156, -0.0135, -0.0146, -0.0156, -0.0135, -0.011, -0.0146, -0.0135, -0.0135, -0.0146, -0.0095, -0.0135, -0.0123, -0.0123, -0.0146, -0.0123, -0.0135, -0.0123, -0.0135, -0.0146, -0.0123, -0.011, -0.0135, -0.0135, -0.0146, -0.0146, -0.0146, -0.0095, -0.0146, -0.0135, -0.0135, -0.0135, -0.0123, -0.0095, -0.0123, -0.0135, -0.011, -0.011, -0.0135, -0.0135, -0.0123, -0.0123, -0.0123, -0.0123, -0.0123, -0.0135, -0.0135, -0.0135, -0.0146, -0.0135, -0.0135, -0.0123, -0.011, -0.0135, -0.0135, -0.0135, -0.0095, -0.0095, -0.0135, -0.011, -0.0123, -0.0123, -0.0135, -0.0123, -0.0123, -0.0095, -0.0123, -0.0123, -0.011, -0.0123, -0.0135, -0.011, -0.011, -0.011, -0.0123, -0.0123, -0.0123, -0.0123, -0.011, -0.0123, -0.0135, -0.011, -0.011, -0.0135, -0.011, -0.0123, -0.011, -0.0123, -0.0123, -0.0095, -0.0123, -0.0095, -0.0123, -0.0135, -0.0135, -0.0123, -0.011, -0.0135, -0.0123, -0.0123, -0.0135, -0.0135, -0.0135, -0.0135, -0.0095, -0.0123, -0.0123, -0.0123, -0.0078, -0.011, -0.0123, -0.011, -0.0123, -0.0078, -0.0123, -0.011, -0.011, -0.011, -0.011, -0.011, -0.0095, -0.0123, -0.0123, -0.011, -0.0123, -0.0078, -0.0123, -0.011, -0.011, -0.011, -0.011, -0.0123, -0.0123, -0.0078, -0.0123, -0.011, -0.011, -0.0095, -0.0095, -0.011, -0.0078, -0.011, -0.011, -0.011, -0.0123, -0.011, -0.011, -0.011, -0.0123, -0.011, -0.011, -0.0123, -0.0095, -0.011, -0.011, -0.011, -0.011, -0.011, -0.0123, -0.011, -0.0123, -0.011, -0.011, -0.011, -0.011, -0.011, -0.011, -0.0123, -0.011, -0.011, -0.011, -0.0055, -0.0123, -0.0095, -0.0123, -0.0123, -0.011, -0.0095, -0.0123, -0.011, -0.0095, -0.0095, -0.0123, -0.0095, -0.0095, -0.011, -0.0095, -0.0078, -0.011, -0.011, -0.0095, -0.011, -0.0078, -0.011, -0.011, -0.011, -0.0095, -0.0095, -0.011, -0.011, -0.0095, -0.011, -0.011, -0.0078, -0.0078, -0.0095, -0.0078, -0.011, -0.0095, -0.0078, -0.0095, -0.0095, -0.0095, -0.0095, -0.011, -0.0078, -0.0078, -0.011, -0.011, -0.011, -0.0078, -0.011, -0.011, -0.0078, -0.0095, -0.0095, -0.0095, -0.0078, -0.011, -0.011, -0.0095, -0.0078, -0.0095, -0.011, -0.011, -0.0078, -0.0078, -0.0078, -0.011, -0.0095, -0.0095, -0.0095, -0.0078, -0.011, -0.0095, -0.011, -0.0078, -0.0095, -0.011, -0.011, -0.0078, -0.0078, -0.011, -0.0095, -0.0095, -0.0095, -0.0095, -0.011, -0.0095, -0.0055, -0.0095, -0.0095, -0.0055, -0.0095, -0.011, -0.0078, -0.0078, -0.0078, -0.0095, -0.0055, -0.0095, -0.0095, -0.0095, -0.0078, -0.0095, -0.0095, -0.0095, -0.0095, -0.0078, -0.0095, 0.0, -0.0095, -0.0078, -0.0078, 0.0, -0.0078, -0.0095, -0.0095, -0.0095, -0.0055, -0.0078, -0.0095, -0.0078, -0.0078, -0.0078, -0.0078, -0.0095, -0.0095, -0.0095, -0.0078, -0.0078, -0.0095, -0.0095, -0.0078, -0.0055, -0.0078, -0.0095, -0.0055, -0.0078, -0.0078, -0.0095, -0.0095, -0.0095, -0.0078, -0.0095, -0.0095, -0.0078, -0.0078, -0.0095, -0.0078, -0.0095, -0.0095, -0.0055, -0.0078, -0.0055, -0.0095, -0.0095, -0.0095, -0.0095, -0.0095, -0.0095, -0.0095, -0.0055, -0.0078, -0.0078, -0.0095, -0.0095, -0.0078, -0.0095, -0.0095, -0.0078, -0.0095, -0.0095, -0.0078, -0.0095, -0.0095, -0.0095, -0.0055, -0.0078, -0.0078, -0.0095, -0.0095, -0.0078, -0.0078, -0.0095, -0.0095, -0.0095, -0.0095, -0.0078, -0.0095, -0.0095, -0.0095, -0.0095, -0.0095, -0.0055, -0.0078, -0.0095, -0.0078, -0.0095, -0.0055, -0.0095, -0.0055, -0.0095, -0.0055, -0.0095, -0.0095, -0.0095, -0.0078, -0.0078, -0.0095, -0.0078, -0.0095, -0.0095, -0.0095, -0.0095, -0.0095, -0.0078, -0.0095, -0.0095, -0.0095, -0.0095, -0.0078, -0.0078, 0.0, -0.0078, -0.0078, -0.0078, -0.0055, -0.0055, -0.0055, -0.0078, -0.0055, -0.0055, -0.0055, -0.0078, -0.0078, -0.0078, -0.0055, -0.0078, -0.0078, -0.0078, -0.0078, -0.0078, -0.0055, -0.0078, -0.0055, -0.0078, -0.0055, -0.0055, -0.0055, -0.0078, -0.0078, -0.0078, -0.0078, -0.0055, -0.0078, -0.0078, -0.0055, -0.0078, -0.0055, -0.0078, -0.0055, -0.0078, -0.0055, -0.0078, 0.0, -0.0055, -0.0078, -0.0078, -0.0078, -0.0078, -0.0055, -0.0078, -0.0055, -0.0078, -0.0078, -0.0055, -0.0055, -0.0078, -0.0055, -0.0078, -0.0078, -0.0055, -0.0055, -0.0055, -0.0055, 128.3783, -0.0078, -0.0055, -0.0078, -0.0078, -0.0078, -0.0055, -0.0078, -0.0078, -0.0055, -0.0078, -0.0055, -0.0078, -0.0078, -0.0078, -0.0055, -0.0078, -0.0078, -0.0055, -0.0078, -0.0078, -0.0055, -0.0055, -0.0055, -0.0078, -0.0078, -0.0078, -0.0078, -0.0078, -0.0055, -0.0078, -0.0078, -0.0078, 0.0, -0.0078, -0.0078, -0.0055, -0.0078, -0.0055, 0.0, -0.0078, -0.0078, -0.0055, -0.0078, -0.0055, -0.0078, -0.0078, -0.0078, -0.0078, -0.0078, -0.0078, -0.0078, 0.0, -0.0078, -0.0078, -0.0078, -0.0055, -0.0055, -0.0055, -0.0078, -0.0078, 0.0, -0.0055, -0.0078, -0.0055, -0.0055, -0.0078, -0.0078, -0.0078, -0.0055, -0.0078, 0.0, -0.0078, -0.0078, -0.0078, -0.0078, -0.0078, -0.0078, -0.0055, -0.0055, -0.0078, -0.0055, -0.0055, -0.0078, -0.0078, -0.0078, -0.0078, -0.0078, -0.0055, -0.0078, -0.0055, -0.0078, -0.0078, -0.0055, -0.0078, -0.0078, -0.0078, -0.0078, -0.0055, -0.0055, -0.0078, -0.0055, -0.0055, -0.0055, -0.0055, -0.0055, -0.0055, -0.0055, -0.0055, -0.0055, -0.0055, -0.0055, -0.0055, 0.0, -0.0055, 0.0, -0.0055, -0.0055, -0.0055, -0.0055, -0.0055, -0.0055, 0.0, -0.0055, -0.0055, -0.0055, -0.0055, -0.0055, -0.0055, -0.0055, -0.0055, -0.0055, -0.0055, -0.0055, -0.0055, 0.0, 0.0, -0.0055, -0.0055, -0.0055, 0.0, -0.0055, -0.0055, -0.0055, -0.0055, -0.0055, -0.0055, -0.0055, -0.0055, -0.0055, -0.0055, -0.0055, -0.0055, -0.0055, -0.0055, 0.0, -0.0055, -0.0055, -0.0055, -0.0055, 0.0, -0.0055, -0.0055, 0.0, -0.0055, -0.0055, -0.0055, -0.0055, -0.0055, -0.0055, 0.0, -0.0055, -0.0055, -0.0055, -0.0055, -0.0055, -0.0055, -0.0055, -0.0055, -0.0055, 0.0, -0.0055, -0.0055, -0.0055, -0.0055, 0.0, 0.0, -0.0055, -0.0055, -0.0055, -0.0055, -0.0055, -0.0055, -0.0055, 0.0, -0.0055, 0.0, -0.0055, -0.0055, -0.0055, -0.0055, -0.0055, -0.0055, -0.0055, -0.0055, -0.0055, -0.0055, -0.0055, -0.0055, -0.0055, -0.0055, -0.0055, -0.0055, -0.0055, -0.0055, 0.0, -0.0055, -0.0055, -0.0055, -0.0055, -0.0055, -0.0055, 0.0, -0.0055, -0.0055, 0.0, -0.0055, -0.0055, 0.0, -0.0055, -0.0055, -0.0055, -0.0055, -0.0055, -0.0055, 0.0, 0.0, -0.0055, -0.0055, 0.0, 0.0, -0.0055, -0.0055, -0.0055, -0.0055, 0.0, -0.0055, -0.0055, -0.0055, -0.0055, -0.0055, -0.0055, -0.0055, -0.0055, 0.0, -0.0055, -0.0055, -0.0055, -0.0055, 0.0, -0.0055, -0.0055, -0.0055, -0.0055, 0.0, -0.0055, -0.0055, -0.0055, -0.0055, -0.0055, -0.0055, -0.0055, -0.0055, 0.0, -0.0055, -0.0055, -0.0055, -0.0055, -0.0055, -0.0055, -0.0055, -0.0055, -0.0055, -0.0055, -0.0055, -0.0055, -0.0055, -0.0055, 0.0, -0.0055, -0.0055, -0.0055, -0.0055, -0.0055, -0.0055, -0.0055, -0.0055, -0.0055, -0.0055, -0.0055, -0.0055, 0.0, 0.0, -0.0055, -0.0055, -0.0055, -0.0055, -0.0055, -0.0055, -0.0055, -0.0055, -0.0055, 0.0, -0.0055, -0.0055, -0.0055, -0.0055, -0.0055, 0.0, 0.0, -0.0055, -0.0055, -0.0055, 0.0, -0.0055, -0.0055, -0.0055, 0.0, -0.0055, -0.0055, -0.0055, -0.0055, -0.0055, -0.0055, 0.0, -0.0055, 0.0, -0.0055, -0.0055, -0.0055, 0.0, 0.0, -0.0055, -0.0055, -0.0055, -0.0055, -0.0055, -0.0055, -0.0055, -0.0055, -0.0055, -0.0055, 0.0, 0.0, 0.0, -0.0055, -0.0055, -0.0055, -0.0055, -0.0055, -0.0055, -0.0055, -0.0055, -0.0055, -0.0055, -0.0055, -0.0055, -0.0055, -0.0055, -0.0055, 0.0, -0.0055, -0.0055, -0.0055, -0.0055, -0.0055, 0.0, 2.7713, 2.7724, -0.1951, -0.0146]), price=55500000.0)]"
      ]
     },
     "execution_count": 88,
     "metadata": {},
     "output_type": "execute_result"
    }
   ],
   "source": [
    "# first row values of Xcols_sscaled\n",
    "train_model_2_data.take(1)"
   ]
  },
  {
   "cell_type": "code",
   "execution_count": 89,
   "metadata": {},
   "outputs": [],
   "source": [
    "train_model_2_pred_results=regressor.evaluate(train_model_2_data)"
   ]
  },
  {
   "cell_type": "code",
   "execution_count": 90,
   "metadata": {},
   "outputs": [],
   "source": [
    "test_model_2_pred_results=regressor.evaluate(test_model_2_data)"
   ]
  },
  {
   "cell_type": "code",
   "execution_count": 91,
   "metadata": {},
   "outputs": [
    {
     "data": {
      "text/plain": [
       "(2221322.827428985, 52428915593266.57, 0.7032931558744693)"
      ]
     },
     "execution_count": 91,
     "metadata": {},
     "output_type": "execute_result"
    }
   ],
   "source": [
    "train_model_2_pred_results.meanAbsoluteError, train_model_2_pred_results.meanSquaredError, train_model_2_pred_results.r2"
   ]
  },
  {
   "cell_type": "code",
   "execution_count": 92,
   "metadata": {},
   "outputs": [
    {
     "data": {
      "text/plain": [
       "(2655175.313166682, 66666688455377.32, 0.6220143090231567)"
      ]
     },
     "execution_count": 92,
     "metadata": {},
     "output_type": "execute_result"
    }
   ],
   "source": [
    "test_model_2_pred_results.meanAbsoluteError, test_model_2_pred_results.meanSquaredError, test_model_2_pred_results.r2"
   ]
  },
  {
   "cell_type": "code",
   "execution_count": 93,
   "metadata": {},
   "outputs": [
    {
     "name": "stdout",
     "output_type": "stream",
     "text": [
      "+--------------------+---------+\n",
      "|       Xcols_sscaled|    price|\n",
      "+--------------------+---------+\n",
      "|[-1.8979329793434...|2700000.0|\n",
      "|[-1.4119436122098...|5026130.0|\n",
      "+--------------------+---------+\n",
      "\n"
     ]
    }
   ],
   "source": [
    "pyspark_two_rows = test_model_2_data.limit(2)\n",
    "pyspark_two_rows.show()"
   ]
  },
  {
   "cell_type": "code",
   "execution_count": 94,
   "metadata": {},
   "outputs": [
    {
     "name": "stdout",
     "output_type": "stream",
     "text": [
      "+--------------------+---------+------------------+\n",
      "|       Xcols_sscaled|    price|        prediction|\n",
      "+--------------------+---------+------------------+\n",
      "|[-1.8979329793434...|2700000.0|-3414677.948186311|\n",
      "|[-1.4119436122098...|5026130.0| 4100366.021871125|\n",
      "+--------------------+---------+------------------+\n",
      "\n"
     ]
    }
   ],
   "source": [
    "regressor.evaluate(pyspark_two_rows).predictions.show()"
   ]
  },
  {
   "cell_type": "code",
   "execution_count": 95,
   "metadata": {},
   "outputs": [
    {
     "data": {
      "text/plain": [
       "DataFrame[Xcols_sscaled: vector, price: double]"
      ]
     },
     "execution_count": 95,
     "metadata": {},
     "output_type": "execute_result"
    }
   ],
   "source": [
    "pyspark_two_rows"
   ]
  },
  {
   "cell_type": "code",
   "execution_count": 96,
   "metadata": {},
   "outputs": [
    {
     "data": {
      "text/html": [
       "<table border='1'>\n",
       "<tr><th>Xcols_sscaled</th><th>price</th></tr>\n",
       "<tr><td>[-1.8979329793434...</td><td>2700000.0</td></tr>\n",
       "<tr><td>[-1.4119436122098...</td><td>5026130.0</td></tr>\n",
       "</table>\n"
      ],
      "text/plain": [
       "DataFrame[Xcols_sscaled: vector, price: double]"
      ]
     },
     "execution_count": 96,
     "metadata": {},
     "output_type": "execute_result"
    }
   ],
   "source": [
    "spark.conf.set(\"spark.sql.repl.eagerEval.enabled\",True)\n",
    "pyspark_two_rows"
   ]
  },
  {
   "cell_type": "code",
   "execution_count": 97,
   "metadata": {},
   "outputs": [
    {
     "data": {
      "text/plain": [
       "DataFrame[Xcols_sscaled: vector, price: double]"
      ]
     },
     "execution_count": 97,
     "metadata": {},
     "output_type": "execute_result"
    }
   ],
   "source": [
    "spark.conf.set(\"spark.sql.repl.eagerEval.enabled\",False)\n",
    "pyspark_two_rows"
   ]
  },
  {
   "cell_type": "markdown",
   "metadata": {},
   "source": [
    "### Model 3"
   ]
  },
  {
   "cell_type": "code",
   "execution_count": 98,
   "metadata": {},
   "outputs": [],
   "source": [
    "train_model_3 = train_model_2\n",
    "test_model_3 = test_model_2"
   ]
  },
  {
   "cell_type": "code",
   "execution_count": 99,
   "metadata": {},
   "outputs": [
    {
     "name": "stdout",
     "output_type": "stream",
     "text": [
      "+--------------------+--------------------+--------------------+-------------------+----------------------+---------------------+-------------------+----------------------------+--------------------+-----------------------+-------------------+--------------------+--------------------+-------------------+--------------------+------------------+------------------+-------------------+-------------------+\n",
      "|            latitude|             premium|           longitude| floor_level_bucket|bathroom_number_bucket|bedroom_number_bucket|  built_year_bucket|sqrt_winsorized_living_space|         state_index|sub_property_type_index|property_type_index|          city_index| listing_label_index|       tenure_index|       address_index|  highcorrelations|     homepredictor|           property|    flat_conditions|\n",
      "+--------------------+--------------------+--------------------+-------------------+----------------------+---------------------+-------------------+----------------------------+--------------------+-----------------------+-------------------+--------------------+--------------------+-------------------+--------------------+------------------+------------------+-------------------+-------------------+\n",
      "|-0.02482323839359...|0.003120937374019...|0.001169072713714...|0.19607599654867505|    0.5270093259717237|  0.43460496756410805|0.05166834194845279|         0.49182611139393495|-0.05042316468890...|   0.019695106718411695|0.05692964574265111|-0.05055724075503...|0.005406403203043062|0.13205145733040424|0.046561349324950006|0.5341531976229278|0.5336189254527829|0.11188102727332838|0.35934843024691804|\n",
      "+--------------------+--------------------+--------------------+-------------------+----------------------+---------------------+-------------------+----------------------------+--------------------+-----------------------+-------------------+--------------------+--------------------+-------------------+--------------------+------------------+------------------+-------------------+-------------------+\n",
      "\n"
     ]
    }
   ],
   "source": [
    "from pyspark.sql import SparkSession\n",
    "from pyspark.sql.functions import corr\n",
    "\n",
    "# Assuming 'train_model_2' is your DataFrame\n",
    "correlation_train_model_3 = train_model_3.select(\n",
    "    [corr(col_name, 'price').alias(col_name) \n",
    "     for col_name, col_type in train_model_3.dtypes \n",
    "     if col_type in ['double', 'float', 'int'] and col_name != 'price']\n",
    ")\n",
    "\n",
    "# Show the correlation values\n",
    "correlation_train_model_3.show()"
   ]
  },
  {
   "cell_type": "code",
   "execution_count": 100,
   "metadata": {},
   "outputs": [],
   "source": [
    "columns_to_drop = ['state_index','state_vec','sub_property_type_index','sub_property_type_vec','property_type_index','property_type_vec','city_index','city_vec','listing_label_index','listing_label_vec','tenure_index','tenure_vec',\"property\"]\n",
    "\n",
    "# Drop the specified columns\n",
    "train_model_3 = train_model_3.drop(*columns_to_drop)\n",
    "test_model_3 = test_model_3.drop(*columns_to_drop)"
   ]
  },
  {
   "cell_type": "code",
   "execution_count": 101,
   "metadata": {},
   "outputs": [],
   "source": [
    "# from pyspark.ml.feature import PCA, VectorAssembler\n",
    "# from pyspark.ml.linalg import Vectors\n",
    "# from pyspark.sql import SparkSession\n",
    "\n",
    "# # Select the columns you want for PCA\n",
    "# feature_columns = [col for col in train_model_3.columns if col != 'price']\n",
    "# assembler = VectorAssembler(\n",
    "#     inputCols=feature_columns,\n",
    "#     outputCol=\"features\"\n",
    "# )\n",
    "# # Apply PCA\n",
    "# # assembler = VectorAssembler(inputCols=selected_columns, outputCol=\"features\")\n",
    "# train_model_3 = assembler.transform(train_model_3)\n",
    "\n",
    "# pca = PCA(k=2, inputCol=\"features\", outputCol=\"pca_features\")\n",
    "# model = pca.fit(train_model_3)\n",
    "# train_model_3 = model.transform(train_model_3)\n"
   ]
  },
  {
   "cell_type": "code",
   "execution_count": 102,
   "metadata": {},
   "outputs": [],
   "source": [
    "# # Select the columns you want for PCA\n",
    "# feature_columns = [col for col in test_model_3.columns if col != 'price']\n",
    "# assembler = VectorAssembler(\n",
    "#     inputCols=feature_columns,\n",
    "#     outputCol=\"features\"\n",
    "# )\n",
    "# # Apply PCA\n",
    "# # assembler = VectorAssembler(inputCols=selected_columns, outputCol=\"features\")\n",
    "# test_model_3 = assembler.transform(test_model_3)\n",
    "\n",
    "# pca = PCA(k=2, inputCol=\"features\", outputCol=\"pca_features\")\n",
    "# model = pca.fit(test_model_3)\n",
    "# test_model_3 = model.transform(test_model_3)"
   ]
  },
  {
   "cell_type": "code",
   "execution_count": 103,
   "metadata": {},
   "outputs": [
    {
     "name": "stdout",
     "output_type": "stream",
     "text": [
      "Dimension of the train is: (32965, 14)\n",
      "Number of Rows are: 32965\n",
      "Number of Columns are: 14\n",
      "\n",
      "Dimension of the test is: (8343, 14)\n",
      "Number of Rows are: 8343\n",
      "Number of Columns are: 14\n",
      "\n"
     ]
    }
   ],
   "source": [
    "# extracting number of rows from the Dataframe\n",
    "row = train_model_3.count()\n",
    "\n",
    "# extracting number of columns from the Dataframe\n",
    "col = len(train_model_3.columns)\n",
    "\n",
    "# printing\n",
    "print(f'Dimension of the train is: {(row,col)}')\n",
    "print(f'Number of Rows are: {row}')\n",
    "print(f'Number of Columns are: {col}\\n')\n",
    "\n",
    "# extracting number of rows from the Dataframe\n",
    "row = test_model_3.count()\n",
    "\n",
    "# extracting number of columns from the Dataframe\n",
    "col = len(test_model_3.columns)\n",
    "\n",
    "# printing\n",
    "print(f'Dimension of the test is: {(row,col)}')\n",
    "print(f'Number of Rows are: {row}')\n",
    "print(f'Number of Columns are: {col}\\n')"
   ]
  },
  {
   "cell_type": "code",
   "execution_count": 104,
   "metadata": {},
   "outputs": [],
   "source": [
    "from pyspark.ml.feature import VectorAssembler\n",
    "feature_columns = [col for col in train_model_3.columns if col != 'price']\n",
    "featureassembler=VectorAssembler(inputCols=feature_columns,outputCol=\"Xcols\")"
   ]
  },
  {
   "cell_type": "code",
   "execution_count": 105,
   "metadata": {},
   "outputs": [],
   "source": [
    "train_model_3_vectored = featureassembler.transform(train_model_3)"
   ]
  },
  {
   "cell_type": "code",
   "execution_count": 106,
   "metadata": {},
   "outputs": [],
   "source": [
    "test_model_3_vectored = featureassembler.transform(test_model_3)"
   ]
  },
  {
   "cell_type": "code",
   "execution_count": 107,
   "metadata": {},
   "outputs": [],
   "source": [
    "from pyspark.ml.feature import StandardScaler\n",
    "\n",
    "sScaler = StandardScaler(withMean=True, withStd=True, inputCol=\"Xcols\", outputCol=\"Xcols_sscaled\")"
   ]
  },
  {
   "cell_type": "code",
   "execution_count": 108,
   "metadata": {},
   "outputs": [],
   "source": [
    "train_model_3_sscaled = sScaler.fit(train_model_3_vectored).transform(train_model_3_vectored)\n",
    "\n",
    "test_model_3_sscaled = sScaler.fit(test_model_3_vectored).transform(test_model_3_vectored)"
   ]
  },
  {
   "cell_type": "code",
   "execution_count": 109,
   "metadata": {},
   "outputs": [
    {
     "name": "stdout",
     "output_type": "stream",
     "text": [
      "+---------+-------+----------+---------+------------------+----------------------+---------------------+-----------------+----------------------------+-------------+-------------------+------------------+------------------+---------------+--------------------+--------------------+\n",
      "| latitude|premium| longitude|    price|floor_level_bucket|bathroom_number_bucket|bedroom_number_bucket|built_year_bucket|sqrt_winsorized_living_space|address_index|        address_vec|  highcorrelations|     homepredictor|flat_conditions|               Xcols|       Xcols_sscaled|\n",
      "+---------+-------+----------+---------+------------------+----------------------+---------------------+-----------------+----------------------------+-------------+-------------------+------------------+------------------+---------------+--------------------+--------------------+\n",
      "| 6.250554|      0|102.044653|   5.55E7|               5.0|                   2.0|                  1.0|              8.0|          11.180339887498949|       1306.0|(1683,[1306],[1.0])| 8.068366544874484| 8.068366544874484|              0|(1695,[0,2,3,4,5,...|[-13.451591573564...|\n",
      "|12.619622|      0| 99.951243|2290000.0|               0.0|                   0.0|                  0.0|              7.0|           5.744562646538029|       1083.0|(1683,[1083],[1.0])| 2.814835696803634| 2.814835696803634|              0|(1695,[0,2,6,7,8,...|[-2.0344013779566...|\n",
      "|12.874982|      0|100.887046|6090000.0|               3.0|                   0.0|                  0.0|              7.0|           7.416198487095663|        615.0| (1683,[615],[1.0])| 4.233937258676875| 4.233937258676875|              0|(1695,[0,2,3,6,7,...|[-1.5766430861075...|\n",
      "|12.921459|      0|100.882059|4800000.0|               3.0|                   0.0|                  0.0|              8.0|           6.481512169239521|        868.0| (1683,[868],[1.0])|3.7759409629273653|3.7759409629273653|              0|(1695,[0,2,3,6,7,...|[-1.4933284239433...|\n",
      "|12.935937|      0|100.897023|3200000.0|               0.0|                   0.0|                  0.0|              7.0|            6.48074069840786|        672.0| (1683,[672],[1.0])|3.1755629422198517|3.1755629422198517|              0|(1695,[0,2,6,7,8,...|[-1.4673751636465...|\n",
      "+---------+-------+----------+---------+------------------+----------------------+---------------------+-----------------+----------------------------+-------------+-------------------+------------------+------------------+---------------+--------------------+--------------------+\n",
      "only showing top 5 rows\n",
      "\n"
     ]
    }
   ],
   "source": [
    "train_model_3_sscaled.show(5)"
   ]
  },
  {
   "cell_type": "code",
   "execution_count": 110,
   "metadata": {},
   "outputs": [
    {
     "name": "stdout",
     "output_type": "stream",
     "text": [
      "+--------------------+---------+\n",
      "|       Xcols_sscaled|    price|\n",
      "+--------------------+---------+\n",
      "|[-13.451591573564...|   5.55E7|\n",
      "|[-2.0344013779566...|2290000.0|\n",
      "|[-1.5766430861075...|6090000.0|\n",
      "|[-1.4933284239433...|4800000.0|\n",
      "|[-1.4673751636465...|3200000.0|\n",
      "+--------------------+---------+\n",
      "only showing top 5 rows\n",
      "\n"
     ]
    }
   ],
   "source": [
    "train_model_3_data = train_model_3_sscaled.select(\"Xcols_sscaled\",\"price\")\n",
    "train_model_3_data.show(5)"
   ]
  },
  {
   "cell_type": "code",
   "execution_count": 111,
   "metadata": {},
   "outputs": [
    {
     "name": "stdout",
     "output_type": "stream",
     "text": [
      "+--------------------+---------+\n",
      "|       Xcols_sscaled|    price|\n",
      "+--------------------+---------+\n",
      "|[-1.8979329793434...|2700000.0|\n",
      "|[-1.4119436122098...|5026130.0|\n",
      "|[-0.2673728028957...|1600000.0|\n",
      "|[-0.1912066629079...|3465000.0|\n",
      "|[-0.1676551891984...|1550000.0|\n",
      "+--------------------+---------+\n",
      "only showing top 5 rows\n",
      "\n"
     ]
    }
   ],
   "source": [
    "test_model_3_data = test_model_3_sscaled.select(\"Xcols_sscaled\",\"price\")\n",
    "test_model_3_data.show(5)"
   ]
  },
  {
   "cell_type": "code",
   "execution_count": 112,
   "metadata": {},
   "outputs": [],
   "source": [
    "from pyspark.ml.regression import LinearRegression\n",
    "\n",
    "regressor=LinearRegression(featuresCol=\"Xcols_sscaled\", labelCol='price')\n",
    "regressor=regressor.fit(train_model_3_data)"
   ]
  },
  {
   "cell_type": "code",
   "execution_count": 113,
   "metadata": {},
   "outputs": [
    {
     "data": {
      "text/plain": [
       "pyspark.ml.regression.LinearRegressionModel"
      ]
     },
     "execution_count": 113,
     "metadata": {},
     "output_type": "execute_result"
    }
   ],
   "source": [
    "type(regressor)"
   ]
  },
  {
   "cell_type": "code",
   "execution_count": 114,
   "metadata": {},
   "outputs": [
    {
     "data": {
      "text/plain": [
       "DenseVector([33482.204, -117619.9096, -237874.2419, -55450.3919, 5834492.7954, -375580.0352, 115902.4477, -260407.3573, -1988112.7034, -464000.782, -284962.8678, -123509.9084, -269005.2933, -160830.7874, -157524.8797, 1574454.7417, -136760.4627, -99497.8909, 14425.8411, -157104.008, -147080.857, -176320.932, -226107.2444, -191508.9879, -187220.2211, -101448.8029, -175888.3045, -111606.9143, -56665.1914, -175086.2551, -88198.1368, -141429.6703, 620021.8089, -56231.9034, 80319.549, -109042.7914, -95238.1433, 200675.4661, -3012.3279, -30975.3626, 114884.9879, 151355.6153, -264679.3277, -121018.5751, -97813.0382, -142519.5688, -140201.3646, -10395.2361, -123817.3707, -174604.5425, -213040.0013, 505902.4974, -152387.7073, 58633.9866, 856.5091, 618685.6598, -178049.3998, 12382.5053, -130924.2018, 58022.1057, -54193.4084, -23824.819, 56087.8369, -5471.8219, -65524.3735, 142277.8712, -132796.9755, 79148.6541, -124485.3494, -102811.7657, -63818.8188, 129253.1348, -49721.9357, 135116.9836, -57149.5418, -101615.2493, -112260.7241, -38212.6982, -32612.8556, -73344.7909, 136876.1349, -103470.3472, -157734.0249, -6772.5136, -44023.6879, -30029.1367, -145119.541, -132296.6239, -38438.6067, -6915.5913, -24133.2951, -113807.3574, 116706.0211, -42320.2048, -36822.613, 176894.2943, 96639.9282, 170715.2846, 90231.2203, -116474.2523, 283957.8888, 110207.2518, -29504.3473, 2567.9258, -142850.0951, -103545.662, -81175.4742, -27923.7145, -63120.2024, -95152.5243, -3182.4936, -65226.7365, -78786.3344, -56431.5634, 1703.4967, -87652.6416, -70565.0487, -70114.8443, -17430.9953, -10950.6034, 40744.6312, -72967.6559, -74652.2321, -56940.6045, -76525.8916, -119320.4456, -97830.1262, -58964.5577, 101899.1788, -116802.8672, -72569.7856, -146333.3738, 364804.8293, 292803.9002, -110337.3033, 26722.0523, -16339.2106, -160237.2757, -89850.6889, -43676.0356, 906180.3975, 393508.7654, 100323.0794, -134285.8534, -67348.1666, -68906.3604, 220396.347, 971124.5806, -30499.1905, -58814.829, 256451.8188, 45212.5717, 3220158.8154, -6141.3926, -48095.2349, -64597.3995, 3365.3287, -648851.0802, -22462.2209, -56658.583, 80539.9157, -45386.1311, -45559.0209, -18031.1503, -57056.737, 54158.7553, -51224.1651, 39030.1214, -54725.6103, -72625.9184, -23671.2397, -63730.6825, 232852.6578, -17738.6719, -67582.8634, -206544.1567, 177087.2494, -41544.9105, -23362.5619, -47300.9428, 329683.0608, 220371.6858, -12224.2725, -62609.8693, 74872.0098, 642983.0041, -121813.8406, -87927.2832, 141263.1437, -53418.0031, 123197.5728, -16656.4, 65483.6428, -54773.3885, -96989.4722, 14834.9685, 26105.0878, -20721.5842, -38503.1076, 83369.4815, -26669.7263, -38869.5928, -39481.5459, -48962.8946, -19015.0132, 249331.0844, -49847.3041, -24647.1437, -43684.8724, 28718.7019, 115296.809, 138972.5206, 476101.1824, -91117.3558, -36457.7704, -101546.8557, -29936.6535, 29549.56, 1452.1019, 10705.2995, -6783.7811, -44153.74, 167339.9678, 80088.306, 54775.5296, -3235.121, 13530.7959, -579349.097, -46304.3963, 12701.7224, 27265.6057, 43342.5185, 14644.293, -23993.1647, -50656.5385, -2508.353, -2448.2647, -28763.7006, 19202.2114, -106514.6827, 225829.34, 69727.4991, 97024.9931, -29241.7645, -54325.5624, -43884.3978, 23036.4369, -42432.9169, 66120.1371, -66131.7213, 181485.0633, -47132.1827, 5663.0201, -13446.7627, 48583.496, -19772.5444, 375822.0271, 105024.8137, 25963.3626, 12491.8715, -84469.7927, -26439.8279, -26810.936, -47847.9538, -18900.7251, -6684.3165, 724799.6681, -90926.0705, 16802.0978, -30657.9311, 254337.0555, 364465.4848, -35118.1589, -51386.0782, 50732.2072, -32420.7787, -28820.0752, 11593.7533, -6459.2553, 13581.4684, -101700.136, -29433.9067, 18585.8285, 13464.4315, -25684.0372, 52878.4325, -28540.5157, 38009.8555, 388028.1099, -89990.9811, 471537.492, -40379.9308, -30299.1446, 105950.9151, 156917.9425, -339383.7365, 7345.7291, -59461.6638, 28598.6112, -15226.8096, -17930.3439, 26549.3602, -27728.4254, -49333.4697, -9448.873, 413403.9155, 2634.7641, -23981.9509, -75743.0331, -43619.1716, 5169.4059, 13346.3963, -9681.144, -29172.1058, 21769.3843, -8612.288, 5791.688, -44723.2336, 13390.4619, -30248.2777, -86186.4175, -21357.6597, 211657.5178, 4987.5502, 366672.3815, 68360.8934, 585168.8746, -44097.7322, 36194.6717, -5837.7875, 36457.1706, -33812.3249, -43643.2939, 7449.7358, -9424.2378, -21053.0135, -11771.0911, -67172.632, -8152.7401, 14472.6059, 575197.5944, 66595.9466, -27717.3907, 1018.7728, 44268.2996, 2390511.7541, -26290.4255, 25188.3753, 20774.5636, -23604.7291, 109049.627, -64701.7368, 88188.9058, 1270.6456, -28950.1949, -29148.2623, -14767.7797, -100690.9994, -9737.6983, 90837.5351, 63771.6116, 13039.5827, 47557.6954, 8895.6116, 231587.5969, -17026.9554, -9551.5848, 1667.602, 8709.8525, 80610.0159, -94829.3529, 4110.078, 460482.6975, -7018.8548, 21205.7243, 24098.8099, 620.7628, -8472.0871, 5220.6795, 16237.944, 53414.5842, 16089.8579, 24446.9703, 1359765.2355, 33313.2839, -251.025, 25131.1567, -5752.5673, 42846.5286, 70105.1231, 11661.892, -6551.8822, 16965.1935, 17767.677, 1075971.83, 4832.6374, -20012.4527, -96840.2333, 15885.7085, 6146.5697, -7201.8283, -65001.2149, 24028.2518, -3790.6095, 20282.8475, 25069.2897, 2075852.8523, 143779.4151, -14727.6626, 12220.9007, 102724.6012, 71750.2104, 14136.6354, 86657.3825, -29247.9878, 16402.6413, 148121.0383, 785991.39, 5321.4475, 2056.8828, 171682.9689, -33310.4192, 29808.1215, 48633.0393, 21987.5738, 35984.7179, 58319.6519, 18677.0552, 37414.1842, -63251.5778, 47211.7114, -18453.6572, 70491.9817, 30999.0131, -3429.29, 3104.4285, 55680.7777, 178867.4703, 1486.4188, 40626.1939, 16550.8475, 30239.5045, 45535.2071, 92802.2894, -56054.784, 709947.3994, 19001.2599, -417907.5769, -435899.4438, 288.8798, 102918.4924, 21910.1831, -21714.4571, -20389.6411, 44550.0827, 1896.7702, 5071.7331, -1837.5245, 441.3765, 59738.0152, 23145.2931, 20454.7865, 11495.7811, -455.397, 2196.9874, 14654.6436, 48920.8172, 24494.2431, 20029.5337, 104557.2207, 26738.2895, 51421.7822, -203.2786, 8941.4816, 77892.5007, 118024.3722, 50663.5171, -8387.1901, 84493.5781, 1455.6688, 17886.7324, 101890.8332, 35334.7507, 96074.4522, 30807.9936, -3106.4735, 35859.3609, 3235.807, 40357.89, 47466.4005, -40888.9003, 32717.3026, 34283.5209, -29964.2359, 33819.8649, 7223.6321, 17322.0965, -230927.0728, 12169.0103, -10224.1557, 1771455.1304, 61141.9725, 16154.6891, -347995.369, 73509.4879, -309834.6409, -314914.1471, 16354.8924, 20545.6979, 33417.4635, 14557.647, 22739.2484, 57269.0634, 215154.5593, 24493.1315, 32811.8106, 137573.5324, 6903.0589, 61656.4161, 166374.1822, 347674.8639, 44862.0452, -131748.0161, 81270.4943, 30891.9372, -12496.837, 29422.7781, 27803.438, 28216.4583, 915550.3005, 7287.8705, 79896.9298, 14470.8155, 84844.3351, 40404.3668, -44820.2917, 37474.928, 55668.7579, 72151.4873, 51497.857, -22223.2391, 60444.3714, 85304.8039, -37545.5478, 26134.5155, 12780.0266, 105172.6987, 26925.8146, 30346.9166, -2143.5969, 62878.1316, 49765.6422, 168370.2391, -235252.0616, 157339.8901, 22464.2305, 61501.1411, 88343.3032, 27077.1136, 30861.3788, 20376.8922, 28521.726, -43422.3501, 25399.8561, -88810.2912, 128847.7384, 490906.7094, 85711.7771, 221574.5471, 44894.5743, 56743.2405, 24077.9323, 36144.6008, 35208.2169, -10851.1973, 55247.2363, 19485.0513, 22272.5458, 20774.9671, 25190.1682, 33094.8582, 60966.2281, -116186.058, 54033.4607, -348758.1053, 34648.3046, 24398.0117, 32453.1408, 38992.5995, 33752.3131, 11666.2205, -54263.6248, 125630.8126, 176372.4405, 103359.9415, 62652.6772, 11973.9345, 31621.4179, 25626.4974, 135113.0115, -29346.6436, 97071.9173, 101669.6251, 29278.9101, 182402.0928, 52521.0146, 43286.8254, 200546.4166, 126359.3106, 68294.4684, -39774.02, 81146.8329, -33729.0655, 16343.8163, 43475.5795, 100160.2463, 42547.2838, 64957.8795, 25587.9891, 84740.2476, 631556.2237, -133757.8368, -211765.3171, 35622.4061, 86123.9036, 14873.3426, 22301.3882, 35098.3312, 31555.4269, -16037.8356, 83494.2608, 29507.5885, 52487.6, 97756.654, -14238.6365, 69142.0507, 42667.9565, 20101.0278, -42206.5422, 56138.4987, -25945.3836, -165304.0938, -163291.276, -126181.0684, 68107.3004, -14701.9253, 3704.2355, -333996.52, 29503.3239, -47051.1808, 39641.3092, 33053.0401, 73642.6323, 159355.0923, -132000.8355, 24762.6286, 82751.2525, 44338.0196, 45765.1967, 79278.0804, 46535.9115, 25844.8132, 36861.835, 45111.5767, -6874.0647, 35585.1979, 9605.2168, -180279.8625, 6508.4597, 54328.2948, 593.3247, 26634.1442, 24090.623, 221023.2166, 80952.8173, -225456.6764, 46055.2121, 34492.399, 70985.9426, 35535.9109, 53127.5392, 37397.8687, -102719.653, 887.0562, 34806.4836, -30979.3536, 33895.4981, 42005.7794, 1102.2961, 26126.9742, 127392.2386, 67827.786, 37970.4864, 6870.023, 48619.0652, 81900.5688, 71909.6057, 12466.7733, 103528.5358, 85013.8256, 150328.4891, 81420.2388, 44309.4859, 33497.4853, 36789.8201, 86414.776, -6498.3015, -159015.7331, 5599.8231, -245528.8393, -186954.4972, 43962.5603, -245738.9072, 687.5762, 58469.7867, 30685.2792, -150670.5304, 80218.0276, -251254.5492, 35946.6522, -215832.8566, 65734.6074, 350431.6505, -252864.4314, 50720.3482, 128989.9799, 76635.7753, 37088.7565, 91763.5795, 60722.5962, 40475.9576, 29507.8807, 53434.3864, 17496.5132, 855.2927, -174676.608, 33209.445, 173876.9747, 21531.4496, 89154.3443, 32969.5658, 78349.6323, 114865.067, 82039.8761, 27057.8894, 44799.4371, 265481.4594, 25071.9934, 56985.0702, -272491.1887, 37636.0226, 9015.1065, 67024.7763, 82842.0136, -93769.2707, 60384.4811, -142514.8093, -257182.1828, -301119.5073, -102975.2486, -34801.2042, 52310.4284, 112551.8078, 105538.3871, -115918.4939, 13322.475, 42724.5746, -20445.3778, 45129.3252, 6.2066, 14989.1753, -5265.6252, 80130.2789, 46976.9209, 86523.2155, 38266.0003, 95645.299, 45189.9353, 64345.5669, 79335.1866, 54968.0859, 48978.9348, 81473.1059, 112943.6931, 109172.7246, 33246.7121, 42150.5182, -14724.1256, 81113.1117, 50506.8395, 47060.7855, 51226.8681, 63613.327, 283653.4634, 9302.261, -367371.7171, -122986.7405, -8231.5235, 24130.6306, -33986.0312, 48420.9649, -257665.7133, -118071.6333, -77710.5025, -213266.9118, -111736.5616, 36072.2221, -19650.7441, 55138.0659, -93754.5313, 40732.7384, 54898.7473, 77098.9452, -22500.2601, 45584.9427, 47630.7623, 62684.1784, 48594.6973, 49655.9722, -3742.0131, 130971.6218, 64221.2551, -104806.546, -8580.2638, 38373.7372, 1278912.2258, 68386.3861, 30508.5886, 52770.2495, 44911.8637, 16873.2566, 77844.5174, 103864.196, 39539.0022, 112287.8595, 36685.9559, -148151.3835, -185015.8729, 104366.8801, 50219.1889, -10729.3819, -234922.6032, 69325.1501, 55390.6014, 43359.7027, 31306.1225, -7376.3542, 39846.2219, 57815.1519, 28199.8205, 49117.4289, -224457.568, 70925.2619, 371204.0982, 33497.6692, 29774.3189, 8268.6285, 99926.6556, 45563.8449, 114496.9647, 102943.8334, 6835.9292, 47627.9445, 36777.5107, -34647.9005, 58894.7492, 2857.2416, 24656.4906, 40295.7299, 32903.1365, 52444.1397, 48988.7638, 45484.3873, 40893.8444, 79214.7591, 43424.4172, 35770.23, 80243.4237, -15956.4436, 25195.0973, 95136.5531, 245673.1741, 39165.4344, 66659.9845, 50087.8317, -215946.0379, 29819.4132, -115774.7337, 48623.7568, 22589.2413, 144534.8808, 106198.6296, 32470.7496, 11909.6962, 58979.2541, -147227.2344, 48696.6968, 90645.9244, 46296.8924, 16756.5437, -140774.6169, -204324.7659, -112614.8445, 77295.1182, 27669.8782, 24681.7067, 68876.0327, 187630.484, 15194.6599, 53445.0882, 85468.4359, 40380.9737, 50773.4034, 12669.2596, 61172.1215, 73273.658, -21015.2902, 106568.0032, 47707.371, 40779.7766, -1922.2301, 48270.9936, 37946.5548, 74542.0863, 46085.8409, 13304.9957, 68550.2517, 54603.5114, 45983.3463, 35868.6172, -80419.8423, 66155.4574, 47407.4882, 34471.7261, -68902.8308, -163873.227, -273060.7011, 1058.6666, 47779.7004, 57390.6201, -72507.084, -135777.2232, 22492.3432, 49609.7545, 54661.2987, 51691.3443, -249446.6831, 62045.0271, 57802.5623, 31388.77, 30737.0078, 63593.9026, -161193.9856, -87728.2655, 65094.9254, 131606.8356, -180389.618, 145029.7188, 37873.7657, 85588.0763, -228083.2043, 45509.1022, 256.0454, -53876.9418, 3623.8479, 51545.7878, 3281.5395, 59135.6354, 36693.5901, 177190.1623, 184757.198, 60381.0085, 58954.5686, 56140.8638, 37268.1061, 48216.8621, -87303.3177, 79633.9803, 48137.8283, 289782.0725, 25308.1172, 72146.864, -98455.7506, -126060.8982, 527.7561, 62502.3821, 51856.7108, 46356.7996, 44698.0399, -97213.5192, 49959.7141, 27514.6632, 38980.454, 57772.0931, 36932.0714, 54871.136, 34436.3741, -47994.6623, -72978.2734, 28781.4008, 86008.8741, -51331.834, -113040.6874, -179638.9309, -135606.1123, -132244.737, -241741.258, 56563.4722, -50534.0826, 110052.2463, -34381.8498, -137786.7445, -73836.3165, -121238.8926, -58593.0727, 62851.2143, -150225.5712, 47082.2246, -185741.6534, -147293.9471, -59118.6401, 123797.7882, 131443.6197, -167700.5238, 14339.4058, -142899.491, 68297.28, -127044.6472, 40648.0982, 65323.3868, 30780.7458, 2926.987, 40317.2854, 73995.0709, 47317.2325, 50186.5793, 37156.5497, 45003.8434, 48648.5642, 52384.6776, 16684.7776, 63989.5544, 23884.9692, 42670.2328, 94919.7196, 59028.744, 15784.1685, -19506.1762, 395076.6918, 31008.198, 63556.3549, 70517.2082, 53893.2162, 50328.3614, 50382.6788, 36514.0121, 19723.2393, 54206.7395, 47125.0293, 9197.3977, -62287.3953, -130364.5759, 4044.8618, -76668.2008, 82988.5833, 367802.2403, -53955.8806, 51612.6942, -9146.4372, -86831.3988, -46142.8799, 40127.2182, -24874.0322, 51006.456, 17388.5045, 37574.0046, -83257.8545, -311920.2689, -147022.835, -2105.5382, 53148.7828, 27456.3766, 23926.3528, -66001.6948, 47419.9942, 30757.3265, -31959.7578, -126447.2874, -125961.1497, 33635.1164, -36170.0242, 42421.4309, 24615.3056, 2552.1396, -34150.9269, 31581.7038, -99242.1735, -127908.855, 50964.8511, -82055.2889, -86223.7191, 44712.2331, 66480.2588, -139411.7011, 46871.6165, 3497.1951, -120628.8408, 73847.8369, -72024.4332, 6397.8267, 37974.7876, 55584.8309, -115675.0097, 95425.2014, 77139.6114, 31912.5852, -30616.0274, 48455.7279, 31922.2182, 45551.6628, 49710.133, 30840.0215, 54914.6602, 50884.6142, 44666.7033, 45306.0322, -12569.2835, 63507.0283, 29619.4127, 68086.8316, 71177.4027, 22760.2986, 5254.6357, 46141.6936, 111635.3397, 26154.2871, 43945.86, -100578.9049, 26731.7496, 0.0, 38287.3124, 79627.6739, 23949.2823, 0.0, 20197.3547, 40871.2259, 36612.179, 12478.57, 26222.1059, 63035.8851, 54956.0944, -31131.4395, 9475.76, -97398.9014, 36082.7216, -35989.5259, 65456.8011, -75733.2155, 55399.8883, 58522.8865, -57225.2757, 2389.5502, 54726.3268, -71817.8808, -118553.6752, 44911.5385, 30918.1681, -9671.3387, -21284.3231, 135390.8301, -121066.3545, -12231.2829, 49344.3831, 49644.1946, 23182.6358, 49283.9477, 44294.8148, 19296.4384, -75910.3973, -68088.4489, 52948.999, 33824.7339, -16680.4673, -48277.5543, -109824.253, 61540.2812, 9677.5169, 48359.2513, -57503.6019, 63272.8484, 56289.7837, -24206.458, 1804.1327, -182261.6169, 49410.4339, -44671.2157, 48890.9479, 50170.5499, -52332.6329, 41270.2534, 55945.5866, 290085.7439, 43122.9004, 151174.4921, 50176.5794, 25366.2494, 31561.2669, -32043.2439, -55329.6143, -26511.266, 89595.1244, 89703.5302, 27721.0182, -90006.4716, -83532.4313, 47246.3292, -64692.1148, -79886.5147, -10105.1717, 299224.0513, 57153.7301, -24168.5922, -38188.1034, -68699.166, 3038.1959, 67088.1483, 3260.4224, -37608.091, 31652.4187, -162804.6732, 138038.2886, 35099.7994, 3084.836, 58001.3049, 58728.73, -143485.2523, 42105.1724, -50811.936, 60233.3208, 82036.1078, 56028.7725, 45726.592, 114367.3008, 46458.0403, 54999.7849, 35581.4393, 49610.269, 42967.4007, 83863.6578, 38038.5409, 56124.7911, 88.6822, 0.0, 46389.9602, 46267.1223, 48202.9131, 25627.35, 27690.4245, 38390.1196, 46211.1616, 91236.6118, 33553.2104, 43477.264, -31219.2765, 66243.6588, 52274.3916, 32478.4887, -10934.7592, 33886.3149, 122603.0099, 45245.1603, 49236.7987, -45230.1119, 91074.0332, 31222.3393, 329573.5536, -56660.678, 36915.7435, 29671.3976, 46092.294, -32256.6435, -55426.711, 49077.3626, -105567.9333, 13594.7766, -31533.4866, 32134.3779, 54582.5662, 48004.9192, 68165.4714, 34381.6521, -82933.9142, 114193.9148, 52350.0809, 0.0, 39331.6038, 48845.962, 65873.8289, 42820.4822, -1991.4175, -73580.8734, -67107.0203, -59476.1358, 43649.7127, 42923.0263, -50932.5975, -14924.1845, 307300.6049, -11978.4159, -10566.5203, 58156.9516, 46716.3621, -16961.9424, 34076.668, 32445.4452, 338134.5245, -24092.1494, 14418.3028, 1366386.2776, -20635.7625, -88500.7945, 46539.1073, 916116.6338, 51012.0769, -105536.7339, -81217.482, 30684.5326, -49757.3238, -27705.5052, 4066.869, 35883.5364, 43914.309, 43352.9969, 70897.2296, 44806.7585, -30744.715, -59773.7688, 60510.7335, 34891.0028, -80327.7816, 52024.4868, 50535.7921, -66835.1126, 51486.8509, -13066.049, 16970.0476, -81313.2985, -60644.6125, 0.0, 83464.7932, -82483.1957, -69624.962, 32909.5701, 162710.9299, 0.0, 54606.8775, 3260.5789, 32058.6109, -42353.5112, 41095.0787, 17108.173, 54881.7777, -25047.0903, 52273.2546, 54240.963, -170068.0976, 28777.3665, 0.0, -48552.2806, 43062.5831, -65258.7717, 64677.8293, 41915.9351, 25487.8189, 46220.8482, -98427.4564, 0.0, -65033.238, 52418.8397, -77554.0427, 45483.6739, -22813.7323, -60922.0152, 5995.4165, -18234.0235, -126481.2155, 0.0, -21519.9225, -37329.4589, 54243.1347, -8078.6674, -148122.7847, 60466.3495, 44102.7987, -2611.2825, 29330.0425, -55979.1179, -10465.793, -57731.478, -30800.8443, -8622.0491, 92548.1886, 53156.7267, 35351.578, 98809.7303, 45621.879, 20546.5096, 47551.8719, 57082.5473, -848.5353, 72608.1971, 45104.4006, 51718.1654, -17659.9789, -3669.3777, 51904.8334, 145842.9814, 18584.4209, 38611.2161, 36409.9323, 16488.1385, 17011.2753, 39324.3199, 38684.4573, 40435.4329, 42536.7698, -9586.5622, 55011.0597, 0.0, 44450.4269, 0.0, -75493.7852, 23450.6801, 37671.3895, 38639.6545, 79729.3146, 21317.8002, 0.0, 8646.2046, 34251.3992, 35378.1834, 4073.0448, 48222.6303, 43267.0632, 45454.1725, 52125.5557, 63112.872, 39140.3568, 44758.3726, 38069.614, 0.0, 0.0, 55604.1863, 41504.7467, 38575.5683, 0.0, 142995.7354, 10482.6698, 62969.3214, -43576.8019, 54095.1165, 7384.5185, 62554.0472, 88661.2207, 58006.6688, -8745.8414, 29236.6487, -47027.0325, 67478.9279, 50761.6482, 0.0, 41089.3898, 109190.346, 41418.6346, -8285.4084, 0.0, 36916.6475, 38923.2847, 0.0, 31327.6012, 25462.1871, 34010.9682, 51802.3053, 40453.2448, 21459.6963, 0.0, 50551.7433, -37057.1012, -135435.5981, 90777.3322, 46938.8478, 111845.9233, 8966.3544, -41787.0448, 34688.8659, 0.0, -57796.8504, 46731.2893, 82049.7201, 37264.1796, 0.0, 0.0, 40691.9771, 39474.2839, 120383.768, 39165.0127, -60099.691, 44760.7569, 50586.0409, 0.0, 43611.3635, 0.0, 30121.0184, -37036.4914, 20825.261, 31402.6018, 42960.1234, 42338.766, 39594.867, 28713.6708, 46582.1683, -176912.5504, 29886.5065, -6071.6823, 36978.0947, 36320.2157, 49603.6201, 41332.0384, -69397.971, -43422.8789, 0.0, -14434.966, -10904.3877, 39823.3905, 61954.7014, -62213.651, 220033.3242, 0.0, -16296.4523, 40324.1825, 0.0, -47632.7712, 43675.017, 0.0, -59484.9116, -13011.9315, 51874.4135, -9061.9058, 36790.8662, 31955.1919, 0.0, 0.0, 30868.5827, 41427.5964, 0.0, 0.0, -15253.6294, 46291.7129, 56825.5995, 55630.7003, 0.0, 902.6349, -6352.5867, 46309.5147, 35537.5088, -2471.8272, 55390.4892, -41695.9447, -49360.3413, 0.0, -51849.8971, -49192.7309, 40504.9477, 39562.0692, 0.0, -142.3994, -9829.8791, 37989.5994, -58093.1875, 0.0, 53961.5681, -3973.2907, -6199.9975, -1053.7673, 42868.8967, 43656.7848, -90310.5157, -129846.7581, 0.0, 124772.7334, 749339.8753, -9893.0611, 44106.5627, 44235.3878, 52406.2406, 30959.8455, 47681.3818, 50100.4174, -2618.7499, -102355.6281, 17742.283, 58815.4605, -104610.9968, 0.0, -38342.625, 43267.934, -90936.146, 43118.7143, 51782.7983, -65737.9586, 47776.479, -8181.1895, -37395.5223, -123803.2044, -102308.4352, -58117.915, 0.0, 0.0, 122759.5536, -48616.271, -28487.444, 13823.8847, 45822.1278, 55299.091, -11459.2206, -11845.071, 461.2997, 0.0, -5884.8728, -44268.9738, -55655.5237, -41073.4993, -1938.8295, 0.0, 0.0, 40255.991, 56128.7847, 73344.9276, 0.0, 52188.7008, 35364.07, 16464.2822, 0.0, 54704.2998, -12001.2309, -22592.6969, -8625.8111, -879.5404, 5799.8948, 0.0, 44055.9067, 0.0, -56872.4565, 38543.2938, 73281.8948, 0.0, 0.0, 34289.5378, 37569.1142, 47825.888, -10919.732, 2688.9108, 82436.5349, 52233.6291, 53094.6137, 44687.1139, 52621.1835, 0.0, 0.0, 0.0, 49035.5392, 93131.3715, 83323.8475, 52241.3262, 45001.6649, 51196.3538, 46422.8363, 56810.9316, 43881.1658, 11533.8183, 49238.1067, 54474.8398, 53764.4277, 47622.5579, 41231.9591, 0.0, -9201.3459, -47667.353, 59596.9567, 43374.1222, 97255.1315, 0.0, 330798.4236, 1154568.1383, 3204529.0781])"
      ]
     },
     "execution_count": 114,
     "metadata": {},
     "output_type": "execute_result"
    }
   ],
   "source": [
    "# Coefficients\n",
    "regressor.coefficients"
   ]
  },
  {
   "cell_type": "code",
   "execution_count": 115,
   "metadata": {},
   "outputs": [
    {
     "data": {
      "text/plain": [
       "6553573.548217744"
      ]
     },
     "execution_count": 115,
     "metadata": {},
     "output_type": "execute_result"
    }
   ],
   "source": [
    "# Intercept\n",
    "regressor.intercept"
   ]
  },
  {
   "cell_type": "code",
   "execution_count": 116,
   "metadata": {},
   "outputs": [
    {
     "data": {
      "text/plain": [
       "[Row(Xcols_sscaled=DenseVector([-13.4516, -0.1216, 7.3555, 2.1747, 2.4932, 1.1021, 0.7503, 2.6551, 3.4944, -0.4478, -0.099, -0.0895, -0.0876, -0.0814, -0.0795, -0.0739, -0.0757, -0.0728, -0.0703, -0.0714, -0.0703, -0.0724, -0.0639, -0.0662, -0.0641, -0.0658, -0.0639, -0.0636, -0.0594, -0.0612, -0.0627, -0.0612, -0.0592, -0.0573, -0.0579, -0.054, -0.0546, -0.0554, -0.0552, -0.0573, -0.0538, -0.052, -0.0549, -0.0543, -0.0523, -0.0549, -0.0526, -0.0532, -0.056, -0.0517, -0.0563, -0.0523, -0.052, -0.0523, -0.0523, -0.0484, -0.0496, -0.0487, -0.0505, -0.0484, -0.0496, -0.0493, -0.0481, -0.0484, -0.0493, -0.0465, -0.0481, -0.0461, -0.0461, -0.0474, -0.0478, -0.0487, -0.0487, -0.0487, -0.0471, -0.0474, -0.0471, -0.0465, -0.0444, -0.0455, -0.0451, -0.0474, -0.0461, -0.0451, -0.0451, -0.0444, -0.0461, -0.0441, -0.0465, -0.0465, -0.0451, -0.0448, -0.0455, -0.0455, -0.0465, -0.0444, -0.0465, -0.0461, -0.0434, -0.0451, -0.0455, -0.0448, -0.0413, -0.0455, -0.0441, -0.042, -0.0434, -0.0416, -0.0427, -0.0434, -0.0409, -0.0431, -0.0438, -0.0423, -0.0409, -0.0413, -0.0413, -0.0413, -0.0427, -0.0413, -0.0401, -0.0394, -0.042, -0.0409, -0.0397, -0.0394, -0.0413, -0.0397, -0.0416, -0.0405, -0.0378, -0.0386, -0.0416, -0.0394, -0.0397, -0.0401, -0.0397, -0.0386, -0.0405, -0.0374, -0.0382, -0.0374, -0.0401, -0.039, -0.0357, -0.0382, -0.0382, -0.0394, -0.0401, -0.0378, -0.0386, -0.0405, -0.0366, -0.0382, -0.0366, -0.039, -0.0382, -0.0394, -0.037, -0.037, -0.037, -0.039, -0.039, -0.0394, -0.0378, -0.0361, -0.0374, -0.0378, -0.0335, -0.0361, -0.0378, -0.0357, -0.0366, -0.0353, -0.0361, -0.0344, -0.0374, -0.0366, -0.0361, -0.037, -0.0374, -0.0382, -0.037, -0.0353, -0.0349, -0.0326, -0.0344, -0.0366, -0.0357, -0.037, -0.0366, -0.0357, -0.0366, -0.0361, -0.0357, -0.0331, -0.0344, -0.0326, -0.0321, -0.0349, -0.0344, -0.0312, -0.0353, -0.0349, -0.0353, -0.0344, -0.0344, -0.0331, -0.0349, -0.034, -0.0326, -0.0344, -0.0331, -0.0349, -0.0353, -0.0349, -0.0326, -0.0357, -0.0331, -0.0321, -0.0326, -0.034, -0.0344, -0.0335, -0.0353, -0.0344, -0.034, -0.0344, -0.0317, -0.0307, -0.0335, -0.0335, -0.0331, -0.0344, -0.0307, -0.0317, -0.0326, -0.0312, -0.0326, -0.0321, -0.0335, -0.0335, -0.0335, -0.0321, -0.034, -0.0312, -0.0326, -0.0281, -0.0335, -0.0326, -0.0326, -0.0331, -0.0312, -0.0312, -0.0302, -0.0321, -0.0307, -0.0321, -0.0321, -0.0326, -0.0321, -0.0302, -0.0317, -0.0312, -0.0302, -0.0326, -0.0312, -0.0307, -0.0321, -0.0307, -0.0321, -0.0312, -0.0302, -0.0317, -0.0297, -0.0321, -0.0292, -0.0326, -0.0312, -0.0317, -0.0321, -0.0317, -0.0297, -0.0302, -0.0307, -0.0307, -0.0302, -0.0317, -0.0297, -0.0297, -0.0317, -0.0292, -0.0302, -0.0292, -0.0292, -0.0307, -0.0326, -0.0307, -0.0317, -0.0312, -0.0302, -0.0307, -0.0292, -0.0275, -0.0307, -0.0292, -0.0307, -0.027, -0.0292, -0.0275, -0.0302, -0.0281, -0.0312, -0.0286, -0.0292, -0.0292, -0.0286, -0.0292, -0.0246, -0.0292, -0.0292, -0.0302, -0.0302, -0.0292, -0.0307, -0.0292, -0.027, -0.0275, -0.027, -0.0286, -0.0252, -0.0258, -0.0286, -0.0286, -0.0286, -0.027, -0.0252, -0.0286, -0.0275, -0.0264, -0.0297, -0.0281, -0.0252, -0.0258, -0.027, -0.0292, -0.0297, -0.0281, -0.0292, -0.0275, -0.0258, -0.0264, -0.0264, -0.0234, -0.027, -0.0264, -0.0213, -0.0275, -0.0281, -0.0246, -0.0264, -0.0281, -0.0258, -0.027, -0.0264, -0.0286, -0.0252, -0.0286, -0.0252, -0.027, -0.027, -0.0286, -0.0246, -0.024, -0.0275, -0.0264, -0.0275, -0.0275, -0.0264, -0.0275, -0.0275, -0.0281, -0.024, -0.0234, -0.027, -0.0252, -0.0234, -0.024, -0.0258, -0.027, -0.0264, -0.0246, -0.0258, -0.027, -0.0252, -0.0234, -0.0234, -0.0227, -0.0264, -0.0264, -0.0258, -0.024, -0.0252, -0.0258, -0.0252, -0.0264, -0.0264, -0.024, -0.0258, -0.0246, -0.027, -0.0234, -0.0258, -0.0258, -0.024, -0.0252, -0.0252, -0.0258, -0.0252, -0.0258, -0.0252, -0.022, -0.0252, -0.0246, -0.0252, -0.0227, -0.0227, -0.0234, -0.0234, -0.0258, -0.0234, -0.0252, -0.0246, -0.024, -0.024, -0.024, -0.024, -0.0246, -0.0246, -0.0227, -0.0246, -0.0246, -0.024, -0.024, -0.022, -0.0227, -0.0234, -0.0234, -0.0227, -0.0227, -0.024, -0.0234, -0.0252, -0.0246, -0.024, -0.0234, -0.0234, -0.0206, -0.0227, -0.0206, -0.0234, -0.0227, -0.0227, -0.024, -0.0246, -0.022, -0.0246, -0.024, -0.024, -0.022, -0.0227, -0.0234, -0.0227, -0.0213, -0.022, -0.024, -0.0246, -0.0234, -0.024, -0.0206, -0.0234, -0.022, -0.024, -0.0213, -0.0227, -0.022, -0.0234, -0.0213, -0.0234, -0.0213, -0.022, -0.0227, -0.0234, -0.0199, -0.024, -0.0234, -0.022, -0.0206, -0.022, -0.0227, -0.0234, -0.0234, -0.0234, -0.0227, -0.0234, -0.0191, -0.0206, -0.0213, -0.0213, -0.0234, -0.022, -0.0213, -0.0206, -0.0213, -0.0213, -0.0213, -0.022, -0.022, -0.0213, -0.0199, -0.0199, -0.022, -0.022, -0.0191, -0.0227, -0.0213, -0.0213, -0.0227, -0.0199, -0.0206, -0.0206, -0.0206, -0.0213, -0.0174, -0.0206, -0.0213, -0.022, -0.0213, -0.0227, -0.0206, -0.0213, -0.022, -0.0191, -0.0199, -0.0191, -0.0199, -0.0206, -0.0213, -0.0199, -0.0213, -0.0174, -0.0213, -0.0199, -0.0199, -0.0206, -0.0183, -0.0227, -0.0206, -0.0206, -0.0199, -0.0213, -0.0183, -0.0199, -0.0213, -0.0199, -0.022, -0.0206, -0.0213, -0.0206, -0.0199, -0.022, -0.022, -0.0183, -0.0191, -0.0199, -0.0183, -0.0191, -0.0174, -0.0213, -0.0191, -0.0199, -0.0206, -0.0206, -0.0199, -0.0213, -0.0165, -0.0191, -0.0183, -0.0191, -0.0183, -0.0183, -0.0191, -0.0191, -0.0191, -0.0191, -0.0156, -0.0183, -0.0199, -0.0206, -0.0191, -0.0191, -0.0174, -0.0191, -0.0206, -0.0183, -0.0183, -0.0206, -0.0191, -0.0191, -0.0199, -0.0174, -0.0174, -0.0206, -0.0183, -0.0174, -0.0191, -0.0191, -0.0206, -0.0183, -0.0165, -0.0146, -0.0165, -0.0199, -0.0199, -0.0174, -0.0174, -0.0183, -0.0165, -0.0199, -0.0191, -0.0183, -0.0174, -0.0191, -0.0199, -0.0183, -0.0156, -0.0183, -0.0199, -0.0165, -0.0165, -0.0183, -0.0174, -0.0174, -0.0191, -0.0191, -0.0165, -0.0174, -0.0183, -0.0165, -0.0183, -0.0191, -0.0165, -0.0183, -0.0199, -0.0146, -0.0174, -0.0165, -0.0183, -0.0165, -0.0174, -0.0146, -0.0183, -0.0165, -0.0165, -0.0156, -0.0146, -0.0165, -0.0156, -0.0174, -0.0191, -0.0165, -0.0191, -0.0156, -0.0165, -0.0165, -0.0165, -0.0183, -0.0174, -0.0174, -0.0174, -0.0165, -0.0165, -0.0156, -0.0174, -0.0174, -0.0191, -0.0183, -0.0191, -0.0174, -0.0183, -0.0174, -0.0165, -0.0156, -0.0135, -0.0165, -0.0165, -0.0146, -0.0123, -0.0146, -0.0174, -0.0156, -0.0165, -0.0165, -0.0165, -0.0156, -0.0156, -0.0165, -0.0156, -0.0174, -0.0174, -0.0165, -0.0165, -0.0174, -0.0156, -0.0146, -0.0174, -0.0165, -0.0156, -0.0183, -0.0156, -0.0174, -0.0156, -0.0123, -0.0165, -0.0174, -0.0174, -0.0146, -0.0156, -0.0156, -0.0183, -0.0174, -0.0165, -0.0165, -0.0146, -0.0156, -0.0123, -0.0165, -0.0146, -0.0156, -0.0165, -0.0156, -0.0156, -0.0165, -0.0174, -0.0156, -0.0156, -0.0165, -0.0165, -0.0135, -0.0165, -0.0146, -0.0174, -0.0174, -0.0165, -0.0146, -0.0165, -0.0165, -0.0165, -0.0146, -0.0156, -0.0165, -0.0156, -0.0165, -0.0174, -0.0146, -0.0165, -0.0146, -0.0146, -0.0156, -0.0174, -0.0135, -0.0146, -0.0135, -0.0156, -0.0146, -0.0135, -0.011, -0.0165, -0.0165, -0.0146, -0.0165, -0.0135, -0.0146, -0.0165, -0.0146, -0.0135, -0.0123, -0.0165, -0.0135, -0.0146, -0.0165, -0.0165, -0.0165, -0.0165, -0.0135, -0.0156, -0.0135, -0.0135, -0.0165, -0.0135, -0.0146, -0.0156, -0.0156, -0.0146, -0.0146, -0.0146, -0.0165, -0.0123, -0.0165, -0.0165, -0.0146, -0.0156, -0.0135, -0.0156, -0.0156, -0.0135, -0.0146, -0.0123, -0.0135, -0.0123, -0.0146, -0.0156, -0.0146, -0.0146, -0.0135, -0.0123, -0.0156, -0.0146, -0.0146, -0.0135, -0.0146, -0.0123, -0.0156, -0.0135, -0.0146, -0.0135, -0.0123, -0.0146, -0.0156, -0.0146, -0.011, -0.0123, -0.0146, -0.0135, -0.0156, -0.0146, -0.0146, -0.0135, -0.0146, -0.0146, -0.0123, -0.0123, -0.0146, -0.0156, -0.0146, -0.0156, -0.0146, -0.0135, -0.0146, -0.0156, -0.0135, -0.0146, -0.0156, -0.0135, -0.011, -0.0146, -0.0135, -0.0135, -0.0146, -0.0095, -0.0135, -0.0123, -0.0123, -0.0146, -0.0123, -0.0135, -0.0123, -0.0135, -0.0146, -0.0123, -0.011, -0.0135, -0.0135, -0.0146, -0.0146, -0.0146, -0.0095, -0.0146, -0.0135, -0.0135, -0.0135, -0.0123, -0.0095, -0.0123, -0.0135, -0.011, -0.011, -0.0135, -0.0135, -0.0123, -0.0123, -0.0123, -0.0123, -0.0123, -0.0135, -0.0135, -0.0135, -0.0146, -0.0135, -0.0135, -0.0123, -0.011, -0.0135, -0.0135, -0.0135, -0.0095, -0.0095, -0.0135, -0.011, -0.0123, -0.0123, -0.0135, -0.0123, -0.0123, -0.0095, -0.0123, -0.0123, -0.011, -0.0123, -0.0135, -0.011, -0.011, -0.011, -0.0123, -0.0123, -0.0123, -0.0123, -0.011, -0.0123, -0.0135, -0.011, -0.011, -0.0135, -0.011, -0.0123, -0.011, -0.0123, -0.0123, -0.0095, -0.0123, -0.0095, -0.0123, -0.0135, -0.0135, -0.0123, -0.011, -0.0135, -0.0123, -0.0123, -0.0135, -0.0135, -0.0135, -0.0135, -0.0095, -0.0123, -0.0123, -0.0123, -0.0078, -0.011, -0.0123, -0.011, -0.0123, -0.0078, -0.0123, -0.011, -0.011, -0.011, -0.011, -0.011, -0.0095, -0.0123, -0.0123, -0.011, -0.0123, -0.0078, -0.0123, -0.011, -0.011, -0.011, -0.011, -0.0123, -0.0123, -0.0078, -0.0123, -0.011, -0.011, -0.0095, -0.0095, -0.011, -0.0078, -0.011, -0.011, -0.011, -0.0123, -0.011, -0.011, -0.011, -0.0123, -0.011, -0.011, -0.0123, -0.0095, -0.011, -0.011, -0.011, -0.011, -0.011, -0.0123, -0.011, -0.0123, -0.011, -0.011, -0.011, -0.011, -0.011, -0.011, -0.0123, -0.011, -0.011, -0.011, -0.0055, -0.0123, -0.0095, -0.0123, -0.0123, -0.011, -0.0095, -0.0123, -0.011, -0.0095, -0.0095, -0.0123, -0.0095, -0.0095, -0.011, -0.0095, -0.0078, -0.011, -0.011, -0.0095, -0.011, -0.0078, -0.011, -0.011, -0.011, -0.0095, -0.0095, -0.011, -0.011, -0.0095, -0.011, -0.011, -0.0078, -0.0078, -0.0095, -0.0078, -0.011, -0.0095, -0.0078, -0.0095, -0.0095, -0.0095, -0.0095, -0.011, -0.0078, -0.0078, -0.011, -0.011, -0.011, -0.0078, -0.011, -0.011, -0.0078, -0.0095, -0.0095, -0.0095, -0.0078, -0.011, -0.011, -0.0095, -0.0078, -0.0095, -0.011, -0.011, -0.0078, -0.0078, -0.0078, -0.011, -0.0095, -0.0095, -0.0095, -0.0078, -0.011, -0.0095, -0.011, -0.0078, -0.0095, -0.011, -0.011, -0.0078, -0.0078, -0.011, -0.0095, -0.0095, -0.0095, -0.0095, -0.011, -0.0095, -0.0055, -0.0095, -0.0095, -0.0055, -0.0095, -0.011, -0.0078, -0.0078, -0.0078, -0.0095, -0.0055, -0.0095, -0.0095, -0.0095, -0.0078, -0.0095, -0.0095, -0.0095, -0.0095, -0.0078, -0.0095, 0.0, -0.0095, -0.0078, -0.0078, 0.0, -0.0078, -0.0095, -0.0095, -0.0095, -0.0055, -0.0078, -0.0095, -0.0078, -0.0078, -0.0078, -0.0078, -0.0095, -0.0095, -0.0095, -0.0078, -0.0078, -0.0095, -0.0095, -0.0078, -0.0055, -0.0078, -0.0095, -0.0055, -0.0078, -0.0078, -0.0095, -0.0095, -0.0095, -0.0078, -0.0095, -0.0095, -0.0078, -0.0078, -0.0095, -0.0078, -0.0095, -0.0095, -0.0055, -0.0078, -0.0055, -0.0095, -0.0095, -0.0095, -0.0095, -0.0095, -0.0095, -0.0095, -0.0055, -0.0078, -0.0078, -0.0095, -0.0095, -0.0078, -0.0095, -0.0095, -0.0078, -0.0095, -0.0095, -0.0078, -0.0095, -0.0095, -0.0095, -0.0055, -0.0078, -0.0078, -0.0095, -0.0095, -0.0078, -0.0078, -0.0095, -0.0095, -0.0095, -0.0095, -0.0078, -0.0095, -0.0095, -0.0095, -0.0095, -0.0095, -0.0055, -0.0078, -0.0095, -0.0078, -0.0095, -0.0055, -0.0095, -0.0055, -0.0095, -0.0055, -0.0095, -0.0095, -0.0095, -0.0078, -0.0078, -0.0095, -0.0078, -0.0095, -0.0095, -0.0095, -0.0095, -0.0095, -0.0078, -0.0095, -0.0095, -0.0095, -0.0095, -0.0078, -0.0078, 0.0, -0.0078, -0.0078, -0.0078, -0.0055, -0.0055, -0.0055, -0.0078, -0.0055, -0.0055, -0.0055, -0.0078, -0.0078, -0.0078, -0.0055, -0.0078, -0.0078, -0.0078, -0.0078, -0.0078, -0.0055, -0.0078, -0.0055, -0.0078, -0.0055, -0.0055, -0.0055, -0.0078, -0.0078, -0.0078, -0.0078, -0.0055, -0.0078, -0.0078, -0.0055, -0.0078, -0.0055, -0.0078, -0.0055, -0.0078, -0.0055, -0.0078, 0.0, -0.0055, -0.0078, -0.0078, -0.0078, -0.0078, -0.0055, -0.0078, -0.0055, -0.0078, -0.0078, -0.0055, -0.0055, -0.0078, -0.0055, -0.0078, -0.0078, -0.0055, -0.0055, -0.0055, -0.0055, 128.3783, -0.0078, -0.0055, -0.0078, -0.0078, -0.0078, -0.0055, -0.0078, -0.0078, -0.0055, -0.0078, -0.0055, -0.0078, -0.0078, -0.0078, -0.0055, -0.0078, -0.0078, -0.0055, -0.0078, -0.0078, -0.0055, -0.0055, -0.0055, -0.0078, -0.0078, -0.0078, -0.0078, -0.0078, -0.0055, -0.0078, -0.0078, -0.0078, 0.0, -0.0078, -0.0078, -0.0055, -0.0078, -0.0055, 0.0, -0.0078, -0.0078, -0.0055, -0.0078, -0.0055, -0.0078, -0.0078, -0.0078, -0.0078, -0.0078, -0.0078, -0.0078, 0.0, -0.0078, -0.0078, -0.0078, -0.0055, -0.0055, -0.0055, -0.0078, -0.0078, 0.0, -0.0055, -0.0078, -0.0055, -0.0055, -0.0078, -0.0078, -0.0078, -0.0055, -0.0078, 0.0, -0.0078, -0.0078, -0.0078, -0.0078, -0.0078, -0.0078, -0.0055, -0.0055, -0.0078, -0.0055, -0.0055, -0.0078, -0.0078, -0.0078, -0.0078, -0.0078, -0.0055, -0.0078, -0.0055, -0.0078, -0.0078, -0.0055, -0.0078, -0.0078, -0.0078, -0.0078, -0.0055, -0.0055, -0.0078, -0.0055, -0.0055, -0.0055, -0.0055, -0.0055, -0.0055, -0.0055, -0.0055, -0.0055, -0.0055, -0.0055, -0.0055, 0.0, -0.0055, 0.0, -0.0055, -0.0055, -0.0055, -0.0055, -0.0055, -0.0055, 0.0, -0.0055, -0.0055, -0.0055, -0.0055, -0.0055, -0.0055, -0.0055, -0.0055, -0.0055, -0.0055, -0.0055, -0.0055, 0.0, 0.0, -0.0055, -0.0055, -0.0055, 0.0, -0.0055, -0.0055, -0.0055, -0.0055, -0.0055, -0.0055, -0.0055, -0.0055, -0.0055, -0.0055, -0.0055, -0.0055, -0.0055, -0.0055, 0.0, -0.0055, -0.0055, -0.0055, -0.0055, 0.0, -0.0055, -0.0055, 0.0, -0.0055, -0.0055, -0.0055, -0.0055, -0.0055, -0.0055, 0.0, -0.0055, -0.0055, -0.0055, -0.0055, -0.0055, -0.0055, -0.0055, -0.0055, -0.0055, 0.0, -0.0055, -0.0055, -0.0055, -0.0055, 0.0, 0.0, -0.0055, -0.0055, -0.0055, -0.0055, -0.0055, -0.0055, -0.0055, 0.0, -0.0055, 0.0, -0.0055, -0.0055, -0.0055, -0.0055, -0.0055, -0.0055, -0.0055, -0.0055, -0.0055, -0.0055, -0.0055, -0.0055, -0.0055, -0.0055, -0.0055, -0.0055, -0.0055, -0.0055, 0.0, -0.0055, -0.0055, -0.0055, -0.0055, -0.0055, -0.0055, 0.0, -0.0055, -0.0055, 0.0, -0.0055, -0.0055, 0.0, -0.0055, -0.0055, -0.0055, -0.0055, -0.0055, -0.0055, 0.0, 0.0, -0.0055, -0.0055, 0.0, 0.0, -0.0055, -0.0055, -0.0055, -0.0055, 0.0, -0.0055, -0.0055, -0.0055, -0.0055, -0.0055, -0.0055, -0.0055, -0.0055, 0.0, -0.0055, -0.0055, -0.0055, -0.0055, 0.0, -0.0055, -0.0055, -0.0055, -0.0055, 0.0, -0.0055, -0.0055, -0.0055, -0.0055, -0.0055, -0.0055, -0.0055, -0.0055, 0.0, -0.0055, -0.0055, -0.0055, -0.0055, -0.0055, -0.0055, -0.0055, -0.0055, -0.0055, -0.0055, -0.0055, -0.0055, -0.0055, -0.0055, 0.0, -0.0055, -0.0055, -0.0055, -0.0055, -0.0055, -0.0055, -0.0055, -0.0055, -0.0055, -0.0055, -0.0055, -0.0055, 0.0, 0.0, -0.0055, -0.0055, -0.0055, -0.0055, -0.0055, -0.0055, -0.0055, -0.0055, -0.0055, 0.0, -0.0055, -0.0055, -0.0055, -0.0055, -0.0055, 0.0, 0.0, -0.0055, -0.0055, -0.0055, 0.0, -0.0055, -0.0055, -0.0055, 0.0, -0.0055, -0.0055, -0.0055, -0.0055, -0.0055, -0.0055, 0.0, -0.0055, 0.0, -0.0055, -0.0055, -0.0055, 0.0, 0.0, -0.0055, -0.0055, -0.0055, -0.0055, -0.0055, -0.0055, -0.0055, -0.0055, -0.0055, -0.0055, 0.0, 0.0, 0.0, -0.0055, -0.0055, -0.0055, -0.0055, -0.0055, -0.0055, -0.0055, -0.0055, -0.0055, -0.0055, -0.0055, -0.0055, -0.0055, -0.0055, -0.0055, 0.0, -0.0055, -0.0055, -0.0055, -0.0055, -0.0055, 0.0, 2.7713, 2.7724, -0.0146]), price=55500000.0)]"
      ]
     },
     "execution_count": 116,
     "metadata": {},
     "output_type": "execute_result"
    }
   ],
   "source": [
    "# first row values of Xcols_sscaled\n",
    "train_model_3_data.take(1)"
   ]
  },
  {
   "cell_type": "code",
   "execution_count": 117,
   "metadata": {},
   "outputs": [],
   "source": [
    "train_model_3_pred_results=regressor.evaluate(train_model_3_data)"
   ]
  },
  {
   "cell_type": "code",
   "execution_count": 118,
   "metadata": {},
   "outputs": [],
   "source": [
    "test_model_3_pred_results=regressor.evaluate(test_model_3_data)"
   ]
  },
  {
   "cell_type": "code",
   "execution_count": 119,
   "metadata": {},
   "outputs": [
    {
     "data": {
      "text/plain": [
       "(2278216.6204669066, 53246560400621.64, 0.6986659228359682)"
      ]
     },
     "execution_count": 119,
     "metadata": {},
     "output_type": "execute_result"
    }
   ],
   "source": [
    "train_model_3_pred_results.meanAbsoluteError, train_model_3_pred_results.meanSquaredError, train_model_3_pred_results.r2"
   ]
  },
  {
   "cell_type": "code",
   "execution_count": 120,
   "metadata": {},
   "outputs": [
    {
     "data": {
      "text/plain": [
       "(2641342.188090032, 67114287744159.305, 0.6194765179558197)"
      ]
     },
     "execution_count": 120,
     "metadata": {},
     "output_type": "execute_result"
    }
   ],
   "source": [
    "test_model_3_pred_results.meanAbsoluteError, test_model_3_pred_results.meanSquaredError, test_model_3_pred_results.r2"
   ]
  },
  {
   "cell_type": "code",
   "execution_count": 121,
   "metadata": {},
   "outputs": [
    {
     "name": "stdout",
     "output_type": "stream",
     "text": [
      "+--------------------+---------+\n",
      "|       Xcols_sscaled|    price|\n",
      "+--------------------+---------+\n",
      "|[-1.8979329793434...|2700000.0|\n",
      "|[-1.4119436122098...|5026130.0|\n",
      "+--------------------+---------+\n",
      "\n"
     ]
    }
   ],
   "source": [
    "pyspark_two_rows = test_model_3_data.limit(2)\n",
    "pyspark_two_rows.show()"
   ]
  },
  {
   "cell_type": "code",
   "execution_count": 122,
   "metadata": {},
   "outputs": [
    {
     "name": "stdout",
     "output_type": "stream",
     "text": [
      "+--------------------+---------+------------------+\n",
      "|       Xcols_sscaled|    price|        prediction|\n",
      "+--------------------+---------+------------------+\n",
      "|[-1.8979329793434...|2700000.0|-771504.8050935194|\n",
      "|[-1.4119436122098...|5026130.0| 4285026.130687842|\n",
      "+--------------------+---------+------------------+\n",
      "\n"
     ]
    }
   ],
   "source": [
    "regressor.evaluate(pyspark_two_rows).predictions.show()"
   ]
  },
  {
   "cell_type": "code",
   "execution_count": 123,
   "metadata": {},
   "outputs": [
    {
     "data": {
      "text/plain": [
       "DataFrame[Xcols_sscaled: vector, price: double]"
      ]
     },
     "execution_count": 123,
     "metadata": {},
     "output_type": "execute_result"
    }
   ],
   "source": [
    "pyspark_two_rows"
   ]
  },
  {
   "cell_type": "code",
   "execution_count": 124,
   "metadata": {},
   "outputs": [
    {
     "data": {
      "text/html": [
       "<table border='1'>\n",
       "<tr><th>Xcols_sscaled</th><th>price</th></tr>\n",
       "<tr><td>[-1.8979329793434...</td><td>2700000.0</td></tr>\n",
       "<tr><td>[-1.4119436122098...</td><td>5026130.0</td></tr>\n",
       "</table>\n"
      ],
      "text/plain": [
       "DataFrame[Xcols_sscaled: vector, price: double]"
      ]
     },
     "execution_count": 124,
     "metadata": {},
     "output_type": "execute_result"
    }
   ],
   "source": [
    "spark.conf.set(\"spark.sql.repl.eagerEval.enabled\",True)\n",
    "pyspark_two_rows"
   ]
  },
  {
   "cell_type": "code",
   "execution_count": 125,
   "metadata": {},
   "outputs": [
    {
     "data": {
      "text/plain": [
       "DataFrame[Xcols_sscaled: vector, price: double]"
      ]
     },
     "execution_count": 125,
     "metadata": {},
     "output_type": "execute_result"
    }
   ],
   "source": [
    "spark.conf.set(\"spark.sql.repl.eagerEval.enabled\",False)\n",
    "pyspark_two_rows"
   ]
  },
  {
   "cell_type": "markdown",
   "metadata": {},
   "source": [
    "#### Further model improvements for model 2"
   ]
  },
  {
   "cell_type": "code",
   "execution_count": 126,
   "metadata": {},
   "outputs": [
    {
     "name": "stdout",
     "output_type": "stream",
     "text": [
      "\n",
      "Linear Regression - Training Set MAE: 2221322.827428985\n",
      "Linear Regression - Training Set MSE: 52428915593266.57\n",
      "Linear Regression - Training Set R-squared (R²): 0.7032931558744693\n",
      "\n",
      "Linear Regression - Test Set MAE: 2655175.313166682\n",
      "Linear Regression - Test Set MSE: 66666688455377.32\n",
      "Linear Regression - Test Set R-squared (R²): 0.6220143090231567\n",
      "\n",
      "Decision Tree - Training Set MAE: 2779620.210571641\n",
      "Decision Tree - Training Set MSE: 67627645449715.01\n",
      "Decision Tree - Training Set R-squared (R²): 0.7856718002717037\n",
      "\n",
      "Decision Tree - Test Set MAE: 2953798.607461377\n",
      "Decision Tree - Test Set MSE: 99455908510831.47\n",
      "Decision Tree - Test Set R-squared (R²): 0.696830158821307\n",
      "\n",
      "Random Forest - Training Set MAE: 2598355.686746887\n",
      "Random Forest - Training Set MSE: 62624333482092.14\n",
      "Random Forest - Training Set R-squared (R²): 0.8155487371989021\n",
      "\n",
      "Random Forest - Test Set MAE: 5871525.975807339\n",
      "Random Forest - Test Set MSE: 95854585742236.03\n",
      "Random Forest - Test Set R-squared (R²): 0.7483835192516892\n"
     ]
    }
   ],
   "source": [
    "from pyspark.ml.regression import DecisionTreeRegressor\n",
    "from pyspark.ml.evaluation import RegressionEvaluator\n",
    "\n",
    "\n",
    "# Print relevant information for training set\n",
    "print(\"\\nLinear Regression - Training Set MAE:\", train_model_2_pred_results.meanAbsoluteError)\n",
    "print(\"Linear Regression - Training Set MSE:\", train_model_2_pred_results.meanSquaredError)\n",
    "print(\"Linear Regression - Training Set R-squared (R²):\", train_model_2_pred_results.r2)\n",
    "\n",
    "# Print relevant information for test set\n",
    "print(\"\\nLinear Regression - Test Set MAE:\", test_model_2_pred_results.meanAbsoluteError)\n",
    "print(\"Linear Regression - Test Set MSE:\", test_model_2_pred_results.meanSquaredError)\n",
    "print(\"Linear Regression - Test Set R-squared (R²):\", test_model_2_pred_results.r2)\n",
    "\n",
    "# Create a DecisionTreeRegressor\n",
    "decisiontreeregressor = DecisionTreeRegressor(featuresCol=\"Xcols_sscaled\", labelCol=\"price\")\n",
    "\n",
    "# Train the model on 'train_model_2_data'\n",
    "dt_model = decisiontreeregressor.fit(train_model_2_data)\n",
    "\n",
    "type(decisiontreeregressor)\n",
    "\n",
    "from pyspark.ml.regression import RandomForestRegressor\n",
    "from pyspark.ml.evaluation import RegressionEvaluator\n",
    "\n",
    "# Assuming you have already trained the RandomForestRegressor model\n",
    "forestregressor = RandomForestRegressor(featuresCol=\"Xcols_sscaled\", labelCol='price').setSeed(42)\n",
    "ft_model = forestregressor.fit(train_model_2_data)\n",
    "\n",
    "\n",
    "type(forestregressor)\n",
    "\n",
    "\n",
    "# Make predictions on the training set\n",
    "train_predictions_dt = dt_model.transform(train_model_2_data)\n",
    "\n",
    "# Use RegressionEvaluator to obtain evaluation metrics for training set\n",
    "train_evaluator_mae_dt = RegressionEvaluator(labelCol=\"price\", predictionCol=\"prediction\", metricName=\"mae\")\n",
    "train_mae_dt = train_evaluator_mae_dt.evaluate(train_predictions_dt)\n",
    "train_evaluator_mse_dt = RegressionEvaluator(labelCol=\"price\", predictionCol=\"prediction\", metricName=\"mse\")\n",
    "train_mse_dt = train_evaluator_mse_dt.evaluate(train_predictions_dt)\n",
    "\n",
    "# Compute R-squared separately for training set\n",
    "train_r2_dt = train_predictions_dt.stat.corr(\"price\", \"prediction\")  \n",
    "\n",
    "\n",
    "\n",
    "# Make predictions on the test set\n",
    "test_predictions_dt = dt_model.transform(test_model_2_data)\n",
    "\n",
    "# Use RegressionEvaluator to obtain evaluation metrics for test set\n",
    "test_evaluator_mae_dt = RegressionEvaluator(labelCol=\"price\", predictionCol=\"prediction\", metricName=\"mae\")\n",
    "test_mae_dt = test_evaluator_mae_dt.evaluate(test_predictions_dt)\n",
    "test_evaluator_mse_dt = RegressionEvaluator(labelCol=\"price\", predictionCol=\"prediction\", metricName=\"mse\")\n",
    "test_mse_dt = test_evaluator_mse_dt.evaluate(test_predictions_dt)\n",
    "\n",
    "# Compute R-squared separately for test set\n",
    "test_r2_dt = test_predictions_dt.stat.corr(\"price\", \"prediction\")  \n",
    "\n",
    "train_model_2_pred_results.meanAbsoluteError, train_model_2_pred_results.meanSquaredError, train_model_2_pred_results.r2\n",
    "\n",
    "\n",
    "# Print relevant information for training set\n",
    "print(\"\\nDecision Tree - Training Set MAE:\", train_mae_dt)\n",
    "print(\"Decision Tree - Training Set MSE:\", train_mse_dt)\n",
    "print(\"Decision Tree - Training Set R-squared (R²):\", train_r2_dt)\n",
    "\n",
    "# Print relevant information for test set\n",
    "print(\"\\nDecision Tree - Test Set MAE:\", test_mae_dt)\n",
    "print(\"Decision Tree - Test Set MSE:\", test_mse_dt)\n",
    "print(\"Decision Tree - Test Set R-squared (R²):\", test_r2_dt)\n",
    "\n",
    "\n",
    "### Using Random Forest Regressor\n",
    "\n",
    "from pyspark.ml.evaluation import RegressionEvaluator\n",
    "\n",
    "# Make predictions on the training set\n",
    "train_predictions = ft_model.transform(train_model_2_data)\n",
    "\n",
    "# Use RegressionEvaluator to obtain evaluation metrics for training set\n",
    "train_evaluator_mae = RegressionEvaluator(labelCol=\"price\", predictionCol=\"prediction\", metricName=\"mae\")\n",
    "train_mae = train_evaluator_mae.evaluate(train_predictions)\n",
    "train_evaluator_mse = RegressionEvaluator(labelCol=\"price\", predictionCol=\"prediction\", metricName=\"mse\")\n",
    "train_mse = train_evaluator_mse.evaluate(train_predictions)\n",
    "\n",
    "# Compute R-squared separately for training set\n",
    "train_r2 = train_predictions.stat.corr(\"price\", \"prediction\")  \n",
    "\n",
    "\n",
    "# Make predictions on the test set\n",
    "test_predictions = ft_model.transform(test_model_2_data)\n",
    "\n",
    "# Use RegressionEvaluator to obtain evaluation metrics for test set\n",
    "test_evaluator_mae = RegressionEvaluator(labelCol=\"price\", predictionCol=\"prediction\", metricName=\"mae\")\n",
    "test_mae = test_evaluator_mae.evaluate(test_predictions)\n",
    "test_evaluator_mse = RegressionEvaluator(labelCol=\"price\", predictionCol=\"prediction\", metricName=\"mse\")\n",
    "test_mse = test_evaluator_mse.evaluate(test_predictions)\n",
    "\n",
    "# Compute R-squared separately for test set\n",
    "test_r2 = test_predictions.stat.corr(\"price\", \"prediction\")  \n",
    "\n",
    "\n",
    "# Print relevant information for training set\n",
    "print(\"\\nRandom Forest - Training Set MAE:\", train_mae)\n",
    "print(\"Random Forest - Training Set MSE:\", train_mse)\n",
    "print(\"Random Forest - Training Set R-squared (R²):\", train_r2)\n",
    "\n",
    "# Print relevant information for test set\n",
    "print(\"\\nRandom Forest - Test Set MAE:\", test_mae)\n",
    "print(\"Random Forest - Test Set MSE:\", test_mse)\n",
    "print(\"Random Forest - Test Set R-squared (R²):\", test_r2)"
   ]
  },
  {
   "cell_type": "markdown",
   "metadata": {},
   "source": [
    "## Model Evaluation and Selection\n",
    "\n",
    "### Utilize Model Metrics for Evaluation \n",
    "To improve my model performance, I created a second model which introduced four new features, elevating the dimensionality of the train-test dataset to (32965, 27) and (8343, 27) respectively. The augmentation of feature space resulted in a notable improvement in model performance, as evidenced by the R-squared values. The training R-squared increased to 0.7033, denoting a 70.33% explanation of the variance, while the test R-squared exhibited a commendable increase to 0.6220, indicating a robust generalization capability.\n",
    "\n",
    "Next, a third model was conceived to explore the impact of dropping a subset of columns. A strategic removal of 13 columns culminated in a train-test dataset dimensionality of (32965, 14) and (8343, 14). The training R-squared at 0.6987 and the test R-squared at 0.6195.\n",
    "\n",
    "### Compare Models and Decide on Final Model \n",
    "To decide on a final model, I chose the second model as it demonstrated better predictive performance, with higher R-squared values on both the training and test sets, showcasing its ability to capture complex patterns within the data.\n",
    "\n",
    "To further refine this model, I used a decision tree and a random forest apart from my existing linear regression model. The decision tree model exhibited improved performance on the training set, boasting a lower MAE, and a higher R-square of 0.7717, while the test set R-square was 0.7005. The random forest regressor, however, outperformed both models, achieving a training set with a train R-square of 0.816 and a test R-square of 0.748. In the end, I selected the second model employing the random forest regressor for the final iteration.\n",
    "\n"
   ]
  },
  {
   "cell_type": "markdown",
   "metadata": {},
   "source": [
    "### Step 6: Report<a id=\"part6\"></a>"
   ]
  },
  {
   "cell_type": "markdown",
   "metadata": {},
   "source": [
    "## Summary and Further Improvements\n",
    "\n",
    "### Summarize your findings\n",
    "In summary, this comprehensive data analysis and machine learning modelling aimed to predict property prices in Thailand by exploring the dataset, revealing its structure, dimensions, and inherent values. Subsequent steps involved exploratory data analysis, data cleansing, and data wrangling, addressing anomalies, potential errors, and missing values. Transformation techniques, such as winsorization, binning, and one-hot encoding, were strategically applied to refine the dataset for predictive modelling. The machine learning phase witnessed the creation of predictive models, including a Linear Regression, decision tree and random forest models, and subsequent iterations with additional features and feature reduction. The decision-making process favoured a model that struck a balance between complexity and performance, resulting in the selection of my second model utilising the random forest regressor.\n",
    "\n",
    "### Explain the possible further improvements\n",
    "Further improvements include continued exploration of advanced modelling techniques, such as ensemble methods or non-linear models, to uncover hidden patterns and enhance predictive accuracy. Additionally, fine-tuning hyperparameters and conducting more in-depth feature engineering might contribute to incremental improvements. Lastly, incorporating external factors that influence property prices through external data could further enrich the predictive capabilities of the model.\n"
   ]
  },
  {
   "cell_type": "code",
   "execution_count": null,
   "metadata": {},
   "outputs": [],
   "source": []
  }
 ],
 "metadata": {
  "kernelspec": {
   "display_name": "Python 3 (ipykernel)",
   "language": "python",
   "name": "python3"
  },
  "language_info": {
   "codemirror_mode": {
    "name": "ipython",
    "version": 3
   },
   "file_extension": ".py",
   "mimetype": "text/x-python",
   "name": "python",
   "nbconvert_exporter": "python",
   "pygments_lexer": "ipython3",
   "version": "3.9.12"
  }
 },
 "nbformat": 4,
 "nbformat_minor": 4
}
